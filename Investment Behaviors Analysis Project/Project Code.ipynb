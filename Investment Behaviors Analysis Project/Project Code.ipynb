{
  "cells": [
    {
      "cell_type": "markdown",
      "metadata": {
        "color": "purple",
        "cell_id": "036d3fab90034b8d9127c153a5066a4a",
        "deepnote_cell_type": "text-cell-callout",
        "id": "cyJsDRdknEvF"
      },
      "source": [
        "# **Project**: A comprehensive analysis on finance data\n",
        "\n"
      ]
    },
    {
      "cell_type": "markdown",
      "source": [
        "## **Data Reading**"
      ],
      "metadata": {
        "id": "miLfDALen4Vj"
      }
    },
    {
      "cell_type": "code",
      "metadata": {
        "source_hash": null,
        "execution_start": 1706552880856,
        "execution_millis": 349,
        "deepnote_to_be_reexecuted": false,
        "cell_id": "6fb098e26fe54a86b372197a59f4bd15",
        "deepnote_cell_type": "code",
        "colab": {
          "base_uri": "https://localhost:8080/",
          "height": 446
        },
        "id": "ZQ2y4vkdnEvI",
        "outputId": "301143c2-c68b-44b2-b437-6e5dfa3fe7da"
      },
      "source": [
        "# Importing necessary libraries\n",
        "import pandas as pd\n",
        "\n",
        "# Loading the dataset\n",
        "df = pd.read_csv('/content/Finance_data.csv')\n",
        "\n",
        "# Displaying the first five rows of the dataframe\n",
        "df.head()"
      ],
      "execution_count": null,
      "outputs": [
        {
          "output_type": "execute_result",
          "data": {
            "text/plain": [
              "   gender  age Investment_Avenues  Mutual_Funds  Equity_Market  Debentures  \\\n",
              "0  Female   34                Yes             1              2           5   \n",
              "1  Female   23                Yes             4              3           2   \n",
              "2    Male   30                Yes             3              6           4   \n",
              "3    Male   22                Yes             2              1           3   \n",
              "4  Female   24                 No             2              1           3   \n",
              "\n",
              "   Government_Bonds  Fixed_Deposits  PPF  Gold  ...           Duration  \\\n",
              "0                 3               7    6     4  ...          1-3 years   \n",
              "1                 1               5    6     7  ...  More than 5 years   \n",
              "2                 2               5    1     7  ...          3-5 years   \n",
              "3                 7               6    4     5  ...   Less than 1 year   \n",
              "4                 6               4    5     7  ...   Less than 1 year   \n",
              "\n",
              "  Invest_Monitor   Expect       Avenue What are your savings objectives?  \\\n",
              "0        Monthly  20%-30%  Mutual Fund                   Retirement Plan   \n",
              "1         Weekly  20%-30%  Mutual Fund                       Health Care   \n",
              "2          Daily  20%-30%       Equity                   Retirement Plan   \n",
              "3          Daily  10%-20%       Equity                   Retirement Plan   \n",
              "4          Daily  20%-30%       Equity                   Retirement Plan   \n",
              "\n",
              "          Reason_Equity         Reason_Mutual     Reason_Bonds  \\\n",
              "0  Capital Appreciation        Better Returns  Safe Investment   \n",
              "1              Dividend        Better Returns  Safe Investment   \n",
              "2  Capital Appreciation          Tax Benefits  Assured Returns   \n",
              "3              Dividend  Fund Diversification   Tax Incentives   \n",
              "4  Capital Appreciation        Better Returns  Safe Investment   \n",
              "\n",
              "             Reason_FD                    Source  \n",
              "0        Fixed Returns  Newspapers and Magazines  \n",
              "1  High Interest Rates     Financial Consultants  \n",
              "2        Fixed Returns                Television  \n",
              "3  High Interest Rates                  Internet  \n",
              "4            Risk Free                  Internet  \n",
              "\n",
              "[5 rows x 24 columns]"
            ],
            "text/html": [
              "\n",
              "  <div id=\"df-b6c6929c-3260-457f-8bce-c14b5f793152\" class=\"colab-df-container\">\n",
              "    <div>\n",
              "<style scoped>\n",
              "    .dataframe tbody tr th:only-of-type {\n",
              "        vertical-align: middle;\n",
              "    }\n",
              "\n",
              "    .dataframe tbody tr th {\n",
              "        vertical-align: top;\n",
              "    }\n",
              "\n",
              "    .dataframe thead th {\n",
              "        text-align: right;\n",
              "    }\n",
              "</style>\n",
              "<table border=\"1\" class=\"dataframe\">\n",
              "  <thead>\n",
              "    <tr style=\"text-align: right;\">\n",
              "      <th></th>\n",
              "      <th>gender</th>\n",
              "      <th>age</th>\n",
              "      <th>Investment_Avenues</th>\n",
              "      <th>Mutual_Funds</th>\n",
              "      <th>Equity_Market</th>\n",
              "      <th>Debentures</th>\n",
              "      <th>Government_Bonds</th>\n",
              "      <th>Fixed_Deposits</th>\n",
              "      <th>PPF</th>\n",
              "      <th>Gold</th>\n",
              "      <th>...</th>\n",
              "      <th>Duration</th>\n",
              "      <th>Invest_Monitor</th>\n",
              "      <th>Expect</th>\n",
              "      <th>Avenue</th>\n",
              "      <th>What are your savings objectives?</th>\n",
              "      <th>Reason_Equity</th>\n",
              "      <th>Reason_Mutual</th>\n",
              "      <th>Reason_Bonds</th>\n",
              "      <th>Reason_FD</th>\n",
              "      <th>Source</th>\n",
              "    </tr>\n",
              "  </thead>\n",
              "  <tbody>\n",
              "    <tr>\n",
              "      <th>0</th>\n",
              "      <td>Female</td>\n",
              "      <td>34</td>\n",
              "      <td>Yes</td>\n",
              "      <td>1</td>\n",
              "      <td>2</td>\n",
              "      <td>5</td>\n",
              "      <td>3</td>\n",
              "      <td>7</td>\n",
              "      <td>6</td>\n",
              "      <td>4</td>\n",
              "      <td>...</td>\n",
              "      <td>1-3 years</td>\n",
              "      <td>Monthly</td>\n",
              "      <td>20%-30%</td>\n",
              "      <td>Mutual Fund</td>\n",
              "      <td>Retirement Plan</td>\n",
              "      <td>Capital Appreciation</td>\n",
              "      <td>Better Returns</td>\n",
              "      <td>Safe Investment</td>\n",
              "      <td>Fixed Returns</td>\n",
              "      <td>Newspapers and Magazines</td>\n",
              "    </tr>\n",
              "    <tr>\n",
              "      <th>1</th>\n",
              "      <td>Female</td>\n",
              "      <td>23</td>\n",
              "      <td>Yes</td>\n",
              "      <td>4</td>\n",
              "      <td>3</td>\n",
              "      <td>2</td>\n",
              "      <td>1</td>\n",
              "      <td>5</td>\n",
              "      <td>6</td>\n",
              "      <td>7</td>\n",
              "      <td>...</td>\n",
              "      <td>More than 5 years</td>\n",
              "      <td>Weekly</td>\n",
              "      <td>20%-30%</td>\n",
              "      <td>Mutual Fund</td>\n",
              "      <td>Health Care</td>\n",
              "      <td>Dividend</td>\n",
              "      <td>Better Returns</td>\n",
              "      <td>Safe Investment</td>\n",
              "      <td>High Interest Rates</td>\n",
              "      <td>Financial Consultants</td>\n",
              "    </tr>\n",
              "    <tr>\n",
              "      <th>2</th>\n",
              "      <td>Male</td>\n",
              "      <td>30</td>\n",
              "      <td>Yes</td>\n",
              "      <td>3</td>\n",
              "      <td>6</td>\n",
              "      <td>4</td>\n",
              "      <td>2</td>\n",
              "      <td>5</td>\n",
              "      <td>1</td>\n",
              "      <td>7</td>\n",
              "      <td>...</td>\n",
              "      <td>3-5 years</td>\n",
              "      <td>Daily</td>\n",
              "      <td>20%-30%</td>\n",
              "      <td>Equity</td>\n",
              "      <td>Retirement Plan</td>\n",
              "      <td>Capital Appreciation</td>\n",
              "      <td>Tax Benefits</td>\n",
              "      <td>Assured Returns</td>\n",
              "      <td>Fixed Returns</td>\n",
              "      <td>Television</td>\n",
              "    </tr>\n",
              "    <tr>\n",
              "      <th>3</th>\n",
              "      <td>Male</td>\n",
              "      <td>22</td>\n",
              "      <td>Yes</td>\n",
              "      <td>2</td>\n",
              "      <td>1</td>\n",
              "      <td>3</td>\n",
              "      <td>7</td>\n",
              "      <td>6</td>\n",
              "      <td>4</td>\n",
              "      <td>5</td>\n",
              "      <td>...</td>\n",
              "      <td>Less than 1 year</td>\n",
              "      <td>Daily</td>\n",
              "      <td>10%-20%</td>\n",
              "      <td>Equity</td>\n",
              "      <td>Retirement Plan</td>\n",
              "      <td>Dividend</td>\n",
              "      <td>Fund Diversification</td>\n",
              "      <td>Tax Incentives</td>\n",
              "      <td>High Interest Rates</td>\n",
              "      <td>Internet</td>\n",
              "    </tr>\n",
              "    <tr>\n",
              "      <th>4</th>\n",
              "      <td>Female</td>\n",
              "      <td>24</td>\n",
              "      <td>No</td>\n",
              "      <td>2</td>\n",
              "      <td>1</td>\n",
              "      <td>3</td>\n",
              "      <td>6</td>\n",
              "      <td>4</td>\n",
              "      <td>5</td>\n",
              "      <td>7</td>\n",
              "      <td>...</td>\n",
              "      <td>Less than 1 year</td>\n",
              "      <td>Daily</td>\n",
              "      <td>20%-30%</td>\n",
              "      <td>Equity</td>\n",
              "      <td>Retirement Plan</td>\n",
              "      <td>Capital Appreciation</td>\n",
              "      <td>Better Returns</td>\n",
              "      <td>Safe Investment</td>\n",
              "      <td>Risk Free</td>\n",
              "      <td>Internet</td>\n",
              "    </tr>\n",
              "  </tbody>\n",
              "</table>\n",
              "<p>5 rows × 24 columns</p>\n",
              "</div>\n",
              "    <div class=\"colab-df-buttons\">\n",
              "\n",
              "  <div class=\"colab-df-container\">\n",
              "    <button class=\"colab-df-convert\" onclick=\"convertToInteractive('df-b6c6929c-3260-457f-8bce-c14b5f793152')\"\n",
              "            title=\"Convert this dataframe to an interactive table.\"\n",
              "            style=\"display:none;\">\n",
              "\n",
              "  <svg xmlns=\"http://www.w3.org/2000/svg\" height=\"24px\" viewBox=\"0 -960 960 960\">\n",
              "    <path d=\"M120-120v-720h720v720H120Zm60-500h600v-160H180v160Zm220 220h160v-160H400v160Zm0 220h160v-160H400v160ZM180-400h160v-160H180v160Zm440 0h160v-160H620v160ZM180-180h160v-160H180v160Zm440 0h160v-160H620v160Z\"/>\n",
              "  </svg>\n",
              "    </button>\n",
              "\n",
              "  <style>\n",
              "    .colab-df-container {\n",
              "      display:flex;\n",
              "      gap: 12px;\n",
              "    }\n",
              "\n",
              "    .colab-df-convert {\n",
              "      background-color: #E8F0FE;\n",
              "      border: none;\n",
              "      border-radius: 50%;\n",
              "      cursor: pointer;\n",
              "      display: none;\n",
              "      fill: #1967D2;\n",
              "      height: 32px;\n",
              "      padding: 0 0 0 0;\n",
              "      width: 32px;\n",
              "    }\n",
              "\n",
              "    .colab-df-convert:hover {\n",
              "      background-color: #E2EBFA;\n",
              "      box-shadow: 0px 1px 2px rgba(60, 64, 67, 0.3), 0px 1px 3px 1px rgba(60, 64, 67, 0.15);\n",
              "      fill: #174EA6;\n",
              "    }\n",
              "\n",
              "    .colab-df-buttons div {\n",
              "      margin-bottom: 4px;\n",
              "    }\n",
              "\n",
              "    [theme=dark] .colab-df-convert {\n",
              "      background-color: #3B4455;\n",
              "      fill: #D2E3FC;\n",
              "    }\n",
              "\n",
              "    [theme=dark] .colab-df-convert:hover {\n",
              "      background-color: #434B5C;\n",
              "      box-shadow: 0px 1px 3px 1px rgba(0, 0, 0, 0.15);\n",
              "      filter: drop-shadow(0px 1px 2px rgba(0, 0, 0, 0.3));\n",
              "      fill: #FFFFFF;\n",
              "    }\n",
              "  </style>\n",
              "\n",
              "    <script>\n",
              "      const buttonEl =\n",
              "        document.querySelector('#df-b6c6929c-3260-457f-8bce-c14b5f793152 button.colab-df-convert');\n",
              "      buttonEl.style.display =\n",
              "        google.colab.kernel.accessAllowed ? 'block' : 'none';\n",
              "\n",
              "      async function convertToInteractive(key) {\n",
              "        const element = document.querySelector('#df-b6c6929c-3260-457f-8bce-c14b5f793152');\n",
              "        const dataTable =\n",
              "          await google.colab.kernel.invokeFunction('convertToInteractive',\n",
              "                                                    [key], {});\n",
              "        if (!dataTable) return;\n",
              "\n",
              "        const docLinkHtml = 'Like what you see? Visit the ' +\n",
              "          '<a target=\"_blank\" href=https://colab.research.google.com/notebooks/data_table.ipynb>data table notebook</a>'\n",
              "          + ' to learn more about interactive tables.';\n",
              "        element.innerHTML = '';\n",
              "        dataTable['output_type'] = 'display_data';\n",
              "        await google.colab.output.renderOutput(dataTable, element);\n",
              "        const docLink = document.createElement('div');\n",
              "        docLink.innerHTML = docLinkHtml;\n",
              "        element.appendChild(docLink);\n",
              "      }\n",
              "    </script>\n",
              "  </div>\n",
              "\n",
              "\n",
              "<div id=\"df-f0d6b8bc-26a2-4cf5-9a51-3921c0a8d5a2\">\n",
              "  <button class=\"colab-df-quickchart\" onclick=\"quickchart('df-f0d6b8bc-26a2-4cf5-9a51-3921c0a8d5a2')\"\n",
              "            title=\"Suggest charts\"\n",
              "            style=\"display:none;\">\n",
              "\n",
              "<svg xmlns=\"http://www.w3.org/2000/svg\" height=\"24px\"viewBox=\"0 0 24 24\"\n",
              "     width=\"24px\">\n",
              "    <g>\n",
              "        <path d=\"M19 3H5c-1.1 0-2 .9-2 2v14c0 1.1.9 2 2 2h14c1.1 0 2-.9 2-2V5c0-1.1-.9-2-2-2zM9 17H7v-7h2v7zm4 0h-2V7h2v10zm4 0h-2v-4h2v4z\"/>\n",
              "    </g>\n",
              "</svg>\n",
              "  </button>\n",
              "\n",
              "<style>\n",
              "  .colab-df-quickchart {\n",
              "      --bg-color: #E8F0FE;\n",
              "      --fill-color: #1967D2;\n",
              "      --hover-bg-color: #E2EBFA;\n",
              "      --hover-fill-color: #174EA6;\n",
              "      --disabled-fill-color: #AAA;\n",
              "      --disabled-bg-color: #DDD;\n",
              "  }\n",
              "\n",
              "  [theme=dark] .colab-df-quickchart {\n",
              "      --bg-color: #3B4455;\n",
              "      --fill-color: #D2E3FC;\n",
              "      --hover-bg-color: #434B5C;\n",
              "      --hover-fill-color: #FFFFFF;\n",
              "      --disabled-bg-color: #3B4455;\n",
              "      --disabled-fill-color: #666;\n",
              "  }\n",
              "\n",
              "  .colab-df-quickchart {\n",
              "    background-color: var(--bg-color);\n",
              "    border: none;\n",
              "    border-radius: 50%;\n",
              "    cursor: pointer;\n",
              "    display: none;\n",
              "    fill: var(--fill-color);\n",
              "    height: 32px;\n",
              "    padding: 0;\n",
              "    width: 32px;\n",
              "  }\n",
              "\n",
              "  .colab-df-quickchart:hover {\n",
              "    background-color: var(--hover-bg-color);\n",
              "    box-shadow: 0 1px 2px rgba(60, 64, 67, 0.3), 0 1px 3px 1px rgba(60, 64, 67, 0.15);\n",
              "    fill: var(--button-hover-fill-color);\n",
              "  }\n",
              "\n",
              "  .colab-df-quickchart-complete:disabled,\n",
              "  .colab-df-quickchart-complete:disabled:hover {\n",
              "    background-color: var(--disabled-bg-color);\n",
              "    fill: var(--disabled-fill-color);\n",
              "    box-shadow: none;\n",
              "  }\n",
              "\n",
              "  .colab-df-spinner {\n",
              "    border: 2px solid var(--fill-color);\n",
              "    border-color: transparent;\n",
              "    border-bottom-color: var(--fill-color);\n",
              "    animation:\n",
              "      spin 1s steps(1) infinite;\n",
              "  }\n",
              "\n",
              "  @keyframes spin {\n",
              "    0% {\n",
              "      border-color: transparent;\n",
              "      border-bottom-color: var(--fill-color);\n",
              "      border-left-color: var(--fill-color);\n",
              "    }\n",
              "    20% {\n",
              "      border-color: transparent;\n",
              "      border-left-color: var(--fill-color);\n",
              "      border-top-color: var(--fill-color);\n",
              "    }\n",
              "    30% {\n",
              "      border-color: transparent;\n",
              "      border-left-color: var(--fill-color);\n",
              "      border-top-color: var(--fill-color);\n",
              "      border-right-color: var(--fill-color);\n",
              "    }\n",
              "    40% {\n",
              "      border-color: transparent;\n",
              "      border-right-color: var(--fill-color);\n",
              "      border-top-color: var(--fill-color);\n",
              "    }\n",
              "    60% {\n",
              "      border-color: transparent;\n",
              "      border-right-color: var(--fill-color);\n",
              "    }\n",
              "    80% {\n",
              "      border-color: transparent;\n",
              "      border-right-color: var(--fill-color);\n",
              "      border-bottom-color: var(--fill-color);\n",
              "    }\n",
              "    90% {\n",
              "      border-color: transparent;\n",
              "      border-bottom-color: var(--fill-color);\n",
              "    }\n",
              "  }\n",
              "</style>\n",
              "\n",
              "  <script>\n",
              "    async function quickchart(key) {\n",
              "      const quickchartButtonEl =\n",
              "        document.querySelector('#' + key + ' button');\n",
              "      quickchartButtonEl.disabled = true;  // To prevent multiple clicks.\n",
              "      quickchartButtonEl.classList.add('colab-df-spinner');\n",
              "      try {\n",
              "        const charts = await google.colab.kernel.invokeFunction(\n",
              "            'suggestCharts', [key], {});\n",
              "      } catch (error) {\n",
              "        console.error('Error during call to suggestCharts:', error);\n",
              "      }\n",
              "      quickchartButtonEl.classList.remove('colab-df-spinner');\n",
              "      quickchartButtonEl.classList.add('colab-df-quickchart-complete');\n",
              "    }\n",
              "    (() => {\n",
              "      let quickchartButtonEl =\n",
              "        document.querySelector('#df-f0d6b8bc-26a2-4cf5-9a51-3921c0a8d5a2 button');\n",
              "      quickchartButtonEl.style.display =\n",
              "        google.colab.kernel.accessAllowed ? 'block' : 'none';\n",
              "    })();\n",
              "  </script>\n",
              "</div>\n",
              "\n",
              "    </div>\n",
              "  </div>\n"
            ]
          },
          "metadata": {},
          "execution_count": 1
        }
      ]
    },
    {
      "cell_type": "code",
      "metadata": {
        "source_hash": null,
        "execution_start": 1706552886720,
        "execution_millis": 9,
        "deepnote_to_be_reexecuted": false,
        "cell_id": "e2c0fb2884764001abf6b5a781dc4a50",
        "deepnote_cell_type": "code",
        "colab": {
          "base_uri": "https://localhost:8080/"
        },
        "id": "kv5wro7dnEvK",
        "outputId": "a7631ccc-a58c-4d96-d492-d71d66a828aa"
      },
      "source": [
        "# Checking for any missing / null values in the dataframe\n",
        "df.isnull().sum()"
      ],
      "execution_count": null,
      "outputs": [
        {
          "output_type": "execute_result",
          "data": {
            "text/plain": [
              "gender                               0\n",
              "age                                  0\n",
              "Investment_Avenues                   0\n",
              "Mutual_Funds                         0\n",
              "Equity_Market                        0\n",
              "Debentures                           0\n",
              "Government_Bonds                     0\n",
              "Fixed_Deposits                       0\n",
              "PPF                                  0\n",
              "Gold                                 0\n",
              "Stock_Marktet                        0\n",
              "Factor                               0\n",
              "Objective                            0\n",
              "Purpose                              0\n",
              "Duration                             0\n",
              "Invest_Monitor                       0\n",
              "Expect                               0\n",
              "Avenue                               0\n",
              "What are your savings objectives?    0\n",
              "Reason_Equity                        0\n",
              "Reason_Mutual                        0\n",
              "Reason_Bonds                         0\n",
              "Reason_FD                            0\n",
              "Source                               0\n",
              "dtype: int64"
            ]
          },
          "metadata": {},
          "execution_count": 2
        }
      ]
    },
    {
      "cell_type": "markdown",
      "metadata": {
        "cell_id": "497997bce3924e8aa78701957ec38646",
        "deepnote_cell_type": "text-cell-p",
        "id": "Q_5fZ6EQnEvM"
      },
      "source": [
        "The data is clean with no missing values."
      ]
    },
    {
      "cell_type": "markdown",
      "source": [
        "## **Data Analysis**\n",
        "Now, let's start with the analysis and visualization to answer some important questions that could lead to the top valuable insights."
      ],
      "metadata": {
        "id": "vIWuoWmxoYqD"
      }
    },
    {
      "cell_type": "markdown",
      "source": [
        "### Q. What is the distribution of gender among the respondents?"
      ],
      "metadata": {
        "id": "J1Ewv3TnpjPr"
      }
    },
    {
      "cell_type": "code",
      "metadata": {
        "source_hash": null,
        "execution_start": 1706552902277,
        "execution_millis": 6930,
        "deepnote_to_be_reexecuted": false,
        "cell_id": "94c3cdd423f64d67adc793bb697287e7",
        "deepnote_cell_type": "code",
        "colab": {
          "base_uri": "https://localhost:8080/",
          "height": 604
        },
        "id": "WzcdRJZ-nEvN",
        "outputId": "eb9b11af-ae4c-44b8-c6bb-4380320e567c"
      },
      "source": [
        "# Importing necessary libraries for visualizations\n",
        "import matplotlib.pyplot as plt\n",
        "import seaborn as sns\n",
        "\n",
        "# Continuing with the analysis\n",
        "\n",
        "gender_distribution = df['gender'].value_counts()\n",
        "\n",
        "# Plotting the distribution\n",
        "plt.figure(figsize=(8,6))\n",
        "sns.barplot(x=gender_distribution.index, y=gender_distribution.values, alpha=0.8)\n",
        "plt.title('Gender Distribution Among Respondents')\n",
        "plt.ylabel('Number of Occurrences', fontsize=12)\n",
        "plt.xlabel('Gender', fontsize=12)\n",
        "plt.xticks(rotation=90)\n",
        "plt.show()"
      ],
      "execution_count": null,
      "outputs": [
        {
          "output_type": "display_data",
          "data": {
            "text/plain": [
              "<Figure size 800x600 with 1 Axes>"
            ],
            "image/png": "[encoded data removed]"
          },
          "metadata": {}
        }
      ]
    },
    {
      "cell_type": "markdown",
      "source": [
        "* The distribution of **gender** among the respondents shows that there were more male respondents than females."
      ],
      "metadata": {
        "id": "d2824m39tJ4r"
      }
    },
    {
      "cell_type": "markdown",
      "source": [
        "#### Q. What is the age distribution of the respondents?"
      ],
      "metadata": {
        "id": "lB4k37R5p4mS"
      }
    },
    {
      "cell_type": "code",
      "metadata": {
        "source_hash": null,
        "execution_start": 1706552938063,
        "execution_millis": 281,
        "deepnote_to_be_reexecuted": false,
        "cell_id": "c6ab479917e948679ce5be87e7af1d29",
        "deepnote_cell_type": "code",
        "id": "4nkSy101nEvR",
        "outputId": "e3861376-4d46-4062-a96e-849c6099b1bc"
      },
      "source": [
        "# Plotting the distribution of the Age column\n",
        "plt.figure(figsize=(8,6))\n",
        "sns.distplot(df['age'], bins=30)\n",
        "plt.title('Age Distribution Among Respondents')\n",
        "plt.xlabel('Age', fontsize=12)\n",
        "plt.ylabel('Frequency', fontsize=12)\n",
        "plt.show()"
      ],
      "execution_count": null,
      "outputs": [
        {
          "name": "stderr",
          "text": "/tmp/ipykernel_37/285279774.py:5: UserWarning: \n\n`distplot` is a deprecated function and will be removed in seaborn v0.14.0.\n\nPlease adapt your code to use either `displot` (a figure-level function with\nsimilar flexibility) or `histplot` (an axes-level function for histograms).\n\nFor a guide to updating your code to use the new functions, please see\nhttps://gist.github.com/mwaskom/de44147ed2974457ad6372750bbe5751\n\n  sns.distplot(df['age'], bins=30)\n",
          "output_type": "stream"
        },
        {
          "data": {
            "text/plain": "<Figure size 800x600 with 1 Axes>",
            "image/png": "[encoded data removed]"
          },
          "metadata": {
            "image/png": {
              "width": 704,
              "height": 551
            }
          },
          "output_type": "display_data"
        }
      ]
    },
    {
      "cell_type": "markdown",
      "source": [
        "* The **age** distribution among the respondents is a right-skewed distribution, indicating a younger respondent base with most of the respondents aged between 20 and 40."
      ],
      "metadata": {
        "id": "M3mdGJtLtXdx"
      }
    },
    {
      "cell_type": "markdown",
      "source": [
        "### Q. How many respondents have investment avenues?\n"
      ],
      "metadata": {
        "id": "SfhbN-AdqARK"
      }
    },
    {
      "cell_type": "code",
      "metadata": {
        "source_hash": null,
        "execution_start": 1706552954143,
        "execution_millis": 114,
        "deepnote_to_be_reexecuted": false,
        "cell_id": "67ac603d8594429395e345764a69f909",
        "deepnote_cell_type": "code",
        "id": "tFesbUusnEvS",
        "outputId": "ac5ca4c6-be40-4780-eaca-8c3bd5b37906"
      },
      "source": [
        "investment_avenues = df['Investment_Avenues'].value_counts()\n",
        "\n",
        "# Plotting the distribution\n",
        "plt.figure(figsize=(8,6))\n",
        "sns.barplot(x=investment_avenues.index, y=investment_avenues.values, alpha=0.8)\n",
        "plt.title('Number of Respondents With Investment Avenues')\n",
        "plt.ylabel('Number of Occurrences', fontsize=12)\n",
        "plt.xlabel('Investment Avenues', fontsize=12)\n",
        "plt.xticks(rotation=90)\n",
        "plt.show()"
      ],
      "execution_count": null,
      "outputs": [
        {
          "data": {
            "text/plain": "<Figure size 800x600 with 1 Axes>",
            "image/png": "[encoded data removed]"
          },
          "metadata": {
            "image/png": {
              "width": 690,
              "height": 559
            }
          },
          "output_type": "display_data"
        }
      ]
    },
    {
      "cell_type": "markdown",
      "source": [
        "* The vast majority of respondents have indicated they have **investment avenues**."
      ],
      "metadata": {
        "id": "6zyi2YoktdGR"
      }
    },
    {
      "cell_type": "markdown",
      "source": [
        "### Q. What are the most popular investment avenues among the respondents?\n",
        "\n"
      ],
      "metadata": {
        "id": "wmA3s16zqe_6"
      }
    },
    {
      "cell_type": "code",
      "metadata": {
        "source_hash": null,
        "execution_start": 1706552970582,
        "execution_millis": 214,
        "deepnote_to_be_reexecuted": false,
        "cell_id": "6d0ff596b2a94d858de98f0cdb488e8d",
        "deepnote_cell_type": "code",
        "id": "FXk1FLyLnEvS",
        "outputId": "76245a4d-4659-4e20-a6ad-4365d2f79c12"
      },
      "source": [
        "# Combining the counts of all investment avenues\n",
        "avenues = df.loc[:, 'Mutual_Funds':'Gold'].sum().sort_values(ascending=False)\n",
        "\n",
        "# Plotting the distribution\n",
        "plt.figure(figsize=(12, 8))\n",
        "sns.barplot(y=avenues.index, x=avenues.values, alpha=0.8)\n",
        "plt.title('Popularity of Investment Avenues Among Respondents')\n",
        "plt.xlabel('Number of Occurrences', fontsize=12)\n",
        "plt.ylabel('Investment Avenues', fontsize=12)\n",
        "plt.show()"
      ],
      "execution_count": null,
      "outputs": [
        {
          "data": {
            "text/plain": "<Figure size 1200x800 with 1 Axes>",
            "image/png": "[encoded data removed]"
          },
          "metadata": {
            "image/png": {
              "width": 1129,
              "height": 705
            }
          },
          "output_type": "display_data"
        }
      ]
    },
    {
      "cell_type": "markdown",
      "source": [
        "* Among different investment avenues, **Mutual Funds**, **Fixed Deposits**, and **Government Bonds** are the most popular among the respondents."
      ],
      "metadata": {
        "id": "sTmTJm_vtjTp"
      }
    },
    {
      "cell_type": "markdown",
      "source": [
        "### Q. What is the distribution of respondents' investment objectives?\n",
        "\n"
      ],
      "metadata": {
        "id": "P2msN9uiqnQT"
      }
    },
    {
      "cell_type": "code",
      "metadata": {
        "source_hash": null,
        "execution_start": 1706552983843,
        "execution_millis": 99,
        "deepnote_to_be_reexecuted": false,
        "cell_id": "df10ce384c3940b58d36247ce6a85a59",
        "deepnote_cell_type": "code",
        "id": "sszchErcnEvT",
        "outputId": "f7fde21f-147d-41e1-869f-754292e214b2"
      },
      "source": [
        "investment_objectives = df['Objective'].value_counts()\n",
        "\n",
        "# Plotting the distribution\n",
        "plt.figure(figsize=(10, 7))\n",
        "sns.barplot(y=investment_objectives.index, x=investment_objectives.values, alpha=0.8)\n",
        "plt.title('Distribution of Respondents\\' Investment Objectives')\n",
        "plt.xlabel('Number of Occurrences', fontsize=12)\n",
        "plt.ylabel('Investment Objectives', fontsize=12)\n",
        "plt.show()"
      ],
      "execution_count": null,
      "outputs": [
        {
          "data": {
            "text/plain": "<Figure size 1000x700 with 1 Axes>",
            "image/png": "[encoded data removed]"
          },
          "metadata": {
            "image/png": {
              "width": 969,
              "height": 628
            }
          },
          "output_type": "display_data"
        }
      ]
    },
    {
      "cell_type": "markdown",
      "source": [
        "### Q. What is the distribution of respondents' investment duration?\n"
      ],
      "metadata": {
        "id": "gWht7WEOrP3D"
      }
    },
    {
      "cell_type": "code",
      "metadata": {
        "source_hash": null,
        "execution_start": 1706553067739,
        "execution_millis": 103,
        "deepnote_to_be_reexecuted": false,
        "cell_id": "85907a34ddfe4812ae5044a2f4c97cf5",
        "deepnote_cell_type": "code",
        "id": "0l5or0ExnEvV",
        "outputId": "744f24bd-fae6-4672-bb88-5136349534e2"
      },
      "source": [
        "investment_duration_distribution = df['Duration'].value_counts()\n",
        "\n",
        "# Plotting the distribution\n",
        "plt.figure(figsize=(10, 7))\n",
        "sns.barplot(y=investment_duration_distribution.index, x=investment_duration_distribution.values, alpha=0.8)\n",
        "plt.title('Distribution of Respondents\\' Investment Duration')\n",
        "plt.xlabel('Number of Occurrences', fontsize=12)\n",
        "plt.ylabel('Investment Duration', fontsize=12)\n",
        "plt.show()"
      ],
      "execution_count": null,
      "outputs": [
        {
          "data": {
            "text/plain": "<Figure size 1000x700 with 1 Axes>",
            "image/png": "[encoded data removed]"
          },
          "metadata": {
            "image/png": {
              "width": 954,
              "height": 628
            }
          },
          "output_type": "display_data"
        }
      ]
    },
    {
      "cell_type": "markdown",
      "source": [
        "* When it comes to respondents' **investment duration**, the majority of respondents show a preference for investment durations of \"More than 5 years\", followed by \"3-5 years\" and \"1-3 years\", respectively."
      ],
      "metadata": {
        "id": "c0CeVTUfuOIa"
      }
    },
    {
      "cell_type": "markdown",
      "source": [
        "### Q. How often do respondents monitor their investments?\n"
      ],
      "metadata": {
        "id": "0NmbIa83rYhL"
      }
    },
    {
      "cell_type": "code",
      "metadata": {
        "source_hash": null,
        "execution_start": 1706553081562,
        "execution_millis": 167,
        "deepnote_to_be_reexecuted": false,
        "cell_id": "213842ec514a4644a5e05904a6f27820",
        "deepnote_cell_type": "code",
        "id": "DwBi4fAZnEvV",
        "outputId": "21ec8273-cef7-46c2-8d86-26882a7e21e3"
      },
      "source": [
        "investment_monitor_frequency = df['Invest_Monitor'].value_counts()\n",
        "\n",
        "# Plotting the distribution\n",
        "plt.figure(figsize=(10,7))\n",
        "sns.barplot(y=investment_monitor_frequency.index, x=investment_monitor_frequency.values, alpha=0.8)\n",
        "plt.title('Frequency of Monitoring Investments Among Respondents')\n",
        "plt.xlabel('Number of Occurrences', fontsize=12)\n",
        "plt.ylabel('Frequency of Monitoring', fontsize=12)\n",
        "plt.show()"
      ],
      "execution_count": null,
      "outputs": [
        {
          "data": {
            "text/plain": "<Figure size 1000x700 with 1 Axes>",
            "image/png": "[encoded data removed]"
          },
          "metadata": {
            "image/png": {
              "width": 883,
              "height": 628
            }
          },
          "output_type": "display_data"
        }
      ]
    },
    {
      "cell_type": "markdown",
      "source": [
        "* In terms of **how often respondents monitor their investments**, it seems that a considerable number of respondents tend to monitor their investments daily, followed by those who monitor weekly, monthly, and quarterly."
      ],
      "metadata": {
        "id": "2rCXxftnuUAC"
      }
    },
    {
      "cell_type": "markdown",
      "source": [
        "### Q. What are the respondents' expectations for their investments?\n"
      ],
      "metadata": {
        "id": "dWXRdwPhrdUz"
      }
    },
    {
      "cell_type": "code",
      "metadata": {
        "source_hash": null,
        "execution_start": 1706553095419,
        "execution_millis": 115,
        "deepnote_to_be_reexecuted": false,
        "cell_id": "b581caa7c9cd4269b5c01b0b12302ff2",
        "deepnote_cell_type": "code",
        "id": "YYWa_GP9nEvV",
        "outputId": "d76142cb-2c4c-42df-d9ff-7f6170683f05"
      },
      "source": [
        "investment_expectations = df['Expect'].value_counts()\n",
        "\n",
        "# Plotting the distribution\n",
        "plt.figure(figsize=(10,7))\n",
        "sns.barplot(y=investment_expectations.index, x=investment_expectations.values, alpha=0.8)\n",
        "plt.title('Respondents\\' Expectations for Their Investments')\n",
        "plt.xlabel('Number of Occurrences', fontsize=12)\n",
        "plt.ylabel('Investment Expectations', fontsize=12)\n",
        "plt.show()"
      ],
      "execution_count": null,
      "outputs": [
        {
          "data": {
            "text/plain": "<Figure size 1000x700 with 1 Axes>",
            "image/png": "[encoded data removed]"
          },
          "metadata": {
            "image/png": {
              "width": 894,
              "height": 628
            }
          },
          "output_type": "display_data"
        }
      ]
    },
    {
      "cell_type": "markdown",
      "source": [
        "* As for respondents' **expectations for their investments**, the majority expect a return of \"20%-30%\" on their investments. This is followed by those hoping for a \"10%-20%\" return, with fewer respondents expecting higher returns."
      ],
      "metadata": {
        "id": "cuQ8xIUWucmJ"
      }
    },
    {
      "cell_type": "markdown",
      "source": [
        "### Q. What are the most common reasons for choosing different investment avenues?\n"
      ],
      "metadata": {
        "id": "UtyyiXDCrhGz"
      }
    },
    {
      "cell_type": "code",
      "metadata": {
        "source_hash": null,
        "execution_start": 1706553147687,
        "execution_millis": 466,
        "deepnote_to_be_reexecuted": false,
        "cell_id": "b44dc42f5578416d83818d465ef21d28",
        "deepnote_cell_type": "code",
        "id": "zL7eBHWFnEvW",
        "outputId": "ed1f876f-944d-409e-beee-2e68610dac96"
      },
      "source": [
        "reasons_equity = df['Reason_Equity'].value_counts()\n",
        "reasons_mutual = df['Reason_Mutual'].value_counts()\n",
        "reasons_bonds = df['Reason_Bonds'].value_counts()\n",
        "reasons_fd = df['Reason_FD'].value_counts()\n",
        "\n",
        "# Plotting the distribution\n",
        "fig, axes = plt.subplots(2, 2, figsize=(14, 10))\n",
        "\n",
        "sns.barplot(y=reasons_equity.index, x=reasons_equity.values, alpha=0.8, ax=axes[0, 0])\n",
        "axes[0, 0].set_title('Reasons for Choosing Equity')\n",
        "axes[0, 0].set_xlabel('Number of Occurrences')\n",
        "axes[0, 0].set_ylabel('Reasons')\n",
        "\n",
        "sns.barplot(y=reasons_mutual.index, x=reasons_mutual.values, alpha=0.8, ax=axes[0, 1])\n",
        "axes[0, 1].set_title('Reasons for Choosing Mutual Funds')\n",
        "axes[0, 1].set_xlabel('Number of Occurrences')\n",
        "axes[0, 1].set_ylabel('Reasons')\n",
        "\n",
        "sns.barplot(y=reasons_bonds.index, x=reasons_bonds.values, alpha=0.8, ax=axes[1, 0])\n",
        "axes[1, 0].set_title('Reasons for Choosing Bonds')\n",
        "axes[1, 0].set_xlabel('Number of Occurrences')\n",
        "axes[1, 0].set_ylabel('Reasons')\n",
        "\n",
        "sns.barplot(y=reasons_fd.index, x=reasons_fd.values, alpha=0.8, ax=axes[1, 1])\n",
        "axes[1, 1].set_title('Reasons for Choosing Fixed Deposits')\n",
        "axes[1, 1].set_xlabel('Number of Occurrences')\n",
        "axes[1, 1].set_ylabel('Reasons')\n",
        "\n",
        "fig.tight_layout()\n",
        "plt.show()"
      ],
      "execution_count": null,
      "outputs": [
        {
          "data": {
            "text/plain": "<Figure size 1400x1000 with 4 Axes>",
            "image/png": "[encoded data removed]"
          },
          "metadata": {
            "image/png": {
              "width": 1389,
              "height": 990
            }
          },
          "output_type": "display_data"
        }
      ]
    },
    {
      "cell_type": "markdown",
      "source": [
        "* Concerning the **most common reasons for choosing different investment avenues**, respondents tend to choose equity for the potential capital appreciation, mutual funds for better returns, bonds for the safe investment attribute, and fixed deposits for fixed returns."
      ],
      "metadata": {
        "id": "bq9orxMWujVD"
      }
    },
    {
      "cell_type": "markdown",
      "source": [
        "### Q. What are the most common sources of investment information for the respondents?\n"
      ],
      "metadata": {
        "id": "13jdP_AarloE"
      }
    },
    {
      "cell_type": "code",
      "metadata": {
        "source_hash": null,
        "execution_start": 1706553161487,
        "execution_millis": 135,
        "deepnote_to_be_reexecuted": false,
        "cell_id": "bc5ec008dfc74fd8829c2d09d68967f3",
        "deepnote_cell_type": "code",
        "id": "E9mOH5WXnEvW",
        "outputId": "71f08809-752a-4266-cc93-1ff818a65f07"
      },
      "source": [
        "investment_sources = df['Source'].value_counts()\n",
        "\n",
        "# Plotting the distribution\n",
        "plt.figure(figsize=(10,7))\n",
        "sns.barplot(y=investment_sources.index, x=investment_sources.values, alpha=0.8)\n",
        "plt.title('Most Common Sources of Investment Information')\n",
        "plt.xlabel('Number of Occurrences', fontsize=12)\n",
        "plt.ylabel('Sources of Information', fontsize=12)\n",
        "plt.show()"
      ],
      "execution_count": null,
      "outputs": [
        {
          "data": {
            "text/plain": "<Figure size 1000x700 with 1 Axes>",
            "image/png": "[encoded data removed]"
          },
          "metadata": {
            "image/png": {
              "width": 1022,
              "height": 628
            }
          },
          "output_type": "display_data"
        }
      ]
    },
    {
      "cell_type": "markdown",
      "source": [
        "* Looking at the **most common sources of investment information** for respondents, it appears that the most popular sources are the Internet, followed by Newspapers and Magazines, Friends or Relatives, Financial Consultants, and Television."
      ],
      "metadata": {
        "id": "soPEe9JNuoY4"
      }
    },
    {
      "cell_type": "markdown",
      "source": [
        "### Q. What is the correlation between age and investment avenues?"
      ],
      "metadata": {
        "id": "XYt1rcE_r1f9"
      }
    },
    {
      "cell_type": "code",
      "metadata": {
        "source_hash": null,
        "execution_start": 1706553244823,
        "execution_millis": 6,
        "deepnote_to_be_reexecuted": false,
        "cell_id": "e40e66ae1a16410c9a22ab9a57838376",
        "deepnote_cell_type": "code",
        "id": "PyKlyXHgnEvX",
        "outputId": "77084449-04b1-45fe-8594-49bb82885463"
      },
      "source": [
        "investment_avenues = ['Mutual_Funds', 'Equity_Market', 'Debentures', 'Government_Bonds', 'Fixed_Deposits', 'PPF', 'Gold']\n",
        "\n",
        "# Select the age and investment avenues columns\n",
        "correlation_df = df[['age'] + investment_avenues]\n",
        "\n",
        "# Compute the correlation\n",
        "age_investment_correlation = correlation_df.corr()['age']\n",
        "age_investment_correlation"
      ],
      "execution_count": null,
      "outputs": [
        {
          "output_type": "execute_result",
          "execution_count": 14,
          "data": {
            "text/plain": "age                 1.000000\nMutual_Funds       -0.123914\nEquity_Market       0.246840\nDebentures          0.326638\nGovernment_Bonds   -0.093632\nFixed_Deposits     -0.033685\nPPF                -0.263167\nGold               -0.057952\nName: age, dtype: float64"
          },
          "metadata": {}
        }
      ]
    },
    {
      "cell_type": "markdown",
      "source": [
        "* The **correlation between age and investment avenues** shows that age has a positive correlation with Equity Market and Debentures, which suggests that older respondents are more likely to invest in these avenues. On the other hand, age shows a negative correlation with Mutual Funds and PPF."
      ],
      "metadata": {
        "id": "PuIsXyH5u7Q5"
      }
    },
    {
      "cell_type": "markdown",
      "source": [
        "### Q: Are there any gender differences in investment preferences?\n"
      ],
      "metadata": {
        "id": "_-LsSekrr_C8"
      }
    },
    {
      "cell_type": "code",
      "metadata": {
        "source_hash": null,
        "execution_start": 1706553255600,
        "execution_millis": 19,
        "deepnote_to_be_reexecuted": false,
        "cell_id": "b799fdf49ba646cbbbcc6b35539ddbfd",
        "deepnote_cell_type": "code",
        "id": "PkjhVQ1InEvX",
        "outputId": "25fee436-f778-4d8c-a559-3885c681cd18"
      },
      "source": [
        "# Group the dataframe by gender and get the mean of the investment avenues\n",
        "gender_investment_preference = df.groupby('gender')[investment_avenues].mean()\n",
        "gender_investment_preference"
      ],
      "execution_count": null,
      "outputs": [
        {
          "output_type": "execute_result",
          "execution_count": 15,
          "data": {
            "application/vnd.deepnote.dataframe.v3+json": {
              "column_count": 7,
              "row_count": 2,
              "columns": [
                {
                  "name": "Mutual_Funds",
                  "dtype": "float64",
                  "stats": {
                    "unique_count": 2,
                    "nan_count": 0,
                    "min": "2.44",
                    "max": "2.7333333333333334",
                    "histogram": [
                      {
                        "bin_start": 2.44,
                        "bin_end": 2.469333333333333,
                        "count": 1
                      },
                      {
                        "bin_start": 2.469333333333333,
                        "bin_end": 2.498666666666667,
                        "count": 0
                      },
                      {
                        "bin_start": 2.498666666666667,
                        "bin_end": 2.528,
                        "count": 0
                      },
                      {
                        "bin_start": 2.528,
                        "bin_end": 2.5573333333333332,
                        "count": 0
                      },
                      {
                        "bin_start": 2.5573333333333332,
                        "bin_end": 2.586666666666667,
                        "count": 0
                      },
                      {
                        "bin_start": 2.586666666666667,
                        "bin_end": 2.616,
                        "count": 0
                      },
                      {
                        "bin_start": 2.616,
                        "bin_end": 2.6453333333333333,
                        "count": 0
                      },
                      {
                        "bin_start": 2.6453333333333333,
                        "bin_end": 2.6746666666666665,
                        "count": 0
                      },
                      {
                        "bin_start": 2.6746666666666665,
                        "bin_end": 2.704,
                        "count": 0
                      },
                      {
                        "bin_start": 2.704,
                        "bin_end": 2.7333333333333334,
                        "count": 1
                      }
                    ]
                  }
                },
                {
                  "name": "Equity_Market",
                  "dtype": "float64",
                  "stats": {
                    "unique_count": 2,
                    "nan_count": 0,
                    "min": "3.3333333333333335",
                    "max": "3.56",
                    "histogram": [
                      {
                        "bin_start": 3.3333333333333335,
                        "bin_end": 3.3560000000000003,
                        "count": 1
                      },
                      {
                        "bin_start": 3.3560000000000003,
                        "bin_end": 3.3786666666666667,
                        "count": 0
                      },
                      {
                        "bin_start": 3.3786666666666667,
                        "bin_end": 3.4013333333333335,
                        "count": 0
                      },
                      {
                        "bin_start": 3.4013333333333335,
                        "bin_end": 3.424,
                        "count": 0
                      },
                      {
                        "bin_start": 3.424,
                        "bin_end": 3.4466666666666668,
                        "count": 0
                      },
                      {
                        "bin_start": 3.4466666666666668,
                        "bin_end": 3.4693333333333336,
                        "count": 0
                      },
                      {
                        "bin_start": 3.4693333333333336,
                        "bin_end": 3.492,
                        "count": 0
                      },
                      {
                        "bin_start": 3.492,
                        "bin_end": 3.514666666666667,
                        "count": 0
                      },
                      {
                        "bin_start": 3.514666666666667,
                        "bin_end": 3.537333333333333,
                        "count": 0
                      },
                      {
                        "bin_start": 3.537333333333333,
                        "bin_end": 3.56,
                        "count": 1
                      }
                    ]
                  }
                },
                {
                  "name": "Debentures",
                  "dtype": "float64",
                  "stats": {
                    "unique_count": 2,
                    "nan_count": 0,
                    "min": "5.2",
                    "max": "6.08",
                    "histogram": [
                      {
                        "bin_start": 5.2,
                        "bin_end": 5.288,
                        "count": 1
                      },
                      {
                        "bin_start": 5.288,
                        "bin_end": 5.376,
                        "count": 0
                      },
                      {
                        "bin_start": 5.376,
                        "bin_end": 5.464,
                        "count": 0
                      },
                      {
                        "bin_start": 5.464,
                        "bin_end": 5.5520000000000005,
                        "count": 0
                      },
                      {
                        "bin_start": 5.5520000000000005,
                        "bin_end": 5.640000000000001,
                        "count": 0
                      },
                      {
                        "bin_start": 5.640000000000001,
                        "bin_end": 5.728,
                        "count": 0
                      },
                      {
                        "bin_start": 5.728,
                        "bin_end": 5.816,
                        "count": 0
                      },
                      {
                        "bin_start": 5.816,
                        "bin_end": 5.904,
                        "count": 0
                      },
                      {
                        "bin_start": 5.904,
                        "bin_end": 5.992,
                        "count": 0
                      },
                      {
                        "bin_start": 5.992,
                        "bin_end": 6.08,
                        "count": 1
                      }
                    ]
                  }
                },
                {
                  "name": "Government_Bonds",
                  "dtype": "float64",
                  "stats": {
                    "unique_count": 2,
                    "nan_count": 0,
                    "min": "4.333333333333333",
                    "max": "4.84",
                    "histogram": [
                      {
                        "bin_start": 4.333333333333333,
                        "bin_end": 4.3839999999999995,
                        "count": 1
                      },
                      {
                        "bin_start": 4.3839999999999995,
                        "bin_end": 4.434666666666667,
                        "count": 0
                      },
                      {
                        "bin_start": 4.434666666666667,
                        "bin_end": 4.485333333333333,
                        "count": 0
                      },
                      {
                        "bin_start": 4.485333333333333,
                        "bin_end": 4.536,
                        "count": 0
                      },
                      {
                        "bin_start": 4.536,
                        "bin_end": 4.586666666666666,
                        "count": 0
                      },
                      {
                        "bin_start": 4.586666666666666,
                        "bin_end": 4.637333333333333,
                        "count": 0
                      },
                      {
                        "bin_start": 4.637333333333333,
                        "bin_end": 4.688,
                        "count": 0
                      },
                      {
                        "bin_start": 4.688,
                        "bin_end": 4.738666666666666,
                        "count": 0
                      },
                      {
                        "bin_start": 4.738666666666666,
                        "bin_end": 4.789333333333333,
                        "count": 0
                      },
                      {
                        "bin_start": 4.789333333333333,
                        "bin_end": 4.84,
                        "count": 1
                      }
                    ]
                  }
                },
                {
                  "name": "Fixed_Deposits",
                  "dtype": "float64",
                  "stats": {
                    "unique_count": 2,
                    "nan_count": 0,
                    "min": "3.2",
                    "max": "4.2",
                    "histogram": [
                      {
                        "bin_start": 3.2,
                        "bin_end": 3.3000000000000003,
                        "count": 1
                      },
                      {
                        "bin_start": 3.3000000000000003,
                        "bin_end": 3.4000000000000004,
                        "count": 0
                      },
                      {
                        "bin_start": 3.4000000000000004,
                        "bin_end": 3.5,
                        "count": 0
                      },
                      {
                        "bin_start": 3.5,
                        "bin_end": 3.6,
                        "count": 0
                      },
                      {
                        "bin_start": 3.6,
                        "bin_end": 3.7,
                        "count": 0
                      },
                      {
                        "bin_start": 3.7,
                        "bin_end": 3.8000000000000003,
                        "count": 0
                      },
                      {
                        "bin_start": 3.8000000000000003,
                        "bin_end": 3.9000000000000004,
                        "count": 0
                      },
                      {
                        "bin_start": 3.9000000000000004,
                        "bin_end": 4,
                        "count": 0
                      },
                      {
                        "bin_start": 4,
                        "bin_end": 4.1000000000000005,
                        "count": 0
                      },
                      {
                        "bin_start": 4.1000000000000005,
                        "bin_end": 4.2,
                        "count": 1
                      }
                    ]
                  }
                },
                {
                  "name": "PPF",
                  "dtype": "float64",
                  "stats": {
                    "unique_count": 2,
                    "nan_count": 0,
                    "min": "1.84",
                    "max": "2.3333333333333335",
                    "histogram": [
                      {
                        "bin_start": 1.84,
                        "bin_end": 1.8893333333333335,
                        "count": 1
                      },
                      {
                        "bin_start": 1.8893333333333335,
                        "bin_end": 1.9386666666666668,
                        "count": 0
                      },
                      {
                        "bin_start": 1.9386666666666668,
                        "bin_end": 1.988,
                        "count": 0
                      },
                      {
                        "bin_start": 1.988,
                        "bin_end": 2.0373333333333337,
                        "count": 0
                      },
                      {
                        "bin_start": 2.0373333333333337,
                        "bin_end": 2.086666666666667,
                        "count": 0
                      },
                      {
                        "bin_start": 2.086666666666667,
                        "bin_end": 2.136,
                        "count": 0
                      },
                      {
                        "bin_start": 2.136,
                        "bin_end": 2.1853333333333333,
                        "count": 0
                      },
                      {
                        "bin_start": 2.1853333333333333,
                        "bin_end": 2.2346666666666666,
                        "count": 0
                      },
                      {
                        "bin_start": 2.2346666666666666,
                        "bin_end": 2.2840000000000003,
                        "count": 0
                      },
                      {
                        "bin_start": 2.2840000000000003,
                        "bin_end": 2.3333333333333335,
                        "count": 1
                      }
                    ]
                  }
                },
                {
                  "name": "Gold",
                  "dtype": "float64",
                  "stats": {
                    "unique_count": 2,
                    "nan_count": 0,
                    "min": "5.866666666666666",
                    "max": "6.04",
                    "histogram": [
                      {
                        "bin_start": 5.866666666666666,
                        "bin_end": 5.8839999999999995,
                        "count": 1
                      },
                      {
                        "bin_start": 5.8839999999999995,
                        "bin_end": 5.901333333333333,
                        "count": 0
                      },
                      {
                        "bin_start": 5.901333333333333,
                        "bin_end": 5.918666666666667,
                        "count": 0
                      },
                      {
                        "bin_start": 5.918666666666667,
                        "bin_end": 5.936,
                        "count": 0
                      },
                      {
                        "bin_start": 5.936,
                        "bin_end": 5.953333333333333,
                        "count": 0
                      },
                      {
                        "bin_start": 5.953333333333333,
                        "bin_end": 5.970666666666666,
                        "count": 0
                      },
                      {
                        "bin_start": 5.970666666666666,
                        "bin_end": 5.9879999999999995,
                        "count": 0
                      },
                      {
                        "bin_start": 5.9879999999999995,
                        "bin_end": 6.005333333333334,
                        "count": 0
                      },
                      {
                        "bin_start": 6.005333333333334,
                        "bin_end": 6.022666666666667,
                        "count": 0
                      },
                      {
                        "bin_start": 6.022666666666667,
                        "bin_end": 6.04,
                        "count": 1
                      }
                    ]
                  }
                },
                {
                  "name": "_deepnote_index_column",
                  "dtype": "object"
                }
              ],
              "rows": [
                {
                  "Mutual_Funds": 2.7333333333333334,
                  "Equity_Market": 3.3333333333333335,
                  "Debentures": 5.2,
                  "Government_Bonds": 4.333333333333333,
                  "Fixed_Deposits": 4.2,
                  "PPF": 2.3333333333333335,
                  "Gold": 5.866666666666666,
                  "_deepnote_index_column": "Female"
                },
                {
                  "Mutual_Funds": 2.44,
                  "Equity_Market": 3.56,
                  "Debentures": 6.08,
                  "Government_Bonds": 4.84,
                  "Fixed_Deposits": 3.2,
                  "PPF": 1.84,
                  "Gold": 6.04,
                  "_deepnote_index_column": "Male"
                }
              ]
            },
            "text/plain": "        Mutual_Funds  Equity_Market  Debentures  Government_Bonds  \\\ngender                                                              \nFemale      2.733333       3.333333        5.20          4.333333   \nMale        2.440000       3.560000        6.08          4.840000   \n\n        Fixed_Deposits       PPF      Gold  \ngender                                      \nFemale             4.2  2.333333  5.866667  \nMale               3.2  1.840000  6.040000  ",
            "text/html": "<div>\n<style scoped>\n    .dataframe tbody tr th:only-of-type {\n        vertical-align: middle;\n    }\n\n    .dataframe tbody tr th {\n        vertical-align: top;\n    }\n\n    .dataframe thead th {\n        text-align: right;\n    }\n</style>\n<table border=\"1\" class=\"dataframe\">\n  <thead>\n    <tr style=\"text-align: right;\">\n      <th></th>\n      <th>Mutual_Funds</th>\n      <th>Equity_Market</th>\n      <th>Debentures</th>\n      <th>Government_Bonds</th>\n      <th>Fixed_Deposits</th>\n      <th>PPF</th>\n      <th>Gold</th>\n    </tr>\n    <tr>\n      <th>gender</th>\n      <th></th>\n      <th></th>\n      <th></th>\n      <th></th>\n      <th></th>\n      <th></th>\n      <th></th>\n    </tr>\n  </thead>\n  <tbody>\n    <tr>\n      <th>Female</th>\n      <td>2.733333</td>\n      <td>3.333333</td>\n      <td>5.20</td>\n      <td>4.333333</td>\n      <td>4.2</td>\n      <td>2.333333</td>\n      <td>5.866667</td>\n    </tr>\n    <tr>\n      <th>Male</th>\n      <td>2.440000</td>\n      <td>3.560000</td>\n      <td>6.08</td>\n      <td>4.840000</td>\n      <td>3.2</td>\n      <td>1.840000</td>\n      <td>6.040000</td>\n    </tr>\n  </tbody>\n</table>\n</div>"
          },
          "metadata": {}
        }
      ]
    },
    {
      "cell_type": "markdown",
      "source": [
        "* Observing the **gender differences in investment preferences**, it seems that males show a slightly higher preference for Equity Market, Debentures, Government Bonds, and Gold compared to females. On the other hand, females are slightly more interested in Mutual Funds and Fixed Deposits."
      ],
      "metadata": {
        "id": "yExBHEs4vB0A"
      }
    },
    {
      "cell_type": "markdown",
      "source": [
        "### Q: What is the most common savings objective among the respondents?\n"
      ],
      "metadata": {
        "id": "3RhzBjDzsEzS"
      }
    },
    {
      "cell_type": "code",
      "metadata": {
        "source_hash": null,
        "execution_start": 1706553261249,
        "execution_millis": 11,
        "deepnote_to_be_reexecuted": false,
        "cell_id": "b4aaa74fa1e34a4a92261b81576600e9",
        "deepnote_cell_type": "code",
        "id": "YLkzswxynEvX",
        "outputId": "7f12587b-9b94-439d-fad8-0a075b7355c7"
      },
      "source": [
        "savings_objectives = df['What are your savings objectives?'].value_counts()\n",
        "savings_objectives"
      ],
      "execution_count": null,
      "outputs": [
        {
          "output_type": "execute_result",
          "execution_count": 16,
          "data": {
            "text/plain": "Retirement Plan    24\nHealth Care        13\nEducation           3\nName: What are your savings objectives?, dtype: int64"
          },
          "metadata": {}
        }
      ]
    },
    {
      "cell_type": "markdown",
      "source": [
        "* The **most common savings objective** among the respondents is 'Retirement Plan', followed by 'Health Care' and 'Education'."
      ],
      "metadata": {
        "id": "GaZLpHe1vGsq"
      }
    },
    {
      "cell_type": "markdown",
      "source": [
        "### Q: What is the most common reason for investing in equity, mutual funds, bonds, and fixed deposits?\n"
      ],
      "metadata": {
        "id": "lUoyV-EHsIzt"
      }
    },
    {
      "cell_type": "code",
      "metadata": {
        "source_hash": null,
        "execution_start": 1706553270180,
        "execution_millis": 15,
        "deepnote_to_be_reexecuted": false,
        "cell_id": "d5721f35eac04a1396f818d6a8408628",
        "deepnote_cell_type": "code",
        "id": "34Qj2mmSnEvY",
        "outputId": "947c4fd4-f348-4c78-bc4c-e8703c399b1e"
      },
      "source": [
        "# Already done in a previous cell, let's fetch the results\n",
        "reasons_equity, reasons_mutual, reasons_bonds, reasons_fd"
      ],
      "execution_count": null,
      "outputs": [
        {
          "output_type": "execute_result",
          "execution_count": 17,
          "data": {
            "text/plain": "(Capital Appreciation    30\n Dividend                 8\n Liquidity                2\n Name: Reason_Equity, dtype: int64,\n Better Returns          24\n Fund Diversification    13\n Tax Benefits             3\n Name: Reason_Mutual, dtype: int64,\n Assured Returns    26\n Safe Investment    13\n Tax Incentives      1\n Name: Reason_Bonds, dtype: int64,\n Risk Free              19\n Fixed Returns          18\n High Interest Rates     3\n Name: Reason_FD, dtype: int64)"
          },
          "metadata": {}
        }
      ]
    },
    {
      "cell_type": "markdown",
      "source": [
        "* As for the **most common reason for investing in different investment avenues**, the reasons are as follows:\n",
        "   - Equity: Capital Appreciation\n",
        "   - Mutual funds: Better Returns\n",
        "   - Bonds: Assured Returns\n",
        "   - Fixed Deposits: Risk-free Returns"
      ],
      "metadata": {
        "id": "_Jq5sM0uvLnB"
      }
    },
    {
      "cell_type": "markdown",
      "source": [
        "### Q: What is the most common source of investment information among different age groups?\n"
      ],
      "metadata": {
        "id": "qfklTVEBsPgq"
      }
    },
    {
      "cell_type": "code",
      "metadata": {
        "source_hash": null,
        "execution_start": 1706553297875,
        "execution_millis": 6,
        "deepnote_to_be_reexecuted": false,
        "cell_id": "68d4561efeb74366b7e271e4d9f9174d",
        "deepnote_cell_type": "code",
        "id": "YwH0GB4inEvY",
        "outputId": "9146e863-1167-48b0-be23-8cf2279c0f36"
      },
      "source": [
        "unique_ages = df['age'].unique()\n",
        "unique_ages"
      ],
      "execution_count": null,
      "outputs": [
        {
          "output_type": "execute_result",
          "execution_count": 19,
          "data": {
            "text/plain": "array([34, 23, 30, 22, 24, 27, 21, 35, 31, 29, 28, 25, 26, 32])"
          },
          "metadata": {}
        }
      ]
    },
    {
      "cell_type": "code",
      "metadata": {
        "source_hash": null,
        "execution_start": 1706553313987,
        "execution_millis": 14,
        "deepnote_to_be_reexecuted": false,
        "cell_id": "ab88313618ef4d828038686c8db786be",
        "deepnote_cell_type": "code",
        "id": "7njb6t3MnEva",
        "outputId": "56d7432a-cc84-4b61-856c-ab19463d861c"
      },
      "source": [
        "# It appears all ages fall within the range of 20 - 35. Therefore the bins should be adjusted.\n",
        "\n",
        "# Adjusting the bins and regrouping the age categories\n",
        "age_bins = [20, 25, 30, 35]\n",
        "age_labels = ['20-25', '25-30', '30-35']\n",
        "df['age_category'] = pd.cut(df['age'], bins=age_bins, labels=age_labels)\n",
        "\n",
        "# Regrouping by these age categories and finding the most common source of investment information\n",
        "age_source_group = df.groupby('age_category')['Source'].value_counts()\n",
        "age_source_group"
      ],
      "execution_count": null,
      "outputs": [
        {
          "output_type": "execute_result",
          "execution_count": 20,
          "data": {
            "text/plain": "age_category  Source                  \n20-25         Financial Consultants       4\n              Internet                    4\n              Newspapers and Magazines    2\n25-30         Financial Consultants       9\n              Newspapers and Magazines    8\n              Television                  4\n30-35         Newspapers and Magazines    4\n              Financial Consultants       3\n              Television                  2\nName: Source, dtype: int64"
          },
          "metadata": {}
        }
      ]
    },
    {
      "cell_type": "markdown",
      "source": [
        "* The **most common source of investment information among different age groups** differs depending on the age group:\n",
        "   - 20-25: Financial Consultants and Internet\n",
        "   - 25-30: Financial Consultants\n",
        "   - 30-35: Newspapers and Magazines\n",
        "\n",
        "These insights can contribute to understanding the distinct preferences and attitudes towards investment in different age groups and genders. This information could be beneficial for financial advisors and firms to target their services accordingly."
      ],
      "metadata": {
        "id": "jMuSiEmlvSEo"
      }
    },
    {
      "cell_type": "markdown",
      "source": [
        "### Q: Is there a relationship between investment monitoring frequency and investment duration?\n"
      ],
      "metadata": {
        "id": "XtZD37Mtss5C"
      }
    },
    {
      "cell_type": "code",
      "metadata": {
        "source_hash": null,
        "execution_start": 1706553451783,
        "execution_millis": 20,
        "deepnote_to_be_reexecuted": false,
        "cell_id": "8d0c1f0e7d7d4076965cbf621cb346b5",
        "deepnote_cell_type": "code",
        "id": "ZKaAKoiLnEvb",
        "outputId": "836ef634-c09a-49c2-f6ea-4a690b216a8e"
      },
      "source": [
        "# Let's create a cross-table\n",
        "investment_frequency_duration_relationship = pd.crosstab(df['Invest_Monitor'], df['Duration'])\n",
        "\n",
        "investment_frequency_duration_relationship"
      ],
      "execution_count": null,
      "outputs": [
        {
          "output_type": "execute_result",
          "execution_count": 21,
          "data": {
            "application/vnd.deepnote.dataframe.v3+json": {
              "column_count": 4,
              "row_count": 3,
              "columns": [
                {
                  "name": "1-3 years",
                  "dtype": "int64",
                  "stats": {
                    "unique_count": 3,
                    "nan_count": 0,
                    "min": "1",
                    "max": "13",
                    "histogram": [
                      {
                        "bin_start": 1,
                        "bin_end": 2.2,
                        "count": 1
                      },
                      {
                        "bin_start": 2.2,
                        "bin_end": 3.4,
                        "count": 0
                      },
                      {
                        "bin_start": 3.4,
                        "bin_end": 4.6,
                        "count": 1
                      },
                      {
                        "bin_start": 4.6,
                        "bin_end": 5.8,
                        "count": 0
                      },
                      {
                        "bin_start": 5.8,
                        "bin_end": 7,
                        "count": 0
                      },
                      {
                        "bin_start": 7,
                        "bin_end": 8.2,
                        "count": 0
                      },
                      {
                        "bin_start": 8.2,
                        "bin_end": 9.4,
                        "count": 0
                      },
                      {
                        "bin_start": 9.4,
                        "bin_end": 10.6,
                        "count": 0
                      },
                      {
                        "bin_start": 10.6,
                        "bin_end": 11.799999999999999,
                        "count": 0
                      },
                      {
                        "bin_start": 11.799999999999999,
                        "bin_end": 13,
                        "count": 1
                      }
                    ]
                  }
                },
                {
                  "name": "3-5 years",
                  "dtype": "int64",
                  "stats": {
                    "unique_count": 3,
                    "nan_count": 0,
                    "min": "1",
                    "max": "16",
                    "histogram": [
                      {
                        "bin_start": 1,
                        "bin_end": 2.5,
                        "count": 2
                      },
                      {
                        "bin_start": 2.5,
                        "bin_end": 4,
                        "count": 0
                      },
                      {
                        "bin_start": 4,
                        "bin_end": 5.5,
                        "count": 0
                      },
                      {
                        "bin_start": 5.5,
                        "bin_end": 7,
                        "count": 0
                      },
                      {
                        "bin_start": 7,
                        "bin_end": 8.5,
                        "count": 0
                      },
                      {
                        "bin_start": 8.5,
                        "bin_end": 10,
                        "count": 0
                      },
                      {
                        "bin_start": 10,
                        "bin_end": 11.5,
                        "count": 0
                      },
                      {
                        "bin_start": 11.5,
                        "bin_end": 13,
                        "count": 0
                      },
                      {
                        "bin_start": 13,
                        "bin_end": 14.5,
                        "count": 0
                      },
                      {
                        "bin_start": 14.5,
                        "bin_end": 16,
                        "count": 1
                      }
                    ]
                  }
                },
                {
                  "name": "Less than 1 year",
                  "dtype": "int64",
                  "stats": {
                    "unique_count": 2,
                    "nan_count": 0,
                    "min": "0",
                    "max": "2",
                    "histogram": [
                      {
                        "bin_start": 0,
                        "bin_end": 0.2,
                        "count": 2
                      },
                      {
                        "bin_start": 0.2,
                        "bin_end": 0.4,
                        "count": 0
                      },
                      {
                        "bin_start": 0.4,
                        "bin_end": 0.6000000000000001,
                        "count": 0
                      },
                      {
                        "bin_start": 0.6000000000000001,
                        "bin_end": 0.8,
                        "count": 0
                      },
                      {
                        "bin_start": 0.8,
                        "bin_end": 1,
                        "count": 0
                      },
                      {
                        "bin_start": 1,
                        "bin_end": 1.2000000000000002,
                        "count": 0
                      },
                      {
                        "bin_start": 1.2000000000000002,
                        "bin_end": 1.4000000000000001,
                        "count": 0
                      },
                      {
                        "bin_start": 1.4000000000000001,
                        "bin_end": 1.6,
                        "count": 0
                      },
                      {
                        "bin_start": 1.6,
                        "bin_end": 1.8,
                        "count": 0
                      },
                      {
                        "bin_start": 1.8,
                        "bin_end": 2,
                        "count": 1
                      }
                    ]
                  }
                },
                {
                  "name": "More than 5 years",
                  "dtype": "int64",
                  "stats": {
                    "unique_count": 2,
                    "nan_count": 0,
                    "min": "0",
                    "max": "1",
                    "histogram": [
                      {
                        "bin_start": 0,
                        "bin_end": 0.1,
                        "count": 2
                      },
                      {
                        "bin_start": 0.1,
                        "bin_end": 0.2,
                        "count": 0
                      },
                      {
                        "bin_start": 0.2,
                        "bin_end": 0.30000000000000004,
                        "count": 0
                      },
                      {
                        "bin_start": 0.30000000000000004,
                        "bin_end": 0.4,
                        "count": 0
                      },
                      {
                        "bin_start": 0.4,
                        "bin_end": 0.5,
                        "count": 0
                      },
                      {
                        "bin_start": 0.5,
                        "bin_end": 0.6000000000000001,
                        "count": 0
                      },
                      {
                        "bin_start": 0.6000000000000001,
                        "bin_end": 0.7000000000000001,
                        "count": 0
                      },
                      {
                        "bin_start": 0.7000000000000001,
                        "bin_end": 0.8,
                        "count": 0
                      },
                      {
                        "bin_start": 0.8,
                        "bin_end": 0.9,
                        "count": 0
                      },
                      {
                        "bin_start": 0.9,
                        "bin_end": 1,
                        "count": 1
                      }
                    ]
                  }
                },
                {
                  "name": "_deepnote_index_column",
                  "dtype": "object"
                }
              ],
              "rows": [
                {
                  "1-3 years": 1,
                  "3-5 years": 1,
                  "Less than 1 year": 2,
                  "More than 5 years": 0,
                  "_deepnote_index_column": "Daily"
                },
                {
                  "1-3 years": 13,
                  "3-5 years": 16,
                  "Less than 1 year": 0,
                  "More than 5 years": 0,
                  "_deepnote_index_column": "Monthly"
                },
                {
                  "1-3 years": 4,
                  "3-5 years": 2,
                  "Less than 1 year": 0,
                  "More than 5 years": 1,
                  "_deepnote_index_column": "Weekly"
                }
              ]
            },
            "text/plain": "Duration        1-3 years  3-5 years  Less than 1 year  More than 5 years\nInvest_Monitor                                                           \nDaily                   1          1                 2                  0\nMonthly                13         16                 0                  0\nWeekly                  4          2                 0                  1",
            "text/html": "<div>\n<style scoped>\n    .dataframe tbody tr th:only-of-type {\n        vertical-align: middle;\n    }\n\n    .dataframe tbody tr th {\n        vertical-align: top;\n    }\n\n    .dataframe thead th {\n        text-align: right;\n    }\n</style>\n<table border=\"1\" class=\"dataframe\">\n  <thead>\n    <tr style=\"text-align: right;\">\n      <th>Duration</th>\n      <th>1-3 years</th>\n      <th>3-5 years</th>\n      <th>Less than 1 year</th>\n      <th>More than 5 years</th>\n    </tr>\n    <tr>\n      <th>Invest_Monitor</th>\n      <th></th>\n      <th></th>\n      <th></th>\n      <th></th>\n    </tr>\n  </thead>\n  <tbody>\n    <tr>\n      <th>Daily</th>\n      <td>1</td>\n      <td>1</td>\n      <td>2</td>\n      <td>0</td>\n    </tr>\n    <tr>\n      <th>Monthly</th>\n      <td>13</td>\n      <td>16</td>\n      <td>0</td>\n      <td>0</td>\n    </tr>\n    <tr>\n      <th>Weekly</th>\n      <td>4</td>\n      <td>2</td>\n      <td>0</td>\n      <td>1</td>\n    </tr>\n  </tbody>\n</table>\n</div>"
          },
          "metadata": {}
        }
      ]
    },
    {
      "cell_type": "code",
      "metadata": {
        "source_hash": null,
        "execution_start": 1706553458040,
        "execution_millis": 211,
        "deepnote_to_be_reexecuted": false,
        "cell_id": "0495292335094aecb7898d172625f6e6",
        "deepnote_cell_type": "code",
        "id": "zoqdo_nxnEvb",
        "outputId": "a44400c5-a8be-4490-e162-e13a885973da"
      },
      "source": [
        "# Let's visualize the relationship between investment monitoring frequency and investment duration\n",
        "investment_frequency_duration_relationship.plot(kind='bar', stacked=True)\n",
        "plt.title('Relationship Between Investment Monitoring Frequency and Investment Duration')\n",
        "plt.xlabel('Investment Monitoring Frequency')\n",
        "plt.ylabel('Count')\n",
        "plt.show()"
      ],
      "execution_count": null,
      "outputs": [
        {
          "data": {
            "text/plain": "<Figure size 640x480 with 1 Axes>",
            "image/png": "[encoded data removed]"
          },
          "metadata": {
            "image/png": {
              "width": 697,
              "height": 496
            }
          },
          "output_type": "display_data"
        }
      ]
    },
    {
      "cell_type": "markdown",
      "source": [
        "* The relation between **investment monitoring frequency and investment duration** indicates that respondents who monitor their investments daily are more likely to have shorter investment durations, specifically \"Less than 1 year\". On the other hand, those who monitor their investments monthly mostly have longer investment durations, either \"1-3 years\" or \"3-5 years\"."
      ],
      "metadata": {
        "id": "mTLRyB-2z4qY"
      }
    },
    {
      "cell_type": "markdown",
      "source": [
        "### Q: What is the distribution of expected returns among the respondents?\n"
      ],
      "metadata": {
        "id": "9yKObiXl0K32"
      }
    },
    {
      "cell_type": "code",
      "metadata": {
        "source_hash": null,
        "execution_start": 1706553465752,
        "execution_millis": 23,
        "deepnote_to_be_reexecuted": false,
        "cell_id": "3ebc0ccf805a4765bcab55dfceef468d",
        "deepnote_cell_type": "code",
        "id": "q8fEag5gnEvc",
        "outputId": "099b23ae-e240-443f-9b9d-1f5cc0a8b2d1"
      },
      "source": [
        "# We have already calculated 'investment_expectations' which is a value count of the respondent's expectations\n",
        "investment_expectations"
      ],
      "execution_count": null,
      "outputs": [
        {
          "output_type": "execute_result",
          "execution_count": 23,
          "data": {
            "text/plain": "20%-30%    32\n30%-40%     5\n10%-20%     3\nName: Expect, dtype: int64"
          },
          "metadata": {}
        }
      ]
    },
    {
      "cell_type": "code",
      "metadata": {
        "source_hash": null,
        "execution_start": 1706553472574,
        "execution_millis": 165,
        "deepnote_to_be_reexecuted": false,
        "cell_id": "5e3ee5069a8240e1aa1d0b0f5c848906",
        "deepnote_cell_type": "code",
        "id": "25YwoIeXnEvc",
        "outputId": "aa796618-47f4-482b-9245-494cd7a8d904"
      },
      "source": [
        "# Let's plot the distribution of expected returns among the respondents\n",
        "plt.figure(figsize=(8,6))\n",
        "sns.barplot(x=investment_expectations.index, y=investment_expectations.values, alpha=0.8)\n",
        "plt.title('Distribution of Expected Returns Among Respondents')\n",
        "plt.ylabel('Number of Occurrences', fontsize=12)\n",
        "plt.xlabel('Expected Returns', fontsize=12)\n",
        "plt.show()"
      ],
      "execution_count": null,
      "outputs": [
        {
          "data": {
            "text/plain": "<Figure size 800x600 with 1 Axes>",
            "image/png": "[encoded data removed]"
          },
          "metadata": {
            "image/png": {
              "width": 690,
              "height": 551
            }
          },
          "output_type": "display_data"
        }
      ]
    },
    {
      "cell_type": "markdown",
      "source": [
        "* The **distribution of expected returns among the respondents** shows that a large majority of respondents expect a return of \"20%-30%\" on their investments. A smaller number of investors expect a \"30%-40%\" return while very few expect a \"10%-20%\" return. This suggests that most respondents have relatively high expectations regarding their investment returns."
      ],
      "metadata": {
        "id": "U1DYhCDj0GuH"
      }
    },
    {
      "cell_type": "markdown",
      "source": [
        "### Q: Are there any differences in investment preferences between those who have investment avenues and those who don't?\n"
      ],
      "metadata": {
        "id": "QRAIF4q30Taw"
      }
    },
    {
      "cell_type": "code",
      "metadata": {
        "source_hash": null,
        "execution_start": 1706553484536,
        "execution_millis": 8,
        "deepnote_to_be_reexecuted": false,
        "cell_id": "987ad885ace94dc89390ab8246435ae6",
        "deepnote_cell_type": "code",
        "id": "MYT0vqIpnEvc",
        "outputId": "54926c67-0e90-4864-ca13-92bf469db590"
      },
      "source": [
        "# First, let's calculate the mean scores for each investment for those who have and those who don't have investment avenues\n",
        "investment_preference_difference = df.groupby('Investment_Avenues')[investment_avenues].mean()\n",
        "\n",
        "investment_preference_difference"
      ],
      "execution_count": null,
      "outputs": [
        {
          "output_type": "execute_result",
          "execution_count": 25,
          "data": {
            "application/vnd.deepnote.dataframe.v3+json": {
              "column_count": 7,
              "row_count": 2,
              "columns": [
                {
                  "name": "Mutual_Funds",
                  "dtype": "float64",
                  "stats": {
                    "unique_count": 2,
                    "nan_count": 0,
                    "min": "2.4864864864864864",
                    "max": "3.3333333333333335",
                    "histogram": [
                      {
                        "bin_start": 2.4864864864864864,
                        "bin_end": 2.571171171171171,
                        "count": 1
                      },
                      {
                        "bin_start": 2.571171171171171,
                        "bin_end": 2.655855855855856,
                        "count": 0
                      },
                      {
                        "bin_start": 2.655855855855856,
                        "bin_end": 2.7405405405405405,
                        "count": 0
                      },
                      {
                        "bin_start": 2.7405405405405405,
                        "bin_end": 2.8252252252252252,
                        "count": 0
                      },
                      {
                        "bin_start": 2.8252252252252252,
                        "bin_end": 2.90990990990991,
                        "count": 0
                      },
                      {
                        "bin_start": 2.90990990990991,
                        "bin_end": 2.9945945945945946,
                        "count": 0
                      },
                      {
                        "bin_start": 2.9945945945945946,
                        "bin_end": 3.0792792792792794,
                        "count": 0
                      },
                      {
                        "bin_start": 3.0792792792792794,
                        "bin_end": 3.163963963963964,
                        "count": 0
                      },
                      {
                        "bin_start": 3.163963963963964,
                        "bin_end": 3.2486486486486488,
                        "count": 0
                      },
                      {
                        "bin_start": 3.2486486486486488,
                        "bin_end": 3.3333333333333335,
                        "count": 1
                      }
                    ]
                  }
                },
                {
                  "name": "Equity_Market",
                  "dtype": "float64",
                  "stats": {
                    "unique_count": 2,
                    "nan_count": 0,
                    "min": "2.6666666666666665",
                    "max": "3.5405405405405403",
                    "histogram": [
                      {
                        "bin_start": 2.6666666666666665,
                        "bin_end": 2.7540540540540537,
                        "count": 1
                      },
                      {
                        "bin_start": 2.7540540540540537,
                        "bin_end": 2.8414414414414413,
                        "count": 0
                      },
                      {
                        "bin_start": 2.8414414414414413,
                        "bin_end": 2.928828828828829,
                        "count": 0
                      },
                      {
                        "bin_start": 2.928828828828829,
                        "bin_end": 3.016216216216216,
                        "count": 0
                      },
                      {
                        "bin_start": 3.016216216216216,
                        "bin_end": 3.103603603603603,
                        "count": 0
                      },
                      {
                        "bin_start": 3.103603603603603,
                        "bin_end": 3.190990990990991,
                        "count": 0
                      },
                      {
                        "bin_start": 3.190990990990991,
                        "bin_end": 3.2783783783783784,
                        "count": 0
                      },
                      {
                        "bin_start": 3.2783783783783784,
                        "bin_end": 3.3657657657657656,
                        "count": 0
                      },
                      {
                        "bin_start": 3.3657657657657656,
                        "bin_end": 3.4531531531531527,
                        "count": 0
                      },
                      {
                        "bin_start": 3.4531531531531527,
                        "bin_end": 3.5405405405405403,
                        "count": 1
                      }
                    ]
                  }
                },
                {
                  "name": "Debentures",
                  "dtype": "float64",
                  "stats": {
                    "unique_count": 2,
                    "nan_count": 0,
                    "min": "3.3333333333333335",
                    "max": "5.945945945945946",
                    "histogram": [
                      {
                        "bin_start": 3.3333333333333335,
                        "bin_end": 3.5945945945945947,
                        "count": 1
                      },
                      {
                        "bin_start": 3.5945945945945947,
                        "bin_end": 3.855855855855856,
                        "count": 0
                      },
                      {
                        "bin_start": 3.855855855855856,
                        "bin_end": 4.117117117117117,
                        "count": 0
                      },
                      {
                        "bin_start": 4.117117117117117,
                        "bin_end": 4.378378378378378,
                        "count": 0
                      },
                      {
                        "bin_start": 4.378378378378378,
                        "bin_end": 4.63963963963964,
                        "count": 0
                      },
                      {
                        "bin_start": 4.63963963963964,
                        "bin_end": 4.900900900900901,
                        "count": 0
                      },
                      {
                        "bin_start": 4.900900900900901,
                        "bin_end": 5.162162162162161,
                        "count": 0
                      },
                      {
                        "bin_start": 5.162162162162161,
                        "bin_end": 5.423423423423423,
                        "count": 0
                      },
                      {
                        "bin_start": 5.423423423423423,
                        "bin_end": 5.684684684684685,
                        "count": 0
                      },
                      {
                        "bin_start": 5.684684684684685,
                        "bin_end": 5.945945945945946,
                        "count": 1
                      }
                    ]
                  }
                },
                {
                  "name": "Government_Bonds",
                  "dtype": "float64",
                  "stats": {
                    "unique_count": 2,
                    "nan_count": 0,
                    "min": "4.594594594594595",
                    "max": "5.333333333333333",
                    "histogram": [
                      {
                        "bin_start": 4.594594594594595,
                        "bin_end": 4.668468468468468,
                        "count": 1
                      },
                      {
                        "bin_start": 4.668468468468468,
                        "bin_end": 4.742342342342343,
                        "count": 0
                      },
                      {
                        "bin_start": 4.742342342342343,
                        "bin_end": 4.816216216216216,
                        "count": 0
                      },
                      {
                        "bin_start": 4.816216216216216,
                        "bin_end": 4.89009009009009,
                        "count": 0
                      },
                      {
                        "bin_start": 4.89009009009009,
                        "bin_end": 4.963963963963964,
                        "count": 0
                      },
                      {
                        "bin_start": 4.963963963963964,
                        "bin_end": 5.037837837837838,
                        "count": 0
                      },
                      {
                        "bin_start": 5.037837837837838,
                        "bin_end": 5.1117117117117115,
                        "count": 0
                      },
                      {
                        "bin_start": 5.1117117117117115,
                        "bin_end": 5.185585585585585,
                        "count": 0
                      },
                      {
                        "bin_start": 5.185585585585585,
                        "bin_end": 5.2594594594594595,
                        "count": 0
                      },
                      {
                        "bin_start": 5.2594594594594595,
                        "bin_end": 5.333333333333333,
                        "count": 1
                      }
                    ]
                  }
                },
                {
                  "name": "Fixed_Deposits",
                  "dtype": "float64",
                  "stats": {
                    "unique_count": 2,
                    "nan_count": 0,
                    "min": "3.5405405405405403",
                    "max": "4.0",
                    "histogram": [
                      {
                        "bin_start": 3.5405405405405403,
                        "bin_end": 3.5864864864864865,
                        "count": 1
                      },
                      {
                        "bin_start": 3.5864864864864865,
                        "bin_end": 3.632432432432432,
                        "count": 0
                      },
                      {
                        "bin_start": 3.632432432432432,
                        "bin_end": 3.6783783783783783,
                        "count": 0
                      },
                      {
                        "bin_start": 3.6783783783783783,
                        "bin_end": 3.724324324324324,
                        "count": 0
                      },
                      {
                        "bin_start": 3.724324324324324,
                        "bin_end": 3.77027027027027,
                        "count": 0
                      },
                      {
                        "bin_start": 3.77027027027027,
                        "bin_end": 3.8162162162162163,
                        "count": 0
                      },
                      {
                        "bin_start": 3.8162162162162163,
                        "bin_end": 3.862162162162162,
                        "count": 0
                      },
                      {
                        "bin_start": 3.862162162162162,
                        "bin_end": 3.908108108108108,
                        "count": 0
                      },
                      {
                        "bin_start": 3.908108108108108,
                        "bin_end": 3.954054054054054,
                        "count": 0
                      },
                      {
                        "bin_start": 3.954054054054054,
                        "bin_end": 4,
                        "count": 1
                      }
                    ]
                  }
                },
                {
                  "name": "PPF",
                  "dtype": "float64",
                  "stats": {
                    "unique_count": 2,
                    "nan_count": 0,
                    "min": "1.864864864864865",
                    "max": "4.0",
                    "histogram": [
                      {
                        "bin_start": 1.864864864864865,
                        "bin_end": 2.0783783783783782,
                        "count": 1
                      },
                      {
                        "bin_start": 2.0783783783783782,
                        "bin_end": 2.291891891891892,
                        "count": 0
                      },
                      {
                        "bin_start": 2.291891891891892,
                        "bin_end": 2.5054054054054054,
                        "count": 0
                      },
                      {
                        "bin_start": 2.5054054054054054,
                        "bin_end": 2.718918918918919,
                        "count": 0
                      },
                      {
                        "bin_start": 2.718918918918919,
                        "bin_end": 2.9324324324324325,
                        "count": 0
                      },
                      {
                        "bin_start": 2.9324324324324325,
                        "bin_end": 3.145945945945946,
                        "count": 0
                      },
                      {
                        "bin_start": 3.145945945945946,
                        "bin_end": 3.359459459459459,
                        "count": 0
                      },
                      {
                        "bin_start": 3.359459459459459,
                        "bin_end": 3.572972972972973,
                        "count": 0
                      },
                      {
                        "bin_start": 3.572972972972973,
                        "bin_end": 3.7864864864864867,
                        "count": 0
                      },
                      {
                        "bin_start": 3.7864864864864867,
                        "bin_end": 4,
                        "count": 1
                      }
                    ]
                  }
                },
                {
                  "name": "Gold",
                  "dtype": "float64",
                  "stats": {
                    "unique_count": 2,
                    "nan_count": 0,
                    "min": "5.333333333333333",
                    "max": "6.027027027027027",
                    "histogram": [
                      {
                        "bin_start": 5.333333333333333,
                        "bin_end": 5.402702702702703,
                        "count": 1
                      },
                      {
                        "bin_start": 5.402702702702703,
                        "bin_end": 5.472072072072072,
                        "count": 0
                      },
                      {
                        "bin_start": 5.472072072072072,
                        "bin_end": 5.5414414414414415,
                        "count": 0
                      },
                      {
                        "bin_start": 5.5414414414414415,
                        "bin_end": 5.61081081081081,
                        "count": 0
                      },
                      {
                        "bin_start": 5.61081081081081,
                        "bin_end": 5.68018018018018,
                        "count": 0
                      },
                      {
                        "bin_start": 5.68018018018018,
                        "bin_end": 5.74954954954955,
                        "count": 0
                      },
                      {
                        "bin_start": 5.74954954954955,
                        "bin_end": 5.818918918918919,
                        "count": 0
                      },
                      {
                        "bin_start": 5.818918918918919,
                        "bin_end": 5.8882882882882885,
                        "count": 0
                      },
                      {
                        "bin_start": 5.8882882882882885,
                        "bin_end": 5.957657657657657,
                        "count": 0
                      },
                      {
                        "bin_start": 5.957657657657657,
                        "bin_end": 6.027027027027027,
                        "count": 1
                      }
                    ]
                  }
                },
                {
                  "name": "_deepnote_index_column",
                  "dtype": "object"
                }
              ],
              "rows": [
                {
                  "Mutual_Funds": 3.3333333333333335,
                  "Equity_Market": 2.6666666666666665,
                  "Debentures": 3.3333333333333335,
                  "Government_Bonds": 5.333333333333333,
                  "Fixed_Deposits": 4,
                  "PPF": 4,
                  "Gold": 5.333333333333333,
                  "_deepnote_index_column": "No"
                },
                {
                  "Mutual_Funds": 2.4864864864864864,
                  "Equity_Market": 3.5405405405405403,
                  "Debentures": 5.945945945945946,
                  "Government_Bonds": 4.594594594594595,
                  "Fixed_Deposits": 3.5405405405405403,
                  "PPF": 1.864864864864865,
                  "Gold": 6.027027027027027,
                  "_deepnote_index_column": "Yes"
                }
              ]
            },
            "text/plain": "                    Mutual_Funds  Equity_Market  Debentures  Government_Bonds  \\\nInvestment_Avenues                                                              \nNo                      3.333333       2.666667    3.333333          5.333333   \nYes                     2.486486       3.540541    5.945946          4.594595   \n\n                    Fixed_Deposits       PPF      Gold  \nInvestment_Avenues                                      \nNo                        4.000000  4.000000  5.333333  \nYes                       3.540541  1.864865  6.027027  ",
            "text/html": "<div>\n<style scoped>\n    .dataframe tbody tr th:only-of-type {\n        vertical-align: middle;\n    }\n\n    .dataframe tbody tr th {\n        vertical-align: top;\n    }\n\n    .dataframe thead th {\n        text-align: right;\n    }\n</style>\n<table border=\"1\" class=\"dataframe\">\n  <thead>\n    <tr style=\"text-align: right;\">\n      <th></th>\n      <th>Mutual_Funds</th>\n      <th>Equity_Market</th>\n      <th>Debentures</th>\n      <th>Government_Bonds</th>\n      <th>Fixed_Deposits</th>\n      <th>PPF</th>\n      <th>Gold</th>\n    </tr>\n    <tr>\n      <th>Investment_Avenues</th>\n      <th></th>\n      <th></th>\n      <th></th>\n      <th></th>\n      <th></th>\n      <th></th>\n      <th></th>\n    </tr>\n  </thead>\n  <tbody>\n    <tr>\n      <th>No</th>\n      <td>3.333333</td>\n      <td>2.666667</td>\n      <td>3.333333</td>\n      <td>5.333333</td>\n      <td>4.000000</td>\n      <td>4.000000</td>\n      <td>5.333333</td>\n    </tr>\n    <tr>\n      <th>Yes</th>\n      <td>2.486486</td>\n      <td>3.540541</td>\n      <td>5.945946</td>\n      <td>4.594595</td>\n      <td>3.540541</td>\n      <td>1.864865</td>\n      <td>6.027027</td>\n    </tr>\n  </tbody>\n</table>\n</div>"
          },
          "metadata": {}
        }
      ]
    },
    {
      "cell_type": "code",
      "metadata": {
        "source_hash": null,
        "execution_start": 1706553494144,
        "execution_millis": 223,
        "deepnote_to_be_reexecuted": false,
        "cell_id": "ff7ab41b30cd4a2dbafca5978628a0ea",
        "deepnote_cell_type": "code",
        "id": "FapcXQEwnEvc",
        "outputId": "7b144597-ecfd-47de-e3d8-3910f9f75d34"
      },
      "source": [
        "# Let's visualize the data\n",
        "investment_preference_difference.transpose().plot(kind='bar', figsize=(12,6))\n",
        "plt.title('Investment Preferences for Respondents with and without Investment Avenues', fontsize=15)\n",
        "plt.xlabel('Investment Avenues', fontsize=12)\n",
        "plt.ylabel('Mean Score', fontsize=12)\n",
        "plt.xticks(rotation=45)\n",
        "plt.show()"
      ],
      "execution_count": null,
      "outputs": [
        {
          "data": {
            "text/plain": "<Figure size 1200x600 with 1 Axes>",
            "image/png": "[encoded data removed]"
          },
          "metadata": {
            "image/png": {
              "width": 992,
              "height": 646
            }
          },
          "output_type": "display_data"
        }
      ]
    },
    {
      "cell_type": "markdown",
      "source": [
        "* Comparing **investment preferences between those who have investment avenues and those who don't**, those who own investment avenues show a higher preference for equity markets, debentures, and gold. Respondents without investment avenues have a higher preference for mutual funds, fixed deposits, and PPFs."
      ],
      "metadata": {
        "id": "jP9-HHPm0jDG"
      }
    },
    {
      "cell_type": "markdown",
      "source": [
        "### Q: What is the most common factor considered by respondents when choosing an investment?\n"
      ],
      "metadata": {
        "id": "dJsUd-Kc095v"
      }
    },
    {
      "cell_type": "code",
      "metadata": {
        "source_hash": null,
        "execution_start": 1706553503754,
        "execution_millis": 8,
        "deepnote_to_be_reexecuted": false,
        "cell_id": "fbff357e9aa64b40b002436322c81a03",
        "deepnote_cell_type": "code",
        "id": "WC0HvAKjnEvc",
        "outputId": "e3a164c4-b1bc-4d07-c392-8decadec0987"
      },
      "source": [
        "# We'll do a value count of the 'Factor' column to find this answer\n",
        "investment_factors = df['Factor'].value_counts()\n",
        "investment_factors"
      ],
      "execution_count": null,
      "outputs": [
        {
          "output_type": "execute_result",
          "execution_count": 27,
          "data": {
            "text/plain": "Returns           25\nRisk              14\nLocking Period     1\nName: Factor, dtype: int64"
          },
          "metadata": {}
        }
      ]
    },
    {
      "cell_type": "code",
      "metadata": {
        "source_hash": null,
        "execution_start": 1706553511755,
        "execution_millis": 143,
        "deepnote_to_be_reexecuted": false,
        "cell_id": "c004f4981d4d43febd96c7d29da5f1d4",
        "deepnote_cell_type": "code",
        "id": "Hn4qZR0knEve",
        "outputId": "6aae170f-3deb-4bef-d625-a916510bfbb5"
      },
      "source": [
        "# Let's plot the factors considered by respondents when choosing an investment\n",
        "plt.figure(figsize=(8,6))\n",
        "sns.barplot(x=investment_factors.index, y=investment_factors.values, alpha=0.8)\n",
        "plt.title('Factors Considered by Respondents When Choosing an Investment')\n",
        "plt.ylabel('Number of Occurrences', fontsize=12)\n",
        "plt.xlabel('Factors', fontsize=12)\n",
        "plt.show()"
      ],
      "execution_count": null,
      "outputs": [
        {
          "data": {
            "text/plain": "<Figure size 800x600 with 1 Axes>",
            "image/png": "[encoded data removed]"
          },
          "metadata": {
            "image/png": {
              "width": 690,
              "height": 551
            }
          },
          "output_type": "display_data"
        }
      ]
    },
    {
      "cell_type": "markdown",
      "source": [
        "* The **most common factor considered by respondents when choosing an investment** is \"Returns\". This indicates that most respondents prioritize the returns they expect from an investment when making investment decisions. A smaller number of respondents consider \"Risk\" as the most important factor, while very few respondents consider the \"Locking Period\"."
      ],
      "metadata": {
        "id": "lHZpMmt00soP"
      }
    },
    {
      "cell_type": "markdown",
      "source": [
        "### Q: Are there any differences in investment objectives between different age groups?\n"
      ],
      "metadata": {
        "id": "FNKY5Zm105v9"
      }
    },
    {
      "cell_type": "code",
      "metadata": {
        "source_hash": null,
        "execution_start": 1706553520412,
        "execution_millis": 7,
        "deepnote_to_be_reexecuted": false,
        "cell_id": "65cf8c86fc604a0585e9bfa4ba7e89f2",
        "deepnote_cell_type": "code",
        "id": "8CMw57hjnEve",
        "outputId": "1ddc0b1f-1b10-4cd7-b58c-ea3581251f6e"
      },
      "source": [
        "# We'd need to create a frequency distribution of investment objectives grouped by different age groups.\n",
        "age_objective_group = df.groupby('age_category')['Objective'].value_counts()\n",
        "age_objective_group"
      ],
      "execution_count": null,
      "outputs": [
        {
          "output_type": "execute_result",
          "execution_count": 29,
          "data": {
            "text/plain": "age_category  Objective           \n20-25         Capital Appreciation     6\n              Growth                   2\n              Income                   2\n25-30         Capital Appreciation    17\n              Growth                   4\n30-35         Growth                   5\n              Capital Appreciation     3\n              Income                   1\nName: Objective, dtype: int64"
          },
          "metadata": {}
        }
      ]
    },
    {
      "cell_type": "code",
      "metadata": {
        "source_hash": null,
        "execution_start": 1706553526878,
        "execution_millis": 199,
        "deepnote_to_be_reexecuted": false,
        "cell_id": "601e6d5921fe4faeb239c4e2cecc4e0d",
        "deepnote_cell_type": "code",
        "id": "ajF30VLKnEve",
        "outputId": "4995b9f7-2f28-40c3-a5a6-4e14b0d4b8ee"
      },
      "source": [
        "# Let's visualize the differences in investment objectives between different age groups\n",
        "age_objective_group.unstack().plot(kind='bar', stacked=True)\n",
        "plt.title('Differences in Investment Objectives Between Different Age Groups')\n",
        "plt.xlabel('Age Category')\n",
        "plt.ylabel('Count')\n",
        "plt.show()"
      ],
      "execution_count": null,
      "outputs": [
        {
          "data": {
            "text/plain": "<Figure size 640x480 with 1 Axes>",
            "image/png": "[encoded data removed]"
          },
          "metadata": {
            "image/png": {
              "width": 610,
              "height": 481
            }
          },
          "output_type": "display_data"
        }
      ]
    },
    {
      "cell_type": "markdown",
      "source": [
        "* The **differences in investment objectives between different age groups** show that younger respondents aged between 20-25 years old and respondents aged 25-30 prefer capital appreciation. In contrast, respondents aged 30-35 primarily prefer growth, followed by capital appreciation and income in decreasing order. Investing objectives have shifted with age.\n",
        "\n",
        "The above analysis provides valuable insights about the investment behavior of the respondents. In particular, the relationship between investment monitoring frequency, investment duration, expected returns, and factors considered when investing can be useful for financial advisors and institutions for aligning their offerings with the needs and expectations of their clients."
      ],
      "metadata": {
        "id": "138VAiJI0yQl"
      }
    },
    {
      "cell_type": "markdown",
      "metadata": {
        "color": "purple",
        "cell_id": "68e351b69d484b55b627dc9a12fa8448",
        "deepnote_cell_type": "text-cell-callout",
        "id": "gP6fDkFnnEvf"
      },
      "source": [
        "# **A/B Testing Analysis**\n",
        "Let's start answering these questions\n"
      ]
    },
    {
      "cell_type": "markdown",
      "source": [
        "### Q: Does the source of investment information influence the choice of investment avenue?\n",
        "* (A: Internet, B: Newspapers and Magazines)\n"
      ],
      "metadata": {
        "id": "tJ3bj7H21sDl"
      }
    },
    {
      "cell_type": "code",
      "metadata": {
        "source_hash": null,
        "execution_start": 1706553722838,
        "execution_millis": 17,
        "deepnote_to_be_reexecuted": false,
        "cell_id": "6fbbe16a49ab4f1c923181f8df9ada9c",
        "deepnote_cell_type": "code",
        "id": "ypMhmkinnEvg",
        "outputId": "9d6bda24-d168-400a-924a-f78a7db777fc",
        "colab": {
          "base_uri": "https://localhost:8080/",
          "height": 143
        }
      },
      "source": [
        "# First, we consider respondents who chose \"Internet\" or \"Newspapers and Magazines\" as their source of investment information\n",
        "internet_newspapers_investment = df[df['Source'].isin(['Internet', 'Newspapers and Magazines'])]\n",
        "# Defining the list of investment avenues\n",
        "investment_avenues = ['Mutual_Funds', 'Equity_Market', 'Debentures', 'Government_Bonds', 'Fixed_Deposits', 'PPF', 'Gold']\n",
        "\n",
        "# Recomputing the mean scores of each investment avenue based on the source of investment information\n",
        "source_investment_preference = internet_newspapers_investment.groupby('Source')[investment_avenues].mean()\n",
        "\n",
        "source_investment_preference\n",
        "# Compute the mean scores of each investment avenue for respondents choosing either source.\n",
        "source_investment_preference = internet_newspapers_investment.groupby('Source')[investment_avenues].mean()\n",
        "\n",
        "source_investment_preference"
      ],
      "execution_count": null,
      "outputs": [
        {
          "output_type": "execute_result",
          "data": {
            "text/plain": [
              "                          Mutual_Funds  Equity_Market  Debentures  \\\n",
              "Source                                                              \n",
              "Internet                      3.000000       2.250000    3.250000   \n",
              "Newspapers and Magazines      2.214286       3.285714    6.285714   \n",
              "\n",
              "                          Government_Bonds  Fixed_Deposits       PPF  Gold  \n",
              "Source                                                                      \n",
              "Internet                          5.750000        4.500000  4.000000  5.25  \n",
              "Newspapers and Magazines          4.357143        3.785714  2.071429  6.00  "
            ],
            "text/html": [
              "\n",
              "  <div id=\"df-2487c903-454e-4cb8-af54-31d5acad46bf\" class=\"colab-df-container\">\n",
              "    <div>\n",
              "<style scoped>\n",
              "    .dataframe tbody tr th:only-of-type {\n",
              "        vertical-align: middle;\n",
              "    }\n",
              "\n",
              "    .dataframe tbody tr th {\n",
              "        vertical-align: top;\n",
              "    }\n",
              "\n",
              "    .dataframe thead th {\n",
              "        text-align: right;\n",
              "    }\n",
              "</style>\n",
              "<table border=\"1\" class=\"dataframe\">\n",
              "  <thead>\n",
              "    <tr style=\"text-align: right;\">\n",
              "      <th></th>\n",
              "      <th>Mutual_Funds</th>\n",
              "      <th>Equity_Market</th>\n",
              "      <th>Debentures</th>\n",
              "      <th>Government_Bonds</th>\n",
              "      <th>Fixed_Deposits</th>\n",
              "      <th>PPF</th>\n",
              "      <th>Gold</th>\n",
              "    </tr>\n",
              "    <tr>\n",
              "      <th>Source</th>\n",
              "      <th></th>\n",
              "      <th></th>\n",
              "      <th></th>\n",
              "      <th></th>\n",
              "      <th></th>\n",
              "      <th></th>\n",
              "      <th></th>\n",
              "    </tr>\n",
              "  </thead>\n",
              "  <tbody>\n",
              "    <tr>\n",
              "      <th>Internet</th>\n",
              "      <td>3.000000</td>\n",
              "      <td>2.250000</td>\n",
              "      <td>3.250000</td>\n",
              "      <td>5.750000</td>\n",
              "      <td>4.500000</td>\n",
              "      <td>4.000000</td>\n",
              "      <td>5.25</td>\n",
              "    </tr>\n",
              "    <tr>\n",
              "      <th>Newspapers and Magazines</th>\n",
              "      <td>2.214286</td>\n",
              "      <td>3.285714</td>\n",
              "      <td>6.285714</td>\n",
              "      <td>4.357143</td>\n",
              "      <td>3.785714</td>\n",
              "      <td>2.071429</td>\n",
              "      <td>6.00</td>\n",
              "    </tr>\n",
              "  </tbody>\n",
              "</table>\n",
              "</div>\n",
              "    <div class=\"colab-df-buttons\">\n",
              "\n",
              "  <div class=\"colab-df-container\">\n",
              "    <button class=\"colab-df-convert\" onclick=\"convertToInteractive('df-2487c903-454e-4cb8-af54-31d5acad46bf')\"\n",
              "            title=\"Convert this dataframe to an interactive table.\"\n",
              "            style=\"display:none;\">\n",
              "\n",
              "  <svg xmlns=\"http://www.w3.org/2000/svg\" height=\"24px\" viewBox=\"0 -960 960 960\">\n",
              "    <path d=\"M120-120v-720h720v720H120Zm60-500h600v-160H180v160Zm220 220h160v-160H400v160Zm0 220h160v-160H400v160ZM180-400h160v-160H180v160Zm440 0h160v-160H620v160ZM180-180h160v-160H180v160Zm440 0h160v-160H620v160Z\"/>\n",
              "  </svg>\n",
              "    </button>\n",
              "\n",
              "  <style>\n",
              "    .colab-df-container {\n",
              "      display:flex;\n",
              "      gap: 12px;\n",
              "    }\n",
              "\n",
              "    .colab-df-convert {\n",
              "      background-color: #E8F0FE;\n",
              "      border: none;\n",
              "      border-radius: 50%;\n",
              "      cursor: pointer;\n",
              "      display: none;\n",
              "      fill: #1967D2;\n",
              "      height: 32px;\n",
              "      padding: 0 0 0 0;\n",
              "      width: 32px;\n",
              "    }\n",
              "\n",
              "    .colab-df-convert:hover {\n",
              "      background-color: #E2EBFA;\n",
              "      box-shadow: 0px 1px 2px rgba(60, 64, 67, 0.3), 0px 1px 3px 1px rgba(60, 64, 67, 0.15);\n",
              "      fill: #174EA6;\n",
              "    }\n",
              "\n",
              "    .colab-df-buttons div {\n",
              "      margin-bottom: 4px;\n",
              "    }\n",
              "\n",
              "    [theme=dark] .colab-df-convert {\n",
              "      background-color: #3B4455;\n",
              "      fill: #D2E3FC;\n",
              "    }\n",
              "\n",
              "    [theme=dark] .colab-df-convert:hover {\n",
              "      background-color: #434B5C;\n",
              "      box-shadow: 0px 1px 3px 1px rgba(0, 0, 0, 0.15);\n",
              "      filter: drop-shadow(0px 1px 2px rgba(0, 0, 0, 0.3));\n",
              "      fill: #FFFFFF;\n",
              "    }\n",
              "  </style>\n",
              "\n",
              "    <script>\n",
              "      const buttonEl =\n",
              "        document.querySelector('#df-2487c903-454e-4cb8-af54-31d5acad46bf button.colab-df-convert');\n",
              "      buttonEl.style.display =\n",
              "        google.colab.kernel.accessAllowed ? 'block' : 'none';\n",
              "\n",
              "      async function convertToInteractive(key) {\n",
              "        const element = document.querySelector('#df-2487c903-454e-4cb8-af54-31d5acad46bf');\n",
              "        const dataTable =\n",
              "          await google.colab.kernel.invokeFunction('convertToInteractive',\n",
              "                                                    [key], {});\n",
              "        if (!dataTable) return;\n",
              "\n",
              "        const docLinkHtml = 'Like what you see? Visit the ' +\n",
              "          '<a target=\"_blank\" href=https://colab.research.google.com/notebooks/data_table.ipynb>data table notebook</a>'\n",
              "          + ' to learn more about interactive tables.';\n",
              "        element.innerHTML = '';\n",
              "        dataTable['output_type'] = 'display_data';\n",
              "        await google.colab.output.renderOutput(dataTable, element);\n",
              "        const docLink = document.createElement('div');\n",
              "        docLink.innerHTML = docLinkHtml;\n",
              "        element.appendChild(docLink);\n",
              "      }\n",
              "    </script>\n",
              "  </div>\n",
              "\n",
              "\n",
              "<div id=\"df-198c06c8-9701-46d6-8a11-3c7746331445\">\n",
              "  <button class=\"colab-df-quickchart\" onclick=\"quickchart('df-198c06c8-9701-46d6-8a11-3c7746331445')\"\n",
              "            title=\"Suggest charts\"\n",
              "            style=\"display:none;\">\n",
              "\n",
              "<svg xmlns=\"http://www.w3.org/2000/svg\" height=\"24px\"viewBox=\"0 0 24 24\"\n",
              "     width=\"24px\">\n",
              "    <g>\n",
              "        <path d=\"M19 3H5c-1.1 0-2 .9-2 2v14c0 1.1.9 2 2 2h14c1.1 0 2-.9 2-2V5c0-1.1-.9-2-2-2zM9 17H7v-7h2v7zm4 0h-2V7h2v10zm4 0h-2v-4h2v4z\"/>\n",
              "    </g>\n",
              "</svg>\n",
              "  </button>\n",
              "\n",
              "<style>\n",
              "  .colab-df-quickchart {\n",
              "      --bg-color: #E8F0FE;\n",
              "      --fill-color: #1967D2;\n",
              "      --hover-bg-color: #E2EBFA;\n",
              "      --hover-fill-color: #174EA6;\n",
              "      --disabled-fill-color: #AAA;\n",
              "      --disabled-bg-color: #DDD;\n",
              "  }\n",
              "\n",
              "  [theme=dark] .colab-df-quickchart {\n",
              "      --bg-color: #3B4455;\n",
              "      --fill-color: #D2E3FC;\n",
              "      --hover-bg-color: #434B5C;\n",
              "      --hover-fill-color: #FFFFFF;\n",
              "      --disabled-bg-color: #3B4455;\n",
              "      --disabled-fill-color: #666;\n",
              "  }\n",
              "\n",
              "  .colab-df-quickchart {\n",
              "    background-color: var(--bg-color);\n",
              "    border: none;\n",
              "    border-radius: 50%;\n",
              "    cursor: pointer;\n",
              "    display: none;\n",
              "    fill: var(--fill-color);\n",
              "    height: 32px;\n",
              "    padding: 0;\n",
              "    width: 32px;\n",
              "  }\n",
              "\n",
              "  .colab-df-quickchart:hover {\n",
              "    background-color: var(--hover-bg-color);\n",
              "    box-shadow: 0 1px 2px rgba(60, 64, 67, 0.3), 0 1px 3px 1px rgba(60, 64, 67, 0.15);\n",
              "    fill: var(--button-hover-fill-color);\n",
              "  }\n",
              "\n",
              "  .colab-df-quickchart-complete:disabled,\n",
              "  .colab-df-quickchart-complete:disabled:hover {\n",
              "    background-color: var(--disabled-bg-color);\n",
              "    fill: var(--disabled-fill-color);\n",
              "    box-shadow: none;\n",
              "  }\n",
              "\n",
              "  .colab-df-spinner {\n",
              "    border: 2px solid var(--fill-color);\n",
              "    border-color: transparent;\n",
              "    border-bottom-color: var(--fill-color);\n",
              "    animation:\n",
              "      spin 1s steps(1) infinite;\n",
              "  }\n",
              "\n",
              "  @keyframes spin {\n",
              "    0% {\n",
              "      border-color: transparent;\n",
              "      border-bottom-color: var(--fill-color);\n",
              "      border-left-color: var(--fill-color);\n",
              "    }\n",
              "    20% {\n",
              "      border-color: transparent;\n",
              "      border-left-color: var(--fill-color);\n",
              "      border-top-color: var(--fill-color);\n",
              "    }\n",
              "    30% {\n",
              "      border-color: transparent;\n",
              "      border-left-color: var(--fill-color);\n",
              "      border-top-color: var(--fill-color);\n",
              "      border-right-color: var(--fill-color);\n",
              "    }\n",
              "    40% {\n",
              "      border-color: transparent;\n",
              "      border-right-color: var(--fill-color);\n",
              "      border-top-color: var(--fill-color);\n",
              "    }\n",
              "    60% {\n",
              "      border-color: transparent;\n",
              "      border-right-color: var(--fill-color);\n",
              "    }\n",
              "    80% {\n",
              "      border-color: transparent;\n",
              "      border-right-color: var(--fill-color);\n",
              "      border-bottom-color: var(--fill-color);\n",
              "    }\n",
              "    90% {\n",
              "      border-color: transparent;\n",
              "      border-bottom-color: var(--fill-color);\n",
              "    }\n",
              "  }\n",
              "</style>\n",
              "\n",
              "  <script>\n",
              "    async function quickchart(key) {\n",
              "      const quickchartButtonEl =\n",
              "        document.querySelector('#' + key + ' button');\n",
              "      quickchartButtonEl.disabled = true;  // To prevent multiple clicks.\n",
              "      quickchartButtonEl.classList.add('colab-df-spinner');\n",
              "      try {\n",
              "        const charts = await google.colab.kernel.invokeFunction(\n",
              "            'suggestCharts', [key], {});\n",
              "      } catch (error) {\n",
              "        console.error('Error during call to suggestCharts:', error);\n",
              "      }\n",
              "      quickchartButtonEl.classList.remove('colab-df-spinner');\n",
              "      quickchartButtonEl.classList.add('colab-df-quickchart-complete');\n",
              "    }\n",
              "    (() => {\n",
              "      let quickchartButtonEl =\n",
              "        document.querySelector('#df-198c06c8-9701-46d6-8a11-3c7746331445 button');\n",
              "      quickchartButtonEl.style.display =\n",
              "        google.colab.kernel.accessAllowed ? 'block' : 'none';\n",
              "    })();\n",
              "  </script>\n",
              "</div>\n",
              "\n",
              "  <div id=\"id_cf699a4a-9716-4d1a-abf7-da91e90f7890\">\n",
              "    <style>\n",
              "      .colab-df-generate {\n",
              "        background-color: #E8F0FE;\n",
              "        border: none;\n",
              "        border-radius: 50%;\n",
              "        cursor: pointer;\n",
              "        display: none;\n",
              "        fill: #1967D2;\n",
              "        height: 32px;\n",
              "        padding: 0 0 0 0;\n",
              "        width: 32px;\n",
              "      }\n",
              "\n",
              "      .colab-df-generate:hover {\n",
              "        background-color: #E2EBFA;\n",
              "        box-shadow: 0px 1px 2px rgba(60, 64, 67, 0.3), 0px 1px 3px 1px rgba(60, 64, 67, 0.15);\n",
              "        fill: #174EA6;\n",
              "      }\n",
              "\n",
              "      [theme=dark] .colab-df-generate {\n",
              "        background-color: #3B4455;\n",
              "        fill: #D2E3FC;\n",
              "      }\n",
              "\n",
              "      [theme=dark] .colab-df-generate:hover {\n",
              "        background-color: #434B5C;\n",
              "        box-shadow: 0px 1px 3px 1px rgba(0, 0, 0, 0.15);\n",
              "        filter: drop-shadow(0px 1px 2px rgba(0, 0, 0, 0.3));\n",
              "        fill: #FFFFFF;\n",
              "      }\n",
              "    </style>\n",
              "    <button class=\"colab-df-generate\" onclick=\"generateWithVariable('source_investment_preference')\"\n",
              "            title=\"Generate code using this dataframe.\"\n",
              "            style=\"display:none;\">\n",
              "\n",
              "  <svg xmlns=\"http://www.w3.org/2000/svg\" height=\"24px\"viewBox=\"0 0 24 24\"\n",
              "       width=\"24px\">\n",
              "    <path d=\"M7,19H8.4L18.45,9,17,7.55,7,17.6ZM5,21V16.75L18.45,3.32a2,2,0,0,1,2.83,0l1.4,1.43a1.91,1.91,0,0,1,.58,1.4,1.91,1.91,0,0,1-.58,1.4L9.25,21ZM18.45,9,17,7.55Zm-12,3A5.31,5.31,0,0,0,4.9,8.1,5.31,5.31,0,0,0,1,6.5,5.31,5.31,0,0,0,4.9,4.9,5.31,5.31,0,0,0,6.5,1,5.31,5.31,0,0,0,8.1,4.9,5.31,5.31,0,0,0,12,6.5,5.46,5.46,0,0,0,6.5,12Z\"/>\n",
              "  </svg>\n",
              "    </button>\n",
              "    <script>\n",
              "      (() => {\n",
              "      const buttonEl =\n",
              "        document.querySelector('#id_cf699a4a-9716-4d1a-abf7-da91e90f7890 button.colab-df-generate');\n",
              "      buttonEl.style.display =\n",
              "        google.colab.kernel.accessAllowed ? 'block' : 'none';\n",
              "\n",
              "      buttonEl.onclick = () => {\n",
              "        google.colab.notebook.generateWithVariable('source_investment_preference');\n",
              "      }\n",
              "      })();\n",
              "    </script>\n",
              "  </div>\n",
              "\n",
              "    </div>\n",
              "  </div>\n"
            ]
          },
          "metadata": {},
          "execution_count": 4
        }
      ]
    },
    {
      "cell_type": "markdown",
      "source": [
        "* The source of investment information appears to **influence the choice of investment avenue**. Those who rely on the Internet tend to score higher in government bonds, fixed deposits, PPF and mutual funds, whereas those using newspapers and magazines score higher in equity markets, debentures, and gold."
      ],
      "metadata": {
        "id": "QuBoCvzC4DuY"
      }
    },
    {
      "cell_type": "markdown",
      "source": [
        "### Q: Does gender affect the frequency of investment monitoring?\n",
        "* (A: Male, B: Female)\n"
      ],
      "metadata": {
        "id": "M9R9hKvn2owF"
      }
    },
    {
      "cell_type": "code",
      "metadata": {
        "source_hash": null,
        "execution_start": 1706553755546,
        "execution_millis": 24,
        "deepnote_to_be_reexecuted": false,
        "cell_id": "fabb23632c8a41cd95a2dc474e289fad",
        "deepnote_cell_type": "code",
        "id": "mqy0mWBfnEvh",
        "outputId": "25f3ee27-9f6e-42c7-9ec7-dc218d0fb44f"
      },
      "source": [
        "# We'll create a cross-table frequency distribution of gender and monitoring frequency\n",
        "gender_monitor_frequency = pd.crosstab(df['gender'], df['Invest_Monitor'])\n",
        "\n",
        "gender_monitor_frequency"
      ],
      "execution_count": null,
      "outputs": [
        {
          "output_type": "execute_result",
          "execution_count": 5,
          "data": {
            "application/vnd.deepnote.dataframe.v3+json": {
              "column_count": 3,
              "row_count": 2,
              "columns": [
                {
                  "name": "Daily",
                  "dtype": "int64",
                  "stats": {
                    "unique_count": 1,
                    "nan_count": 0,
                    "min": "2",
                    "max": "2",
                    "histogram": [
                      {
                        "bin_start": 1.5,
                        "bin_end": 1.6,
                        "count": 0
                      },
                      {
                        "bin_start": 1.6,
                        "bin_end": 1.7,
                        "count": 0
                      },
                      {
                        "bin_start": 1.7,
                        "bin_end": 1.8,
                        "count": 0
                      },
                      {
                        "bin_start": 1.8,
                        "bin_end": 1.9,
                        "count": 0
                      },
                      {
                        "bin_start": 1.9,
                        "bin_end": 2,
                        "count": 0
                      },
                      {
                        "bin_start": 2,
                        "bin_end": 2.1,
                        "count": 2
                      },
                      {
                        "bin_start": 2.1,
                        "bin_end": 2.2,
                        "count": 0
                      },
                      {
                        "bin_start": 2.2,
                        "bin_end": 2.3,
                        "count": 0
                      },
                      {
                        "bin_start": 2.3,
                        "bin_end": 2.4,
                        "count": 0
                      },
                      {
                        "bin_start": 2.4,
                        "bin_end": 2.5,
                        "count": 0
                      }
                    ]
                  }
                },
                {
                  "name": "Monthly",
                  "dtype": "int64",
                  "stats": {
                    "unique_count": 2,
                    "nan_count": 0,
                    "min": "11",
                    "max": "18",
                    "histogram": [
                      {
                        "bin_start": 11,
                        "bin_end": 11.7,
                        "count": 1
                      },
                      {
                        "bin_start": 11.7,
                        "bin_end": 12.4,
                        "count": 0
                      },
                      {
                        "bin_start": 12.4,
                        "bin_end": 13.1,
                        "count": 0
                      },
                      {
                        "bin_start": 13.1,
                        "bin_end": 13.8,
                        "count": 0
                      },
                      {
                        "bin_start": 13.8,
                        "bin_end": 14.5,
                        "count": 0
                      },
                      {
                        "bin_start": 14.5,
                        "bin_end": 15.2,
                        "count": 0
                      },
                      {
                        "bin_start": 15.2,
                        "bin_end": 15.899999999999999,
                        "count": 0
                      },
                      {
                        "bin_start": 15.899999999999999,
                        "bin_end": 16.6,
                        "count": 0
                      },
                      {
                        "bin_start": 16.6,
                        "bin_end": 17.3,
                        "count": 0
                      },
                      {
                        "bin_start": 17.3,
                        "bin_end": 18,
                        "count": 1
                      }
                    ]
                  }
                },
                {
                  "name": "Weekly",
                  "dtype": "int64",
                  "stats": {
                    "unique_count": 2,
                    "nan_count": 0,
                    "min": "2",
                    "max": "5",
                    "histogram": [
                      {
                        "bin_start": 2,
                        "bin_end": 2.3,
                        "count": 1
                      },
                      {
                        "bin_start": 2.3,
                        "bin_end": 2.6,
                        "count": 0
                      },
                      {
                        "bin_start": 2.6,
                        "bin_end": 2.9,
                        "count": 0
                      },
                      {
                        "bin_start": 2.9,
                        "bin_end": 3.2,
                        "count": 0
                      },
                      {
                        "bin_start": 3.2,
                        "bin_end": 3.5,
                        "count": 0
                      },
                      {
                        "bin_start": 3.5,
                        "bin_end": 3.8,
                        "count": 0
                      },
                      {
                        "bin_start": 3.8,
                        "bin_end": 4.1,
                        "count": 0
                      },
                      {
                        "bin_start": 4.1,
                        "bin_end": 4.4,
                        "count": 0
                      },
                      {
                        "bin_start": 4.4,
                        "bin_end": 4.699999999999999,
                        "count": 0
                      },
                      {
                        "bin_start": 4.699999999999999,
                        "bin_end": 5,
                        "count": 1
                      }
                    ]
                  }
                },
                {
                  "name": "_deepnote_index_column",
                  "dtype": "object"
                }
              ],
              "rows": [
                {
                  "Daily": 2,
                  "Monthly": 11,
                  "Weekly": 2,
                  "_deepnote_index_column": "Female"
                },
                {
                  "Daily": 2,
                  "Monthly": 18,
                  "Weekly": 5,
                  "_deepnote_index_column": "Male"
                }
              ]
            },
            "text/plain": "Invest_Monitor  Daily  Monthly  Weekly\ngender                                \nFemale              2       11       2\nMale                2       18       5",
            "text/html": "<div>\n<style scoped>\n    .dataframe tbody tr th:only-of-type {\n        vertical-align: middle;\n    }\n\n    .dataframe tbody tr th {\n        vertical-align: top;\n    }\n\n    .dataframe thead th {\n        text-align: right;\n    }\n</style>\n<table border=\"1\" class=\"dataframe\">\n  <thead>\n    <tr style=\"text-align: right;\">\n      <th>Invest_Monitor</th>\n      <th>Daily</th>\n      <th>Monthly</th>\n      <th>Weekly</th>\n    </tr>\n    <tr>\n      <th>gender</th>\n      <th></th>\n      <th></th>\n      <th></th>\n    </tr>\n  </thead>\n  <tbody>\n    <tr>\n      <th>Female</th>\n      <td>2</td>\n      <td>11</td>\n      <td>2</td>\n    </tr>\n    <tr>\n      <th>Male</th>\n      <td>2</td>\n      <td>18</td>\n      <td>5</td>\n    </tr>\n  </tbody>\n</table>\n</div>"
          },
          "metadata": {}
        }
      ]
    },
    {
      "cell_type": "markdown",
      "source": [
        "* The **frequency of investment monitoring** does differ somewhat by gender. Males and females monitor their investments with similar frequency on a daily basis, but males tend to monitor their investments more on a monthly and weekly basis compared to females."
      ],
      "metadata": {
        "id": "3TGufuz738yc"
      }
    },
    {
      "cell_type": "markdown",
      "source": [
        "### Q: Does age influence the choice of investment duration?\n",
        "* (A: Age < 30, B: Age >= 30)\n"
      ],
      "metadata": {
        "id": "nu1suOke21Nm"
      }
    },
    {
      "cell_type": "code",
      "metadata": {
        "source_hash": null,
        "execution_start": 1706553772119,
        "execution_millis": 30,
        "deepnote_to_be_reexecuted": false,
        "cell_id": "25aa51031d3d42a2940f9b7f7c8a38d4",
        "deepnote_cell_type": "code",
        "id": "UMuGCHPSnEvh",
        "outputId": "4249f3f2-e5fa-437b-e780-1c054ad8eaf4"
      },
      "source": [
        "# First, we divide respondents by age into two groups\n",
        "df['age_group'] = pd.cut(df['age'], bins=[0, 29, 100], labels=['<30', '>=30'])\n",
        "\n",
        "# Then, we'll create a cross-table frequency distribution of age groups and investment duration\n",
        "age_investment_duration = pd.crosstab(df['age_group'], df['Duration'])\n",
        "\n",
        "age_investment_duration"
      ],
      "execution_count": null,
      "outputs": [
        {
          "output_type": "execute_result",
          "execution_count": 6,
          "data": {
            "application/vnd.deepnote.dataframe.v3+json": {
              "column_count": 4,
              "row_count": 2,
              "columns": [
                {
                  "name": "1-3 years",
                  "dtype": "int64",
                  "stats": {
                    "unique_count": 2,
                    "nan_count": 0,
                    "min": "5",
                    "max": "13",
                    "histogram": [
                      {
                        "bin_start": 5,
                        "bin_end": 5.8,
                        "count": 1
                      },
                      {
                        "bin_start": 5.8,
                        "bin_end": 6.6,
                        "count": 0
                      },
                      {
                        "bin_start": 6.6,
                        "bin_end": 7.4,
                        "count": 0
                      },
                      {
                        "bin_start": 7.4,
                        "bin_end": 8.2,
                        "count": 0
                      },
                      {
                        "bin_start": 8.2,
                        "bin_end": 9,
                        "count": 0
                      },
                      {
                        "bin_start": 9,
                        "bin_end": 9.8,
                        "count": 0
                      },
                      {
                        "bin_start": 9.8,
                        "bin_end": 10.600000000000001,
                        "count": 0
                      },
                      {
                        "bin_start": 10.600000000000001,
                        "bin_end": 11.4,
                        "count": 0
                      },
                      {
                        "bin_start": 11.4,
                        "bin_end": 12.2,
                        "count": 0
                      },
                      {
                        "bin_start": 12.2,
                        "bin_end": 13,
                        "count": 1
                      }
                    ]
                  }
                },
                {
                  "name": "3-5 years",
                  "dtype": "int64",
                  "stats": {
                    "unique_count": 2,
                    "nan_count": 0,
                    "min": "7",
                    "max": "12",
                    "histogram": [
                      {
                        "bin_start": 7,
                        "bin_end": 7.5,
                        "count": 1
                      },
                      {
                        "bin_start": 7.5,
                        "bin_end": 8,
                        "count": 0
                      },
                      {
                        "bin_start": 8,
                        "bin_end": 8.5,
                        "count": 0
                      },
                      {
                        "bin_start": 8.5,
                        "bin_end": 9,
                        "count": 0
                      },
                      {
                        "bin_start": 9,
                        "bin_end": 9.5,
                        "count": 0
                      },
                      {
                        "bin_start": 9.5,
                        "bin_end": 10,
                        "count": 0
                      },
                      {
                        "bin_start": 10,
                        "bin_end": 10.5,
                        "count": 0
                      },
                      {
                        "bin_start": 10.5,
                        "bin_end": 11,
                        "count": 0
                      },
                      {
                        "bin_start": 11,
                        "bin_end": 11.5,
                        "count": 0
                      },
                      {
                        "bin_start": 11.5,
                        "bin_end": 12,
                        "count": 1
                      }
                    ]
                  }
                },
                {
                  "name": "Less than 1 year",
                  "dtype": "int64",
                  "stats": {
                    "unique_count": 2,
                    "nan_count": 0,
                    "min": "0",
                    "max": "2",
                    "histogram": [
                      {
                        "bin_start": 0,
                        "bin_end": 0.2,
                        "count": 1
                      },
                      {
                        "bin_start": 0.2,
                        "bin_end": 0.4,
                        "count": 0
                      },
                      {
                        "bin_start": 0.4,
                        "bin_end": 0.6000000000000001,
                        "count": 0
                      },
                      {
                        "bin_start": 0.6000000000000001,
                        "bin_end": 0.8,
                        "count": 0
                      },
                      {
                        "bin_start": 0.8,
                        "bin_end": 1,
                        "count": 0
                      },
                      {
                        "bin_start": 1,
                        "bin_end": 1.2000000000000002,
                        "count": 0
                      },
                      {
                        "bin_start": 1.2000000000000002,
                        "bin_end": 1.4000000000000001,
                        "count": 0
                      },
                      {
                        "bin_start": 1.4000000000000001,
                        "bin_end": 1.6,
                        "count": 0
                      },
                      {
                        "bin_start": 1.6,
                        "bin_end": 1.8,
                        "count": 0
                      },
                      {
                        "bin_start": 1.8,
                        "bin_end": 2,
                        "count": 1
                      }
                    ]
                  }
                },
                {
                  "name": "More than 5 years",
                  "dtype": "int64",
                  "stats": {
                    "unique_count": 2,
                    "nan_count": 0,
                    "min": "0",
                    "max": "1",
                    "histogram": [
                      {
                        "bin_start": 0,
                        "bin_end": 0.1,
                        "count": 1
                      },
                      {
                        "bin_start": 0.1,
                        "bin_end": 0.2,
                        "count": 0
                      },
                      {
                        "bin_start": 0.2,
                        "bin_end": 0.30000000000000004,
                        "count": 0
                      },
                      {
                        "bin_start": 0.30000000000000004,
                        "bin_end": 0.4,
                        "count": 0
                      },
                      {
                        "bin_start": 0.4,
                        "bin_end": 0.5,
                        "count": 0
                      },
                      {
                        "bin_start": 0.5,
                        "bin_end": 0.6000000000000001,
                        "count": 0
                      },
                      {
                        "bin_start": 0.6000000000000001,
                        "bin_end": 0.7000000000000001,
                        "count": 0
                      },
                      {
                        "bin_start": 0.7000000000000001,
                        "bin_end": 0.8,
                        "count": 0
                      },
                      {
                        "bin_start": 0.8,
                        "bin_end": 0.9,
                        "count": 0
                      },
                      {
                        "bin_start": 0.9,
                        "bin_end": 1,
                        "count": 1
                      }
                    ]
                  }
                },
                {
                  "name": "_deepnote_index_column",
                  "dtype": "category"
                }
              ],
              "rows": [
                {
                  "1-3 years": 13,
                  "3-5 years": 12,
                  "Less than 1 year": 2,
                  "More than 5 years": 1,
                  "_deepnote_index_column": "<30"
                },
                {
                  "1-3 years": 5,
                  "3-5 years": 7,
                  "Less than 1 year": 0,
                  "More than 5 years": 0,
                  "_deepnote_index_column": ">=30"
                }
              ]
            },
            "text/plain": "Duration   1-3 years  3-5 years  Less than 1 year  More than 5 years\nage_group                                                           \n<30               13         12                 2                  1\n>=30               5          7                 0                  0",
            "text/html": "<div>\n<style scoped>\n    .dataframe tbody tr th:only-of-type {\n        vertical-align: middle;\n    }\n\n    .dataframe tbody tr th {\n        vertical-align: top;\n    }\n\n    .dataframe thead th {\n        text-align: right;\n    }\n</style>\n<table border=\"1\" class=\"dataframe\">\n  <thead>\n    <tr style=\"text-align: right;\">\n      <th>Duration</th>\n      <th>1-3 years</th>\n      <th>3-5 years</th>\n      <th>Less than 1 year</th>\n      <th>More than 5 years</th>\n    </tr>\n    <tr>\n      <th>age_group</th>\n      <th></th>\n      <th></th>\n      <th></th>\n      <th></th>\n    </tr>\n  </thead>\n  <tbody>\n    <tr>\n      <th>&lt;30</th>\n      <td>13</td>\n      <td>12</td>\n      <td>2</td>\n      <td>1</td>\n    </tr>\n    <tr>\n      <th>&gt;=30</th>\n      <td>5</td>\n      <td>7</td>\n      <td>0</td>\n      <td>0</td>\n    </tr>\n  </tbody>\n</table>\n</div>"
          },
          "metadata": {}
        }
      ]
    },
    {
      "cell_type": "markdown",
      "source": [
        "* **Age does influence the choice of investment duration**. Respondents under 30 years of age generally prefer a mix of investment durations, including many in the \"1-3 years\" category. Older respondents (30 and above) show a clear preference for \"3-5 years\" duration, with none opting for \"more than 5 years\"."
      ],
      "metadata": {
        "id": "CvCXwscK33AF"
      }
    },
    {
      "cell_type": "markdown",
      "source": [
        "### Q: Does the investment objective affect the choice of investment avenue?\n",
        "* (A: Capital Appreciation, B: Income)\n"
      ],
      "metadata": {
        "id": "0XaK3QqQ27wl"
      }
    },
    {
      "cell_type": "code",
      "metadata": {
        "source_hash": null,
        "execution_start": 1706553781263,
        "execution_millis": 7,
        "deepnote_to_be_reexecuted": false,
        "cell_id": "da359c42bb524e1c922bd034d6b84bfe",
        "deepnote_cell_type": "code",
        "id": "fsFMdMR5nEvh",
        "outputId": "b3b37282-5b8f-43f7-d216-60bd83f48f7e"
      },
      "source": [
        "# We consider respondents who chose \"Capital Appreciation\" or \"Income\" as their investment objective\n",
        "capital_appreciation_income = df[df['Objective'].isin(['Capital Appreciation', 'Income'])]\n",
        "\n",
        "# Compute the mean scores of each investment avenue for respondents with either investment objective.\n",
        "objective_investment_preference = capital_appreciation_income.groupby('Objective')[investment_avenues].mean()\n",
        "\n",
        "objective_investment_preference"
      ],
      "execution_count": null,
      "outputs": [
        {
          "output_type": "execute_result",
          "execution_count": 7,
          "data": {
            "application/vnd.deepnote.dataframe.v3+json": {
              "column_count": 7,
              "row_count": 2,
              "columns": [
                {
                  "name": "Mutual_Funds",
                  "dtype": "float64",
                  "stats": {
                    "unique_count": 2,
                    "nan_count": 0,
                    "min": "2.5",
                    "max": "3.0",
                    "histogram": [
                      {
                        "bin_start": 2.5,
                        "bin_end": 2.55,
                        "count": 1
                      },
                      {
                        "bin_start": 2.55,
                        "bin_end": 2.6,
                        "count": 0
                      },
                      {
                        "bin_start": 2.6,
                        "bin_end": 2.65,
                        "count": 0
                      },
                      {
                        "bin_start": 2.65,
                        "bin_end": 2.7,
                        "count": 0
                      },
                      {
                        "bin_start": 2.7,
                        "bin_end": 2.75,
                        "count": 0
                      },
                      {
                        "bin_start": 2.75,
                        "bin_end": 2.8,
                        "count": 0
                      },
                      {
                        "bin_start": 2.8,
                        "bin_end": 2.85,
                        "count": 0
                      },
                      {
                        "bin_start": 2.85,
                        "bin_end": 2.9,
                        "count": 0
                      },
                      {
                        "bin_start": 2.9,
                        "bin_end": 2.95,
                        "count": 0
                      },
                      {
                        "bin_start": 2.95,
                        "bin_end": 3,
                        "count": 1
                      }
                    ]
                  }
                },
                {
                  "name": "Equity_Market",
                  "dtype": "float64",
                  "stats": {
                    "unique_count": 2,
                    "nan_count": 0,
                    "min": "2.0",
                    "max": "3.5",
                    "histogram": [
                      {
                        "bin_start": 2,
                        "bin_end": 2.15,
                        "count": 1
                      },
                      {
                        "bin_start": 2.15,
                        "bin_end": 2.3,
                        "count": 0
                      },
                      {
                        "bin_start": 2.3,
                        "bin_end": 2.45,
                        "count": 0
                      },
                      {
                        "bin_start": 2.45,
                        "bin_end": 2.6,
                        "count": 0
                      },
                      {
                        "bin_start": 2.6,
                        "bin_end": 2.75,
                        "count": 0
                      },
                      {
                        "bin_start": 2.75,
                        "bin_end": 2.9,
                        "count": 0
                      },
                      {
                        "bin_start": 2.9,
                        "bin_end": 3.05,
                        "count": 0
                      },
                      {
                        "bin_start": 3.05,
                        "bin_end": 3.2,
                        "count": 0
                      },
                      {
                        "bin_start": 3.2,
                        "bin_end": 3.3499999999999996,
                        "count": 0
                      },
                      {
                        "bin_start": 3.3499999999999996,
                        "bin_end": 3.5,
                        "count": 1
                      }
                    ]
                  }
                },
                {
                  "name": "Debentures",
                  "dtype": "float64",
                  "stats": {
                    "unique_count": 2,
                    "nan_count": 0,
                    "min": "3.0",
                    "max": "5.846153846153846",
                    "histogram": [
                      {
                        "bin_start": 3,
                        "bin_end": 3.2846153846153845,
                        "count": 1
                      },
                      {
                        "bin_start": 3.2846153846153845,
                        "bin_end": 3.569230769230769,
                        "count": 0
                      },
                      {
                        "bin_start": 3.569230769230769,
                        "bin_end": 3.853846153846154,
                        "count": 0
                      },
                      {
                        "bin_start": 3.853846153846154,
                        "bin_end": 4.138461538461538,
                        "count": 0
                      },
                      {
                        "bin_start": 4.138461538461538,
                        "bin_end": 4.423076923076923,
                        "count": 0
                      },
                      {
                        "bin_start": 4.423076923076923,
                        "bin_end": 4.707692307692308,
                        "count": 0
                      },
                      {
                        "bin_start": 4.707692307692308,
                        "bin_end": 4.992307692307692,
                        "count": 0
                      },
                      {
                        "bin_start": 4.992307692307692,
                        "bin_end": 5.276923076923077,
                        "count": 0
                      },
                      {
                        "bin_start": 5.276923076923077,
                        "bin_end": 5.561538461538461,
                        "count": 0
                      },
                      {
                        "bin_start": 5.561538461538461,
                        "bin_end": 5.846153846153846,
                        "count": 1
                      }
                    ]
                  }
                },
                {
                  "name": "Government_Bonds",
                  "dtype": "float64",
                  "stats": {
                    "unique_count": 2,
                    "nan_count": 0,
                    "min": "4.5",
                    "max": "5.0",
                    "histogram": [
                      {
                        "bin_start": 4.5,
                        "bin_end": 4.55,
                        "count": 1
                      },
                      {
                        "bin_start": 4.55,
                        "bin_end": 4.6,
                        "count": 0
                      },
                      {
                        "bin_start": 4.6,
                        "bin_end": 4.65,
                        "count": 0
                      },
                      {
                        "bin_start": 4.65,
                        "bin_end": 4.7,
                        "count": 0
                      },
                      {
                        "bin_start": 4.7,
                        "bin_end": 4.75,
                        "count": 0
                      },
                      {
                        "bin_start": 4.75,
                        "bin_end": 4.8,
                        "count": 0
                      },
                      {
                        "bin_start": 4.8,
                        "bin_end": 4.85,
                        "count": 0
                      },
                      {
                        "bin_start": 4.85,
                        "bin_end": 4.9,
                        "count": 0
                      },
                      {
                        "bin_start": 4.9,
                        "bin_end": 4.95,
                        "count": 0
                      },
                      {
                        "bin_start": 4.95,
                        "bin_end": 5,
                        "count": 1
                      }
                    ]
                  }
                },
                {
                  "name": "Fixed_Deposits",
                  "dtype": "float64",
                  "stats": {
                    "unique_count": 2,
                    "nan_count": 0,
                    "min": "3.5",
                    "max": "5.666666666666667",
                    "histogram": [
                      {
                        "bin_start": 3.5,
                        "bin_end": 3.716666666666667,
                        "count": 1
                      },
                      {
                        "bin_start": 3.716666666666667,
                        "bin_end": 3.9333333333333336,
                        "count": 0
                      },
                      {
                        "bin_start": 3.9333333333333336,
                        "bin_end": 4.15,
                        "count": 0
                      },
                      {
                        "bin_start": 4.15,
                        "bin_end": 4.366666666666667,
                        "count": 0
                      },
                      {
                        "bin_start": 4.366666666666667,
                        "bin_end": 4.583333333333334,
                        "count": 0
                      },
                      {
                        "bin_start": 4.583333333333334,
                        "bin_end": 4.800000000000001,
                        "count": 0
                      },
                      {
                        "bin_start": 4.800000000000001,
                        "bin_end": 5.016666666666667,
                        "count": 0
                      },
                      {
                        "bin_start": 5.016666666666667,
                        "bin_end": 5.233333333333333,
                        "count": 0
                      },
                      {
                        "bin_start": 5.233333333333333,
                        "bin_end": 5.45,
                        "count": 0
                      },
                      {
                        "bin_start": 5.45,
                        "bin_end": 5.666666666666667,
                        "count": 1
                      }
                    ]
                  }
                },
                {
                  "name": "PPF",
                  "dtype": "float64",
                  "stats": {
                    "unique_count": 2,
                    "nan_count": 0,
                    "min": "2.1153846153846154",
                    "max": "3.3333333333333335",
                    "histogram": [
                      {
                        "bin_start": 2.1153846153846154,
                        "bin_end": 2.2371794871794872,
                        "count": 1
                      },
                      {
                        "bin_start": 2.2371794871794872,
                        "bin_end": 2.358974358974359,
                        "count": 0
                      },
                      {
                        "bin_start": 2.358974358974359,
                        "bin_end": 2.480769230769231,
                        "count": 0
                      },
                      {
                        "bin_start": 2.480769230769231,
                        "bin_end": 2.6025641025641026,
                        "count": 0
                      },
                      {
                        "bin_start": 2.6025641025641026,
                        "bin_end": 2.7243589743589745,
                        "count": 0
                      },
                      {
                        "bin_start": 2.7243589743589745,
                        "bin_end": 2.8461538461538463,
                        "count": 0
                      },
                      {
                        "bin_start": 2.8461538461538463,
                        "bin_end": 2.967948717948718,
                        "count": 0
                      },
                      {
                        "bin_start": 2.967948717948718,
                        "bin_end": 3.08974358974359,
                        "count": 0
                      },
                      {
                        "bin_start": 3.08974358974359,
                        "bin_end": 3.2115384615384617,
                        "count": 0
                      },
                      {
                        "bin_start": 3.2115384615384617,
                        "bin_end": 3.3333333333333335,
                        "count": 1
                      }
                    ]
                  }
                },
                {
                  "name": "Gold",
                  "dtype": "float64",
                  "stats": {
                    "unique_count": 2,
                    "nan_count": 0,
                    "min": "6.0",
                    "max": "6.038461538461538",
                    "histogram": [
                      {
                        "bin_start": 6,
                        "bin_end": 6.003846153846154,
                        "count": 1
                      },
                      {
                        "bin_start": 6.003846153846154,
                        "bin_end": 6.007692307692308,
                        "count": 0
                      },
                      {
                        "bin_start": 6.007692307692308,
                        "bin_end": 6.0115384615384615,
                        "count": 0
                      },
                      {
                        "bin_start": 6.0115384615384615,
                        "bin_end": 6.015384615384615,
                        "count": 0
                      },
                      {
                        "bin_start": 6.015384615384615,
                        "bin_end": 6.019230769230769,
                        "count": 0
                      },
                      {
                        "bin_start": 6.019230769230769,
                        "bin_end": 6.023076923076923,
                        "count": 0
                      },
                      {
                        "bin_start": 6.023076923076923,
                        "bin_end": 6.026923076923077,
                        "count": 0
                      },
                      {
                        "bin_start": 6.026923076923077,
                        "bin_end": 6.030769230769231,
                        "count": 0
                      },
                      {
                        "bin_start": 6.030769230769231,
                        "bin_end": 6.0346153846153845,
                        "count": 0
                      },
                      {
                        "bin_start": 6.0346153846153845,
                        "bin_end": 6.038461538461538,
                        "count": 1
                      }
                    ]
                  }
                },
                {
                  "name": "_deepnote_index_column",
                  "dtype": "object"
                }
              ],
              "rows": [
                {
                  "Mutual_Funds": 2.5,
                  "Equity_Market": 3.5,
                  "Debentures": 5.846153846153846,
                  "Government_Bonds": 4.5,
                  "Fixed_Deposits": 3.5,
                  "PPF": 2.1153846153846154,
                  "Gold": 6.038461538461538,
                  "_deepnote_index_column": "Capital Appreciation"
                },
                {
                  "Mutual_Funds": 3,
                  "Equity_Market": 2,
                  "Debentures": 3,
                  "Government_Bonds": 5,
                  "Fixed_Deposits": 5.666666666666667,
                  "PPF": 3.3333333333333335,
                  "Gold": 6,
                  "_deepnote_index_column": "Income"
                }
              ]
            },
            "text/plain": "                      Mutual_Funds  Equity_Market  Debentures  \\\nObjective                                                       \nCapital Appreciation           2.5            3.5    5.846154   \nIncome                         3.0            2.0    3.000000   \n\n                      Government_Bonds  Fixed_Deposits       PPF      Gold  \nObjective                                                                   \nCapital Appreciation               4.5        3.500000  2.115385  6.038462  \nIncome                             5.0        5.666667  3.333333  6.000000  ",
            "text/html": "<div>\n<style scoped>\n    .dataframe tbody tr th:only-of-type {\n        vertical-align: middle;\n    }\n\n    .dataframe tbody tr th {\n        vertical-align: top;\n    }\n\n    .dataframe thead th {\n        text-align: right;\n    }\n</style>\n<table border=\"1\" class=\"dataframe\">\n  <thead>\n    <tr style=\"text-align: right;\">\n      <th></th>\n      <th>Mutual_Funds</th>\n      <th>Equity_Market</th>\n      <th>Debentures</th>\n      <th>Government_Bonds</th>\n      <th>Fixed_Deposits</th>\n      <th>PPF</th>\n      <th>Gold</th>\n    </tr>\n    <tr>\n      <th>Objective</th>\n      <th></th>\n      <th></th>\n      <th></th>\n      <th></th>\n      <th></th>\n      <th></th>\n      <th></th>\n    </tr>\n  </thead>\n  <tbody>\n    <tr>\n      <th>Capital Appreciation</th>\n      <td>2.5</td>\n      <td>3.5</td>\n      <td>5.846154</td>\n      <td>4.5</td>\n      <td>3.500000</td>\n      <td>2.115385</td>\n      <td>6.038462</td>\n    </tr>\n    <tr>\n      <th>Income</th>\n      <td>3.0</td>\n      <td>2.0</td>\n      <td>3.000000</td>\n      <td>5.0</td>\n      <td>5.666667</td>\n      <td>3.333333</td>\n      <td>6.000000</td>\n    </tr>\n  </tbody>\n</table>\n</div>"
          },
          "metadata": {}
        }
      ]
    },
    {
      "cell_type": "markdown",
      "source": [
        "* The **investment objective seems to affect the choice** of investment avenue. Those with the objective of 'Capital Appreciation' tend to have higher scores in equity markets, debentures, and gold, indicating an orientation towards growth. On the other hand, those investing for 'Income' tend to score higher in fixed deposits and PPF, indicating a preference for more stable, income-producing investments."
      ],
      "metadata": {
        "id": "uS9-_d0E3ucm"
      }
    },
    {
      "cell_type": "markdown",
      "source": [
        "### Q: Does the reason for choosing an investment avenue affect the expected returns?\n",
        "* (A: Better Returns, B: Safe Investment)\n"
      ],
      "metadata": {
        "id": "x5gF54VL3BiE"
      }
    },
    {
      "cell_type": "code",
      "metadata": {
        "source_hash": null,
        "execution_start": 1706553815931,
        "execution_millis": 309,
        "deepnote_to_be_reexecuted": false,
        "cell_id": "b41d9b2daa1042d89de90b1e12fbf2c1",
        "deepnote_cell_type": "code",
        "id": "ceg0aaijnEvj",
        "outputId": "91f2140f-00b9-498c-bed0-1bdc7ea63577",
        "colab": {
          "base_uri": "https://localhost:8080/",
          "height": 358
        }
      },
      "source": [
        "# We consider respondents who chose \"Better Returns\" or \"Safe Investment\" as their reasons across different investment avenues\n",
        "better_safe_returns = df[(df['Reason_Equity'].isin(['Better Returns', 'Safe Investment'])) |\n",
        "                    (df['Reason_Mutual'].isin(['Better Returns', 'Safe Investment'])) |\n",
        "                    (df['Reason_Bonds'].isin(['Better Returns', 'Safe Investment'])) |\n",
        "                    (df['Reason_FD'].isin(['Better Returns', 'Safe Investment']))]\n",
        "\n",
        "# Now we'll measure the distribution of expected returns for each group\n",
        "expectation_reasons_returns = pd.crosstab(better_safe_returns['Expect'],\n",
        "                        [better_safe_returns['Reason_Equity'],\n",
        "                         better_safe_returns['Reason_Mutual'],\n",
        "                         better_safe_returns['Reason_Bonds'],\n",
        "                         better_safe_returns['Reason_FD']],\n",
        "                        normalize='columns').round(3)\n",
        "\n",
        "expectation_reasons_returns"
      ],
      "execution_count": null,
      "outputs": [
        {
          "output_type": "execute_result",
          "data": {
            "text/plain": [
              "Reason_Equity Capital Appreciation                                \\\n",
              "Reason_Mutual       Better Returns                                 \n",
              "Reason_Bonds       Assured Returns                                 \n",
              "Reason_FD            Fixed Returns High Interest Rates Risk Free   \n",
              "Expect                                                             \n",
              "10%-20%                        0.0                 0.0     0.000   \n",
              "20%-30%                        1.0                 1.0     0.889   \n",
              "30%-40%                        0.0                 0.0     0.111   \n",
              "\n",
              "Reason_Equity                                                                 \\\n",
              "Reason_Mutual                           Fund Diversification    Tax Benefits   \n",
              "Reason_Bonds  Safe Investment                Safe Investment Safe Investment   \n",
              "Reason_FD       Fixed Returns Risk Free        Fixed Returns   Fixed Returns   \n",
              "Expect                                                                         \n",
              "10%-20%                 0.000       0.0                  0.0             1.0   \n",
              "20%-30%                 0.667       1.0                  1.0             0.0   \n",
              "30%-40%                 0.333       0.0                  0.0             0.0   \n",
              "\n",
              "Reason_Equity        Dividend                                                \\\n",
              "Reason_Mutual  Better Returns                                                 \n",
              "Reason_Bonds  Assured Returns Safe Investment                                 \n",
              "Reason_FD           Risk Free   Fixed Returns High Interest Rates Risk Free   \n",
              "Expect                                                                        \n",
              "10%-20%                   0.0             0.0                 0.0       0.0   \n",
              "20%-30%                   1.0             1.0                 1.0       1.0   \n",
              "30%-40%                   0.0             0.0                 0.0       0.0   \n",
              "\n",
              "Reason_Equity       Liquidity                       \n",
              "Reason_Mutual  Better Returns Fund Diversification  \n",
              "Reason_Bonds  Assured Returns      Safe Investment  \n",
              "Reason_FD           Risk Free            Risk Free  \n",
              "Expect                                              \n",
              "10%-20%                   0.0                  0.0  \n",
              "20%-30%                   1.0                  0.0  \n",
              "30%-40%                   0.0                  1.0  "
            ],
            "text/html": [
              "\n",
              "  <div id=\"df-8c0b0a69-0520-4be0-b2f5-e31959e6c603\" class=\"colab-df-container\">\n",
              "    <div>\n",
              "<style scoped>\n",
              "    .dataframe tbody tr th:only-of-type {\n",
              "        vertical-align: middle;\n",
              "    }\n",
              "\n",
              "    .dataframe tbody tr th {\n",
              "        vertical-align: top;\n",
              "    }\n",
              "\n",
              "    .dataframe thead tr th {\n",
              "        text-align: left;\n",
              "    }\n",
              "\n",
              "    .dataframe thead tr:last-of-type th {\n",
              "        text-align: right;\n",
              "    }\n",
              "</style>\n",
              "<table border=\"1\" class=\"dataframe\">\n",
              "  <thead>\n",
              "    <tr>\n",
              "      <th>Reason_Equity</th>\n",
              "      <th colspan=\"7\" halign=\"left\">Capital Appreciation</th>\n",
              "      <th colspan=\"4\" halign=\"left\">Dividend</th>\n",
              "      <th colspan=\"2\" halign=\"left\">Liquidity</th>\n",
              "    </tr>\n",
              "    <tr>\n",
              "      <th>Reason_Mutual</th>\n",
              "      <th colspan=\"5\" halign=\"left\">Better Returns</th>\n",
              "      <th>Fund Diversification</th>\n",
              "      <th>Tax Benefits</th>\n",
              "      <th colspan=\"4\" halign=\"left\">Better Returns</th>\n",
              "      <th>Better Returns</th>\n",
              "      <th>Fund Diversification</th>\n",
              "    </tr>\n",
              "    <tr>\n",
              "      <th>Reason_Bonds</th>\n",
              "      <th colspan=\"3\" halign=\"left\">Assured Returns</th>\n",
              "      <th colspan=\"2\" halign=\"left\">Safe Investment</th>\n",
              "      <th>Safe Investment</th>\n",
              "      <th>Safe Investment</th>\n",
              "      <th>Assured Returns</th>\n",
              "      <th colspan=\"3\" halign=\"left\">Safe Investment</th>\n",
              "      <th>Assured Returns</th>\n",
              "      <th>Safe Investment</th>\n",
              "    </tr>\n",
              "    <tr>\n",
              "      <th>Reason_FD</th>\n",
              "      <th>Fixed Returns</th>\n",
              "      <th>High Interest Rates</th>\n",
              "      <th>Risk Free</th>\n",
              "      <th>Fixed Returns</th>\n",
              "      <th>Risk Free</th>\n",
              "      <th>Fixed Returns</th>\n",
              "      <th>Fixed Returns</th>\n",
              "      <th>Risk Free</th>\n",
              "      <th>Fixed Returns</th>\n",
              "      <th>High Interest Rates</th>\n",
              "      <th>Risk Free</th>\n",
              "      <th>Risk Free</th>\n",
              "      <th>Risk Free</th>\n",
              "    </tr>\n",
              "    <tr>\n",
              "      <th>Expect</th>\n",
              "      <th></th>\n",
              "      <th></th>\n",
              "      <th></th>\n",
              "      <th></th>\n",
              "      <th></th>\n",
              "      <th></th>\n",
              "      <th></th>\n",
              "      <th></th>\n",
              "      <th></th>\n",
              "      <th></th>\n",
              "      <th></th>\n",
              "      <th></th>\n",
              "      <th></th>\n",
              "    </tr>\n",
              "  </thead>\n",
              "  <tbody>\n",
              "    <tr>\n",
              "      <th>10%-20%</th>\n",
              "      <td>0.0</td>\n",
              "      <td>0.0</td>\n",
              "      <td>0.000</td>\n",
              "      <td>0.000</td>\n",
              "      <td>0.0</td>\n",
              "      <td>0.0</td>\n",
              "      <td>1.0</td>\n",
              "      <td>0.0</td>\n",
              "      <td>0.0</td>\n",
              "      <td>0.0</td>\n",
              "      <td>0.0</td>\n",
              "      <td>0.0</td>\n",
              "      <td>0.0</td>\n",
              "    </tr>\n",
              "    <tr>\n",
              "      <th>20%-30%</th>\n",
              "      <td>1.0</td>\n",
              "      <td>1.0</td>\n",
              "      <td>0.889</td>\n",
              "      <td>0.667</td>\n",
              "      <td>1.0</td>\n",
              "      <td>1.0</td>\n",
              "      <td>0.0</td>\n",
              "      <td>1.0</td>\n",
              "      <td>1.0</td>\n",
              "      <td>1.0</td>\n",
              "      <td>1.0</td>\n",
              "      <td>1.0</td>\n",
              "      <td>0.0</td>\n",
              "    </tr>\n",
              "    <tr>\n",
              "      <th>30%-40%</th>\n",
              "      <td>0.0</td>\n",
              "      <td>0.0</td>\n",
              "      <td>0.111</td>\n",
              "      <td>0.333</td>\n",
              "      <td>0.0</td>\n",
              "      <td>0.0</td>\n",
              "      <td>0.0</td>\n",
              "      <td>0.0</td>\n",
              "      <td>0.0</td>\n",
              "      <td>0.0</td>\n",
              "      <td>0.0</td>\n",
              "      <td>0.0</td>\n",
              "      <td>1.0</td>\n",
              "    </tr>\n",
              "  </tbody>\n",
              "</table>\n",
              "</div>\n",
              "    <div class=\"colab-df-buttons\">\n",
              "\n",
              "  <div class=\"colab-df-container\">\n",
              "    <button class=\"colab-df-convert\" onclick=\"convertToInteractive('df-8c0b0a69-0520-4be0-b2f5-e31959e6c603')\"\n",
              "            title=\"Convert this dataframe to an interactive table.\"\n",
              "            style=\"display:none;\">\n",
              "\n",
              "  <svg xmlns=\"http://www.w3.org/2000/svg\" height=\"24px\" viewBox=\"0 -960 960 960\">\n",
              "    <path d=\"M120-120v-720h720v720H120Zm60-500h600v-160H180v160Zm220 220h160v-160H400v160Zm0 220h160v-160H400v160ZM180-400h160v-160H180v160Zm440 0h160v-160H620v160ZM180-180h160v-160H180v160Zm440 0h160v-160H620v160Z\"/>\n",
              "  </svg>\n",
              "    </button>\n",
              "\n",
              "  <style>\n",
              "    .colab-df-container {\n",
              "      display:flex;\n",
              "      gap: 12px;\n",
              "    }\n",
              "\n",
              "    .colab-df-convert {\n",
              "      background-color: #E8F0FE;\n",
              "      border: none;\n",
              "      border-radius: 50%;\n",
              "      cursor: pointer;\n",
              "      display: none;\n",
              "      fill: #1967D2;\n",
              "      height: 32px;\n",
              "      padding: 0 0 0 0;\n",
              "      width: 32px;\n",
              "    }\n",
              "\n",
              "    .colab-df-convert:hover {\n",
              "      background-color: #E2EBFA;\n",
              "      box-shadow: 0px 1px 2px rgba(60, 64, 67, 0.3), 0px 1px 3px 1px rgba(60, 64, 67, 0.15);\n",
              "      fill: #174EA6;\n",
              "    }\n",
              "\n",
              "    .colab-df-buttons div {\n",
              "      margin-bottom: 4px;\n",
              "    }\n",
              "\n",
              "    [theme=dark] .colab-df-convert {\n",
              "      background-color: #3B4455;\n",
              "      fill: #D2E3FC;\n",
              "    }\n",
              "\n",
              "    [theme=dark] .colab-df-convert:hover {\n",
              "      background-color: #434B5C;\n",
              "      box-shadow: 0px 1px 3px 1px rgba(0, 0, 0, 0.15);\n",
              "      filter: drop-shadow(0px 1px 2px rgba(0, 0, 0, 0.3));\n",
              "      fill: #FFFFFF;\n",
              "    }\n",
              "  </style>\n",
              "\n",
              "    <script>\n",
              "      const buttonEl =\n",
              "        document.querySelector('#df-8c0b0a69-0520-4be0-b2f5-e31959e6c603 button.colab-df-convert');\n",
              "      buttonEl.style.display =\n",
              "        google.colab.kernel.accessAllowed ? 'block' : 'none';\n",
              "\n",
              "      async function convertToInteractive(key) {\n",
              "        const element = document.querySelector('#df-8c0b0a69-0520-4be0-b2f5-e31959e6c603');\n",
              "        const dataTable =\n",
              "          await google.colab.kernel.invokeFunction('convertToInteractive',\n",
              "                                                    [key], {});\n",
              "        if (!dataTable) return;\n",
              "\n",
              "        const docLinkHtml = 'Like what you see? Visit the ' +\n",
              "          '<a target=\"_blank\" href=https://colab.research.google.com/notebooks/data_table.ipynb>data table notebook</a>'\n",
              "          + ' to learn more about interactive tables.';\n",
              "        element.innerHTML = '';\n",
              "        dataTable['output_type'] = 'display_data';\n",
              "        await google.colab.output.renderOutput(dataTable, element);\n",
              "        const docLink = document.createElement('div');\n",
              "        docLink.innerHTML = docLinkHtml;\n",
              "        element.appendChild(docLink);\n",
              "      }\n",
              "    </script>\n",
              "  </div>\n",
              "\n",
              "\n",
              "<div id=\"df-6ff5da0c-9a39-43c4-845b-1cbcc20b9a7e\">\n",
              "  <button class=\"colab-df-quickchart\" onclick=\"quickchart('df-6ff5da0c-9a39-43c4-845b-1cbcc20b9a7e')\"\n",
              "            title=\"Suggest charts\"\n",
              "            style=\"display:none;\">\n",
              "\n",
              "<svg xmlns=\"http://www.w3.org/2000/svg\" height=\"24px\"viewBox=\"0 0 24 24\"\n",
              "     width=\"24px\">\n",
              "    <g>\n",
              "        <path d=\"M19 3H5c-1.1 0-2 .9-2 2v14c0 1.1.9 2 2 2h14c1.1 0 2-.9 2-2V5c0-1.1-.9-2-2-2zM9 17H7v-7h2v7zm4 0h-2V7h2v10zm4 0h-2v-4h2v4z\"/>\n",
              "    </g>\n",
              "</svg>\n",
              "  </button>\n",
              "\n",
              "<style>\n",
              "  .colab-df-quickchart {\n",
              "      --bg-color: #E8F0FE;\n",
              "      --fill-color: #1967D2;\n",
              "      --hover-bg-color: #E2EBFA;\n",
              "      --hover-fill-color: #174EA6;\n",
              "      --disabled-fill-color: #AAA;\n",
              "      --disabled-bg-color: #DDD;\n",
              "  }\n",
              "\n",
              "  [theme=dark] .colab-df-quickchart {\n",
              "      --bg-color: #3B4455;\n",
              "      --fill-color: #D2E3FC;\n",
              "      --hover-bg-color: #434B5C;\n",
              "      --hover-fill-color: #FFFFFF;\n",
              "      --disabled-bg-color: #3B4455;\n",
              "      --disabled-fill-color: #666;\n",
              "  }\n",
              "\n",
              "  .colab-df-quickchart {\n",
              "    background-color: var(--bg-color);\n",
              "    border: none;\n",
              "    border-radius: 50%;\n",
              "    cursor: pointer;\n",
              "    display: none;\n",
              "    fill: var(--fill-color);\n",
              "    height: 32px;\n",
              "    padding: 0;\n",
              "    width: 32px;\n",
              "  }\n",
              "\n",
              "  .colab-df-quickchart:hover {\n",
              "    background-color: var(--hover-bg-color);\n",
              "    box-shadow: 0 1px 2px rgba(60, 64, 67, 0.3), 0 1px 3px 1px rgba(60, 64, 67, 0.15);\n",
              "    fill: var(--button-hover-fill-color);\n",
              "  }\n",
              "\n",
              "  .colab-df-quickchart-complete:disabled,\n",
              "  .colab-df-quickchart-complete:disabled:hover {\n",
              "    background-color: var(--disabled-bg-color);\n",
              "    fill: var(--disabled-fill-color);\n",
              "    box-shadow: none;\n",
              "  }\n",
              "\n",
              "  .colab-df-spinner {\n",
              "    border: 2px solid var(--fill-color);\n",
              "    border-color: transparent;\n",
              "    border-bottom-color: var(--fill-color);\n",
              "    animation:\n",
              "      spin 1s steps(1) infinite;\n",
              "  }\n",
              "\n",
              "  @keyframes spin {\n",
              "    0% {\n",
              "      border-color: transparent;\n",
              "      border-bottom-color: var(--fill-color);\n",
              "      border-left-color: var(--fill-color);\n",
              "    }\n",
              "    20% {\n",
              "      border-color: transparent;\n",
              "      border-left-color: var(--fill-color);\n",
              "      border-top-color: var(--fill-color);\n",
              "    }\n",
              "    30% {\n",
              "      border-color: transparent;\n",
              "      border-left-color: var(--fill-color);\n",
              "      border-top-color: var(--fill-color);\n",
              "      border-right-color: var(--fill-color);\n",
              "    }\n",
              "    40% {\n",
              "      border-color: transparent;\n",
              "      border-right-color: var(--fill-color);\n",
              "      border-top-color: var(--fill-color);\n",
              "    }\n",
              "    60% {\n",
              "      border-color: transparent;\n",
              "      border-right-color: var(--fill-color);\n",
              "    }\n",
              "    80% {\n",
              "      border-color: transparent;\n",
              "      border-right-color: var(--fill-color);\n",
              "      border-bottom-color: var(--fill-color);\n",
              "    }\n",
              "    90% {\n",
              "      border-color: transparent;\n",
              "      border-bottom-color: var(--fill-color);\n",
              "    }\n",
              "  }\n",
              "</style>\n",
              "\n",
              "  <script>\n",
              "    async function quickchart(key) {\n",
              "      const quickchartButtonEl =\n",
              "        document.querySelector('#' + key + ' button');\n",
              "      quickchartButtonEl.disabled = true;  // To prevent multiple clicks.\n",
              "      quickchartButtonEl.classList.add('colab-df-spinner');\n",
              "      try {\n",
              "        const charts = await google.colab.kernel.invokeFunction(\n",
              "            'suggestCharts', [key], {});\n",
              "      } catch (error) {\n",
              "        console.error('Error during call to suggestCharts:', error);\n",
              "      }\n",
              "      quickchartButtonEl.classList.remove('colab-df-spinner');\n",
              "      quickchartButtonEl.classList.add('colab-df-quickchart-complete');\n",
              "    }\n",
              "    (() => {\n",
              "      let quickchartButtonEl =\n",
              "        document.querySelector('#df-6ff5da0c-9a39-43c4-845b-1cbcc20b9a7e button');\n",
              "      quickchartButtonEl.style.display =\n",
              "        google.colab.kernel.accessAllowed ? 'block' : 'none';\n",
              "    })();\n",
              "  </script>\n",
              "</div>\n",
              "\n",
              "  <div id=\"id_69d6fc9c-437c-4dd8-945a-28ce63e1ffff\">\n",
              "    <style>\n",
              "      .colab-df-generate {\n",
              "        background-color: #E8F0FE;\n",
              "        border: none;\n",
              "        border-radius: 50%;\n",
              "        cursor: pointer;\n",
              "        display: none;\n",
              "        fill: #1967D2;\n",
              "        height: 32px;\n",
              "        padding: 0 0 0 0;\n",
              "        width: 32px;\n",
              "      }\n",
              "\n",
              "      .colab-df-generate:hover {\n",
              "        background-color: #E2EBFA;\n",
              "        box-shadow: 0px 1px 2px rgba(60, 64, 67, 0.3), 0px 1px 3px 1px rgba(60, 64, 67, 0.15);\n",
              "        fill: #174EA6;\n",
              "      }\n",
              "\n",
              "      [theme=dark] .colab-df-generate {\n",
              "        background-color: #3B4455;\n",
              "        fill: #D2E3FC;\n",
              "      }\n",
              "\n",
              "      [theme=dark] .colab-df-generate:hover {\n",
              "        background-color: #434B5C;\n",
              "        box-shadow: 0px 1px 3px 1px rgba(0, 0, 0, 0.15);\n",
              "        filter: drop-shadow(0px 1px 2px rgba(0, 0, 0, 0.3));\n",
              "        fill: #FFFFFF;\n",
              "      }\n",
              "    </style>\n",
              "    <button class=\"colab-df-generate\" onclick=\"generateWithVariable('expectation_reasons_returns')\"\n",
              "            title=\"Generate code using this dataframe.\"\n",
              "            style=\"display:none;\">\n",
              "\n",
              "  <svg xmlns=\"http://www.w3.org/2000/svg\" height=\"24px\"viewBox=\"0 0 24 24\"\n",
              "       width=\"24px\">\n",
              "    <path d=\"M7,19H8.4L18.45,9,17,7.55,7,17.6ZM5,21V16.75L18.45,3.32a2,2,0,0,1,2.83,0l1.4,1.43a1.91,1.91,0,0,1,.58,1.4,1.91,1.91,0,0,1-.58,1.4L9.25,21ZM18.45,9,17,7.55Zm-12,3A5.31,5.31,0,0,0,4.9,8.1,5.31,5.31,0,0,0,1,6.5,5.31,5.31,0,0,0,4.9,4.9,5.31,5.31,0,0,0,6.5,1,5.31,5.31,0,0,0,8.1,4.9,5.31,5.31,0,0,0,12,6.5,5.46,5.46,0,0,0,6.5,12Z\"/>\n",
              "  </svg>\n",
              "    </button>\n",
              "    <script>\n",
              "      (() => {\n",
              "      const buttonEl =\n",
              "        document.querySelector('#id_69d6fc9c-437c-4dd8-945a-28ce63e1ffff button.colab-df-generate');\n",
              "      buttonEl.style.display =\n",
              "        google.colab.kernel.accessAllowed ? 'block' : 'none';\n",
              "\n",
              "      buttonEl.onclick = () => {\n",
              "        google.colab.notebook.generateWithVariable('expectation_reasons_returns');\n",
              "      }\n",
              "      })();\n",
              "    </script>\n",
              "  </div>\n",
              "\n",
              "    </div>\n",
              "  </div>\n"
            ]
          },
          "metadata": {},
          "execution_count": 5
        }
      ]
    },
    {
      "cell_type": "markdown",
      "metadata": {
        "cell_id": "1081e4af0b9349e09abb1487e3fd95db",
        "deepnote_cell_type": "text-cell-p",
        "id": "5VlRTxWVnEvk"
      },
      "source": [
        "* The **reason for choosing an investment avenue does have a relationship with expected returns**. Generally, respondents who choose an investment avenue for 'Better Returns' seem to have a higher expectation for returns in the 20-30% range, while those who chose for 'Safe Investment' also predominantly expect returns in the 20-30% range with some variation across the different reasons given for different investment types.\n",
        "\n",
        "These insights can provide useful information for marketing teams, investment advisers, and financial institutions, offering a deeper understanding of the factors that influence the investment decisions of individuals."
      ]
    },
    {
      "cell_type": "markdown",
      "source": [
        "### Q: Does having an investment avenue influence the savings objective?\n",
        "* (A: Has investment avenue, B: Does not have investment avenue)\n"
      ],
      "metadata": {
        "id": "hBpVB61F_zv6"
      }
    },
    {
      "cell_type": "code",
      "metadata": {
        "source_hash": null,
        "execution_start": 1706553946459,
        "execution_millis": 7,
        "deepnote_to_be_reexecuted": false,
        "cell_id": "2f97df4fdae74da184d0b3045acdd5f9",
        "deepnote_cell_type": "code",
        "id": "FdcjF_D-nEvk",
        "outputId": "4946b18d-21c0-4101-c496-7cb41392ae5b"
      },
      "source": [
        "# For this, we'll create a cross-table frequency distribution of 'Investment_Avenues' and 'What are your savings objectives?'\n",
        "\n",
        "investment_savings_objective = pd.crosstab(df['Investment_Avenues'], df['What are your savings objectives?'])\n",
        "investment_savings_objective"
      ],
      "execution_count": null,
      "outputs": [
        {
          "output_type": "execute_result",
          "execution_count": 10,
          "data": {
            "application/vnd.deepnote.dataframe.v3+json": {
              "column_count": 3,
              "row_count": 2,
              "columns": [
                {
                  "name": "Education",
                  "dtype": "int64",
                  "stats": {
                    "unique_count": 2,
                    "nan_count": 0,
                    "min": "1",
                    "max": "2",
                    "histogram": [
                      {
                        "bin_start": 1,
                        "bin_end": 1.1,
                        "count": 1
                      },
                      {
                        "bin_start": 1.1,
                        "bin_end": 1.2,
                        "count": 0
                      },
                      {
                        "bin_start": 1.2,
                        "bin_end": 1.3,
                        "count": 0
                      },
                      {
                        "bin_start": 1.3,
                        "bin_end": 1.4,
                        "count": 0
                      },
                      {
                        "bin_start": 1.4,
                        "bin_end": 1.5,
                        "count": 0
                      },
                      {
                        "bin_start": 1.5,
                        "bin_end": 1.6,
                        "count": 0
                      },
                      {
                        "bin_start": 1.6,
                        "bin_end": 1.7000000000000002,
                        "count": 0
                      },
                      {
                        "bin_start": 1.7000000000000002,
                        "bin_end": 1.8,
                        "count": 0
                      },
                      {
                        "bin_start": 1.8,
                        "bin_end": 1.9,
                        "count": 0
                      },
                      {
                        "bin_start": 1.9,
                        "bin_end": 2,
                        "count": 1
                      }
                    ]
                  }
                },
                {
                  "name": "Health Care",
                  "dtype": "int64",
                  "stats": {
                    "unique_count": 2,
                    "nan_count": 0,
                    "min": "0",
                    "max": "13",
                    "histogram": [
                      {
                        "bin_start": 0,
                        "bin_end": 1.3,
                        "count": 1
                      },
                      {
                        "bin_start": 1.3,
                        "bin_end": 2.6,
                        "count": 0
                      },
                      {
                        "bin_start": 2.6,
                        "bin_end": 3.9000000000000004,
                        "count": 0
                      },
                      {
                        "bin_start": 3.9000000000000004,
                        "bin_end": 5.2,
                        "count": 0
                      },
                      {
                        "bin_start": 5.2,
                        "bin_end": 6.5,
                        "count": 0
                      },
                      {
                        "bin_start": 6.5,
                        "bin_end": 7.800000000000001,
                        "count": 0
                      },
                      {
                        "bin_start": 7.800000000000001,
                        "bin_end": 9.1,
                        "count": 0
                      },
                      {
                        "bin_start": 9.1,
                        "bin_end": 10.4,
                        "count": 0
                      },
                      {
                        "bin_start": 10.4,
                        "bin_end": 11.700000000000001,
                        "count": 0
                      },
                      {
                        "bin_start": 11.700000000000001,
                        "bin_end": 13,
                        "count": 1
                      }
                    ]
                  }
                },
                {
                  "name": "Retirement Plan",
                  "dtype": "int64",
                  "stats": {
                    "unique_count": 2,
                    "nan_count": 0,
                    "min": "2",
                    "max": "22",
                    "histogram": [
                      {
                        "bin_start": 2,
                        "bin_end": 4,
                        "count": 1
                      },
                      {
                        "bin_start": 4,
                        "bin_end": 6,
                        "count": 0
                      },
                      {
                        "bin_start": 6,
                        "bin_end": 8,
                        "count": 0
                      },
                      {
                        "bin_start": 8,
                        "bin_end": 10,
                        "count": 0
                      },
                      {
                        "bin_start": 10,
                        "bin_end": 12,
                        "count": 0
                      },
                      {
                        "bin_start": 12,
                        "bin_end": 14,
                        "count": 0
                      },
                      {
                        "bin_start": 14,
                        "bin_end": 16,
                        "count": 0
                      },
                      {
                        "bin_start": 16,
                        "bin_end": 18,
                        "count": 0
                      },
                      {
                        "bin_start": 18,
                        "bin_end": 20,
                        "count": 0
                      },
                      {
                        "bin_start": 20,
                        "bin_end": 22,
                        "count": 1
                      }
                    ]
                  }
                },
                {
                  "name": "_deepnote_index_column",
                  "dtype": "object"
                }
              ],
              "rows": [
                {
                  "Education": 1,
                  "Health Care": 0,
                  "Retirement Plan": 2,
                  "_deepnote_index_column": "No"
                },
                {
                  "Education": 2,
                  "Health Care": 13,
                  "Retirement Plan": 22,
                  "_deepnote_index_column": "Yes"
                }
              ]
            },
            "text/plain": "What are your savings objectives?  Education  Health Care  Retirement Plan\nInvestment_Avenues                                                        \nNo                                         1            0                2\nYes                                        2           13               22",
            "text/html": "<div>\n<style scoped>\n    .dataframe tbody tr th:only-of-type {\n        vertical-align: middle;\n    }\n\n    .dataframe tbody tr th {\n        vertical-align: top;\n    }\n\n    .dataframe thead th {\n        text-align: right;\n    }\n</style>\n<table border=\"1\" class=\"dataframe\">\n  <thead>\n    <tr style=\"text-align: right;\">\n      <th>What are your savings objectives?</th>\n      <th>Education</th>\n      <th>Health Care</th>\n      <th>Retirement Plan</th>\n    </tr>\n    <tr>\n      <th>Investment_Avenues</th>\n      <th></th>\n      <th></th>\n      <th></th>\n    </tr>\n  </thead>\n  <tbody>\n    <tr>\n      <th>No</th>\n      <td>1</td>\n      <td>0</td>\n      <td>2</td>\n    </tr>\n    <tr>\n      <th>Yes</th>\n      <td>2</td>\n      <td>13</td>\n      <td>22</td>\n    </tr>\n  </tbody>\n</table>\n</div>"
          },
          "metadata": {}
        }
      ]
    },
    {
      "cell_type": "markdown",
      "source": [
        "* Having an investment avenue does appear to influence the savings objective. Respondents with investment avenues most frequently reported retirement plan as their savings objective, followed by health care and education. Those without investment avenues reported largely the same rankings, though with a lower frequency across categories."
      ],
      "metadata": {
        "id": "Zq5otCjGAkX1"
      }
    },
    {
      "cell_type": "markdown",
      "source": [
        "### Q: Does the frequency of investment monitoring affect the choice of investment avenue?\n",
        "* (A: Daily, B: Monthly)\n"
      ],
      "metadata": {
        "id": "Es7V9WN0_59S"
      }
    },
    {
      "cell_type": "code",
      "metadata": {
        "source_hash": null,
        "execution_start": 1706553956894,
        "execution_millis": 9,
        "deepnote_to_be_reexecuted": false,
        "cell_id": "1121789523ed428797a99c10abc4477a",
        "deepnote_cell_type": "code",
        "id": "SMU5cjDDnEvk",
        "outputId": "a490bf8f-2c59-4f0c-fd5f-6bb4e6c8b361"
      },
      "source": [
        "# This requires computation of the mean scores of each investment avenue depending on the 'Invest_Monitor' frequency.\n",
        "\n",
        "frequency_investment_preference = df[df['Invest_Monitor'].isin(['Daily', 'Monthly'])].groupby('Invest_Monitor')[investment_avenues].mean()\n",
        "frequency_investment_preference"
      ],
      "execution_count": null,
      "outputs": [
        {
          "output_type": "execute_result",
          "execution_count": 11,
          "data": {
            "application/vnd.deepnote.dataframe.v3+json": {
              "column_count": 7,
              "row_count": 2,
              "columns": [
                {
                  "name": "Mutual_Funds",
                  "dtype": "float64",
                  "stats": {
                    "unique_count": 2,
                    "nan_count": 0,
                    "min": "2.5172413793103448",
                    "max": "3.5",
                    "histogram": [
                      {
                        "bin_start": 2.5172413793103448,
                        "bin_end": 2.6155172413793104,
                        "count": 1
                      },
                      {
                        "bin_start": 2.6155172413793104,
                        "bin_end": 2.7137931034482756,
                        "count": 0
                      },
                      {
                        "bin_start": 2.7137931034482756,
                        "bin_end": 2.8120689655172413,
                        "count": 0
                      },
                      {
                        "bin_start": 2.8120689655172413,
                        "bin_end": 2.910344827586207,
                        "count": 0
                      },
                      {
                        "bin_start": 2.910344827586207,
                        "bin_end": 3.0086206896551726,
                        "count": 0
                      },
                      {
                        "bin_start": 3.0086206896551726,
                        "bin_end": 3.106896551724138,
                        "count": 0
                      },
                      {
                        "bin_start": 3.106896551724138,
                        "bin_end": 3.2051724137931035,
                        "count": 0
                      },
                      {
                        "bin_start": 3.2051724137931035,
                        "bin_end": 3.3034482758620687,
                        "count": 0
                      },
                      {
                        "bin_start": 3.3034482758620687,
                        "bin_end": 3.4017241379310343,
                        "count": 0
                      },
                      {
                        "bin_start": 3.4017241379310343,
                        "bin_end": 3.5,
                        "count": 1
                      }
                    ]
                  }
                },
                {
                  "name": "Equity_Market",
                  "dtype": "float64",
                  "stats": {
                    "unique_count": 2,
                    "nan_count": 0,
                    "min": "3.25",
                    "max": "3.5172413793103448",
                    "histogram": [
                      {
                        "bin_start": 3.25,
                        "bin_end": 3.2767241379310343,
                        "count": 1
                      },
                      {
                        "bin_start": 3.2767241379310343,
                        "bin_end": 3.303448275862069,
                        "count": 0
                      },
                      {
                        "bin_start": 3.303448275862069,
                        "bin_end": 3.3301724137931035,
                        "count": 0
                      },
                      {
                        "bin_start": 3.3301724137931035,
                        "bin_end": 3.356896551724138,
                        "count": 0
                      },
                      {
                        "bin_start": 3.356896551724138,
                        "bin_end": 3.3836206896551726,
                        "count": 0
                      },
                      {
                        "bin_start": 3.3836206896551726,
                        "bin_end": 3.410344827586207,
                        "count": 0
                      },
                      {
                        "bin_start": 3.410344827586207,
                        "bin_end": 3.4370689655172413,
                        "count": 0
                      },
                      {
                        "bin_start": 3.4370689655172413,
                        "bin_end": 3.4637931034482756,
                        "count": 0
                      },
                      {
                        "bin_start": 3.4637931034482756,
                        "bin_end": 3.4905172413793104,
                        "count": 0
                      },
                      {
                        "bin_start": 3.4905172413793104,
                        "bin_end": 3.5172413793103448,
                        "count": 1
                      }
                    ]
                  }
                },
                {
                  "name": "Debentures",
                  "dtype": "float64",
                  "stats": {
                    "unique_count": 2,
                    "nan_count": 0,
                    "min": "3.5",
                    "max": "6.137931034482759",
                    "histogram": [
                      {
                        "bin_start": 3.5,
                        "bin_end": 3.763793103448276,
                        "count": 1
                      },
                      {
                        "bin_start": 3.763793103448276,
                        "bin_end": 4.027586206896552,
                        "count": 0
                      },
                      {
                        "bin_start": 4.027586206896552,
                        "bin_end": 4.291379310344828,
                        "count": 0
                      },
                      {
                        "bin_start": 4.291379310344828,
                        "bin_end": 4.555172413793104,
                        "count": 0
                      },
                      {
                        "bin_start": 4.555172413793104,
                        "bin_end": 4.818965517241379,
                        "count": 0
                      },
                      {
                        "bin_start": 4.818965517241379,
                        "bin_end": 5.082758620689655,
                        "count": 0
                      },
                      {
                        "bin_start": 5.082758620689655,
                        "bin_end": 5.346551724137932,
                        "count": 0
                      },
                      {
                        "bin_start": 5.346551724137932,
                        "bin_end": 5.610344827586207,
                        "count": 0
                      },
                      {
                        "bin_start": 5.610344827586207,
                        "bin_end": 5.874137931034483,
                        "count": 0
                      },
                      {
                        "bin_start": 5.874137931034483,
                        "bin_end": 6.137931034482759,
                        "count": 1
                      }
                    ]
                  }
                },
                {
                  "name": "Government_Bonds",
                  "dtype": "float64",
                  "stats": {
                    "unique_count": 2,
                    "nan_count": 0,
                    "min": "4.655172413793103",
                    "max": "5.25",
                    "histogram": [
                      {
                        "bin_start": 4.655172413793103,
                        "bin_end": 4.714655172413793,
                        "count": 1
                      },
                      {
                        "bin_start": 4.714655172413793,
                        "bin_end": 4.774137931034483,
                        "count": 0
                      },
                      {
                        "bin_start": 4.774137931034483,
                        "bin_end": 4.833620689655172,
                        "count": 0
                      },
                      {
                        "bin_start": 4.833620689655172,
                        "bin_end": 4.893103448275862,
                        "count": 0
                      },
                      {
                        "bin_start": 4.893103448275862,
                        "bin_end": 4.952586206896552,
                        "count": 0
                      },
                      {
                        "bin_start": 4.952586206896552,
                        "bin_end": 5.0120689655172415,
                        "count": 0
                      },
                      {
                        "bin_start": 5.0120689655172415,
                        "bin_end": 5.071551724137931,
                        "count": 0
                      },
                      {
                        "bin_start": 5.071551724137931,
                        "bin_end": 5.13103448275862,
                        "count": 0
                      },
                      {
                        "bin_start": 5.13103448275862,
                        "bin_end": 5.19051724137931,
                        "count": 0
                      },
                      {
                        "bin_start": 5.19051724137931,
                        "bin_end": 5.25,
                        "count": 1
                      }
                    ]
                  }
                },
                {
                  "name": "Fixed_Deposits",
                  "dtype": "float64",
                  "stats": {
                    "unique_count": 2,
                    "nan_count": 0,
                    "min": "3.413793103448276",
                    "max": "4.5",
                    "histogram": [
                      {
                        "bin_start": 3.413793103448276,
                        "bin_end": 3.522413793103448,
                        "count": 1
                      },
                      {
                        "bin_start": 3.522413793103448,
                        "bin_end": 3.6310344827586207,
                        "count": 0
                      },
                      {
                        "bin_start": 3.6310344827586207,
                        "bin_end": 3.739655172413793,
                        "count": 0
                      },
                      {
                        "bin_start": 3.739655172413793,
                        "bin_end": 3.8482758620689657,
                        "count": 0
                      },
                      {
                        "bin_start": 3.8482758620689657,
                        "bin_end": 3.956896551724138,
                        "count": 0
                      },
                      {
                        "bin_start": 3.956896551724138,
                        "bin_end": 4.06551724137931,
                        "count": 0
                      },
                      {
                        "bin_start": 4.06551724137931,
                        "bin_end": 4.174137931034482,
                        "count": 0
                      },
                      {
                        "bin_start": 4.174137931034482,
                        "bin_end": 4.2827586206896555,
                        "count": 0
                      },
                      {
                        "bin_start": 4.2827586206896555,
                        "bin_end": 4.391379310344828,
                        "count": 0
                      },
                      {
                        "bin_start": 4.391379310344828,
                        "bin_end": 4.5,
                        "count": 1
                      }
                    ]
                  }
                },
                {
                  "name": "PPF",
                  "dtype": "float64",
                  "stats": {
                    "unique_count": 2,
                    "nan_count": 0,
                    "min": "1.8275862068965518",
                    "max": "2.75",
                    "histogram": [
                      {
                        "bin_start": 1.8275862068965518,
                        "bin_end": 1.9198275862068965,
                        "count": 1
                      },
                      {
                        "bin_start": 1.9198275862068965,
                        "bin_end": 2.0120689655172415,
                        "count": 0
                      },
                      {
                        "bin_start": 2.0120689655172415,
                        "bin_end": 2.1043103448275864,
                        "count": 0
                      },
                      {
                        "bin_start": 2.1043103448275864,
                        "bin_end": 2.1965517241379313,
                        "count": 0
                      },
                      {
                        "bin_start": 2.1965517241379313,
                        "bin_end": 2.288793103448276,
                        "count": 0
                      },
                      {
                        "bin_start": 2.288793103448276,
                        "bin_end": 2.3810344827586207,
                        "count": 0
                      },
                      {
                        "bin_start": 2.3810344827586207,
                        "bin_end": 2.4732758620689657,
                        "count": 0
                      },
                      {
                        "bin_start": 2.4732758620689657,
                        "bin_end": 2.56551724137931,
                        "count": 0
                      },
                      {
                        "bin_start": 2.56551724137931,
                        "bin_end": 2.657758620689655,
                        "count": 0
                      },
                      {
                        "bin_start": 2.657758620689655,
                        "bin_end": 2.75,
                        "count": 1
                      }
                    ]
                  }
                },
                {
                  "name": "Gold",
                  "dtype": "float64",
                  "stats": {
                    "unique_count": 2,
                    "nan_count": 0,
                    "min": "5.25",
                    "max": "5.931034482758621",
                    "histogram": [
                      {
                        "bin_start": 5.25,
                        "bin_end": 5.3181034482758625,
                        "count": 1
                      },
                      {
                        "bin_start": 5.3181034482758625,
                        "bin_end": 5.386206896551724,
                        "count": 0
                      },
                      {
                        "bin_start": 5.386206896551724,
                        "bin_end": 5.4543103448275865,
                        "count": 0
                      },
                      {
                        "bin_start": 5.4543103448275865,
                        "bin_end": 5.522413793103448,
                        "count": 0
                      },
                      {
                        "bin_start": 5.522413793103448,
                        "bin_end": 5.5905172413793105,
                        "count": 0
                      },
                      {
                        "bin_start": 5.5905172413793105,
                        "bin_end": 5.658620689655173,
                        "count": 0
                      },
                      {
                        "bin_start": 5.658620689655173,
                        "bin_end": 5.7267241379310345,
                        "count": 0
                      },
                      {
                        "bin_start": 5.7267241379310345,
                        "bin_end": 5.794827586206897,
                        "count": 0
                      },
                      {
                        "bin_start": 5.794827586206897,
                        "bin_end": 5.8629310344827585,
                        "count": 0
                      },
                      {
                        "bin_start": 5.8629310344827585,
                        "bin_end": 5.931034482758621,
                        "count": 1
                      }
                    ]
                  }
                },
                {
                  "name": "_deepnote_index_column",
                  "dtype": "object"
                }
              ],
              "rows": [
                {
                  "Mutual_Funds": 3.5,
                  "Equity_Market": 3.25,
                  "Debentures": 3.5,
                  "Government_Bonds": 5.25,
                  "Fixed_Deposits": 4.5,
                  "PPF": 2.75,
                  "Gold": 5.25,
                  "_deepnote_index_column": "Daily"
                },
                {
                  "Mutual_Funds": 2.5172413793103448,
                  "Equity_Market": 3.5172413793103448,
                  "Debentures": 6.137931034482759,
                  "Government_Bonds": 4.655172413793103,
                  "Fixed_Deposits": 3.413793103448276,
                  "PPF": 1.8275862068965518,
                  "Gold": 5.931034482758621,
                  "_deepnote_index_column": "Monthly"
                }
              ]
            },
            "text/plain": "                Mutual_Funds  Equity_Market  Debentures  Government_Bonds  \\\nInvest_Monitor                                                              \nDaily               3.500000       3.250000    3.500000          5.250000   \nMonthly             2.517241       3.517241    6.137931          4.655172   \n\n                Fixed_Deposits       PPF      Gold  \nInvest_Monitor                                      \nDaily                 4.500000  2.750000  5.250000  \nMonthly               3.413793  1.827586  5.931034  ",
            "text/html": "<div>\n<style scoped>\n    .dataframe tbody tr th:only-of-type {\n        vertical-align: middle;\n    }\n\n    .dataframe tbody tr th {\n        vertical-align: top;\n    }\n\n    .dataframe thead th {\n        text-align: right;\n    }\n</style>\n<table border=\"1\" class=\"dataframe\">\n  <thead>\n    <tr style=\"text-align: right;\">\n      <th></th>\n      <th>Mutual_Funds</th>\n      <th>Equity_Market</th>\n      <th>Debentures</th>\n      <th>Government_Bonds</th>\n      <th>Fixed_Deposits</th>\n      <th>PPF</th>\n      <th>Gold</th>\n    </tr>\n    <tr>\n      <th>Invest_Monitor</th>\n      <th></th>\n      <th></th>\n      <th></th>\n      <th></th>\n      <th></th>\n      <th></th>\n      <th></th>\n    </tr>\n  </thead>\n  <tbody>\n    <tr>\n      <th>Daily</th>\n      <td>3.500000</td>\n      <td>3.250000</td>\n      <td>3.500000</td>\n      <td>5.250000</td>\n      <td>4.500000</td>\n      <td>2.750000</td>\n      <td>5.250000</td>\n    </tr>\n    <tr>\n      <th>Monthly</th>\n      <td>2.517241</td>\n      <td>3.517241</td>\n      <td>6.137931</td>\n      <td>4.655172</td>\n      <td>3.413793</td>\n      <td>1.827586</td>\n      <td>5.931034</td>\n    </tr>\n  </tbody>\n</table>\n</div>"
          },
          "metadata": {}
        }
      ]
    },
    {
      "cell_type": "markdown",
      "source": [
        "* The frequency of investment monitoring seems to affect the choice of investment avenue. Respondents who monitor their investments daily tend to score higher on mutual funds, debentures, government bonds, fixed deposits, and PPF compared to those who monitor monthly. However, those who monitor monthly score higher when it comes to equity markets and gold."
      ],
      "metadata": {
        "id": "IVKc_ClfAewi"
      }
    },
    {
      "cell_type": "markdown",
      "source": [
        "### Q: Does the reason for choosing equity affect the choice of other investment avenues?\n",
        "* (A: Capital Appreciation, B: Dividend)\n"
      ],
      "metadata": {
        "id": "svhCk_eDAAIx"
      }
    },
    {
      "cell_type": "code",
      "metadata": {
        "source_hash": null,
        "execution_start": 1706553965390,
        "execution_millis": 20,
        "deepnote_to_be_reexecuted": false,
        "cell_id": "1dc67bf0b6b446d0a850e4e78dfb8609",
        "deepnote_cell_type": "code",
        "id": "cwt4JxQ8nEvl",
        "outputId": "fec67b92-1e82-4ce5-c34e-61a1b578c08f"
      },
      "source": [
        "# We will compute the mean scores of all the investment avenues conditioned on the reason for choosing equity.\n",
        "\n",
        "equity_reason_investment_preference = df[df['Reason_Equity'].isin(['Capital Appreciation', 'Dividend'])].groupby('Reason_Equity')[investment_avenues].mean()\n",
        "equity_reason_investment_preference"
      ],
      "execution_count": null,
      "outputs": [
        {
          "output_type": "execute_result",
          "execution_count": 12,
          "data": {
            "application/vnd.deepnote.dataframe.v3+json": {
              "column_count": 7,
              "row_count": 2,
              "columns": [
                {
                  "name": "Mutual_Funds",
                  "dtype": "float64",
                  "stats": {
                    "unique_count": 2,
                    "nan_count": 0,
                    "min": "2.433333333333333",
                    "max": "2.5",
                    "histogram": [
                      {
                        "bin_start": 2.433333333333333,
                        "bin_end": 2.44,
                        "count": 1
                      },
                      {
                        "bin_start": 2.44,
                        "bin_end": 2.4466666666666663,
                        "count": 0
                      },
                      {
                        "bin_start": 2.4466666666666663,
                        "bin_end": 2.453333333333333,
                        "count": 0
                      },
                      {
                        "bin_start": 2.453333333333333,
                        "bin_end": 2.46,
                        "count": 0
                      },
                      {
                        "bin_start": 2.46,
                        "bin_end": 2.466666666666667,
                        "count": 0
                      },
                      {
                        "bin_start": 2.466666666666667,
                        "bin_end": 2.473333333333333,
                        "count": 0
                      },
                      {
                        "bin_start": 2.473333333333333,
                        "bin_end": 2.48,
                        "count": 0
                      },
                      {
                        "bin_start": 2.48,
                        "bin_end": 2.486666666666667,
                        "count": 0
                      },
                      {
                        "bin_start": 2.486666666666667,
                        "bin_end": 2.493333333333333,
                        "count": 0
                      },
                      {
                        "bin_start": 2.493333333333333,
                        "bin_end": 2.5,
                        "count": 1
                      }
                    ]
                  }
                },
                {
                  "name": "Equity_Market",
                  "dtype": "float64",
                  "stats": {
                    "unique_count": 2,
                    "nan_count": 0,
                    "min": "2.875",
                    "max": "3.566666666666667",
                    "histogram": [
                      {
                        "bin_start": 2.875,
                        "bin_end": 2.944166666666667,
                        "count": 1
                      },
                      {
                        "bin_start": 2.944166666666667,
                        "bin_end": 3.013333333333333,
                        "count": 0
                      },
                      {
                        "bin_start": 3.013333333333333,
                        "bin_end": 3.0825,
                        "count": 0
                      },
                      {
                        "bin_start": 3.0825,
                        "bin_end": 3.151666666666667,
                        "count": 0
                      },
                      {
                        "bin_start": 3.151666666666667,
                        "bin_end": 3.220833333333333,
                        "count": 0
                      },
                      {
                        "bin_start": 3.220833333333333,
                        "bin_end": 3.29,
                        "count": 0
                      },
                      {
                        "bin_start": 3.29,
                        "bin_end": 3.359166666666667,
                        "count": 0
                      },
                      {
                        "bin_start": 3.359166666666667,
                        "bin_end": 3.4283333333333337,
                        "count": 0
                      },
                      {
                        "bin_start": 3.4283333333333337,
                        "bin_end": 3.4975,
                        "count": 0
                      },
                      {
                        "bin_start": 3.4975,
                        "bin_end": 3.566666666666667,
                        "count": 1
                      }
                    ]
                  }
                },
                {
                  "name": "Debentures",
                  "dtype": "float64",
                  "stats": {
                    "unique_count": 2,
                    "nan_count": 0,
                    "min": "4.875",
                    "max": "6.033333333333333",
                    "histogram": [
                      {
                        "bin_start": 4.875,
                        "bin_end": 4.990833333333334,
                        "count": 1
                      },
                      {
                        "bin_start": 4.990833333333334,
                        "bin_end": 5.1066666666666665,
                        "count": 0
                      },
                      {
                        "bin_start": 5.1066666666666665,
                        "bin_end": 5.2225,
                        "count": 0
                      },
                      {
                        "bin_start": 5.2225,
                        "bin_end": 5.338333333333333,
                        "count": 0
                      },
                      {
                        "bin_start": 5.338333333333333,
                        "bin_end": 5.454166666666667,
                        "count": 0
                      },
                      {
                        "bin_start": 5.454166666666667,
                        "bin_end": 5.57,
                        "count": 0
                      },
                      {
                        "bin_start": 5.57,
                        "bin_end": 5.685833333333333,
                        "count": 0
                      },
                      {
                        "bin_start": 5.685833333333333,
                        "bin_end": 5.801666666666667,
                        "count": 0
                      },
                      {
                        "bin_start": 5.801666666666667,
                        "bin_end": 5.9174999999999995,
                        "count": 0
                      },
                      {
                        "bin_start": 5.9174999999999995,
                        "bin_end": 6.033333333333333,
                        "count": 1
                      }
                    ]
                  }
                },
                {
                  "name": "Government_Bonds",
                  "dtype": "float64",
                  "stats": {
                    "unique_count": 2,
                    "nan_count": 0,
                    "min": "4.566666666666666",
                    "max": "4.75",
                    "histogram": [
                      {
                        "bin_start": 4.566666666666666,
                        "bin_end": 4.585,
                        "count": 1
                      },
                      {
                        "bin_start": 4.585,
                        "bin_end": 4.6033333333333335,
                        "count": 0
                      },
                      {
                        "bin_start": 4.6033333333333335,
                        "bin_end": 4.621666666666666,
                        "count": 0
                      },
                      {
                        "bin_start": 4.621666666666666,
                        "bin_end": 4.64,
                        "count": 0
                      },
                      {
                        "bin_start": 4.64,
                        "bin_end": 4.658333333333333,
                        "count": 0
                      },
                      {
                        "bin_start": 4.658333333333333,
                        "bin_end": 4.676666666666667,
                        "count": 0
                      },
                      {
                        "bin_start": 4.676666666666667,
                        "bin_end": 4.695,
                        "count": 0
                      },
                      {
                        "bin_start": 4.695,
                        "bin_end": 4.713333333333333,
                        "count": 0
                      },
                      {
                        "bin_start": 4.713333333333333,
                        "bin_end": 4.7316666666666665,
                        "count": 0
                      },
                      {
                        "bin_start": 4.7316666666666665,
                        "bin_end": 4.75,
                        "count": 1
                      }
                    ]
                  }
                },
                {
                  "name": "Fixed_Deposits",
                  "dtype": "float64",
                  "stats": {
                    "unique_count": 2,
                    "nan_count": 0,
                    "min": "3.375",
                    "max": "3.6666666666666665",
                    "histogram": [
                      {
                        "bin_start": 3.375,
                        "bin_end": 3.404166666666667,
                        "count": 1
                      },
                      {
                        "bin_start": 3.404166666666667,
                        "bin_end": 3.433333333333333,
                        "count": 0
                      },
                      {
                        "bin_start": 3.433333333333333,
                        "bin_end": 3.4625,
                        "count": 0
                      },
                      {
                        "bin_start": 3.4625,
                        "bin_end": 3.4916666666666667,
                        "count": 0
                      },
                      {
                        "bin_start": 3.4916666666666667,
                        "bin_end": 3.520833333333333,
                        "count": 0
                      },
                      {
                        "bin_start": 3.520833333333333,
                        "bin_end": 3.55,
                        "count": 0
                      },
                      {
                        "bin_start": 3.55,
                        "bin_end": 3.5791666666666666,
                        "count": 0
                      },
                      {
                        "bin_start": 3.5791666666666666,
                        "bin_end": 3.6083333333333334,
                        "count": 0
                      },
                      {
                        "bin_start": 3.6083333333333334,
                        "bin_end": 3.6374999999999997,
                        "count": 0
                      },
                      {
                        "bin_start": 3.6374999999999997,
                        "bin_end": 3.6666666666666665,
                        "count": 1
                      }
                    ]
                  }
                },
                {
                  "name": "PPF",
                  "dtype": "float64",
                  "stats": {
                    "unique_count": 2,
                    "nan_count": 0,
                    "min": "1.7666666666666666",
                    "max": "3.25",
                    "histogram": [
                      {
                        "bin_start": 1.7666666666666666,
                        "bin_end": 1.915,
                        "count": 1
                      },
                      {
                        "bin_start": 1.915,
                        "bin_end": 2.0633333333333335,
                        "count": 0
                      },
                      {
                        "bin_start": 2.0633333333333335,
                        "bin_end": 2.211666666666667,
                        "count": 0
                      },
                      {
                        "bin_start": 2.211666666666667,
                        "bin_end": 2.36,
                        "count": 0
                      },
                      {
                        "bin_start": 2.36,
                        "bin_end": 2.5083333333333333,
                        "count": 0
                      },
                      {
                        "bin_start": 2.5083333333333333,
                        "bin_end": 2.6566666666666667,
                        "count": 0
                      },
                      {
                        "bin_start": 2.6566666666666667,
                        "bin_end": 2.8049999999999997,
                        "count": 0
                      },
                      {
                        "bin_start": 2.8049999999999997,
                        "bin_end": 2.953333333333333,
                        "count": 0
                      },
                      {
                        "bin_start": 2.953333333333333,
                        "bin_end": 3.1016666666666666,
                        "count": 0
                      },
                      {
                        "bin_start": 3.1016666666666666,
                        "bin_end": 3.25,
                        "count": 1
                      }
                    ]
                  }
                },
                {
                  "name": "Gold",
                  "dtype": "float64",
                  "stats": {
                    "unique_count": 2,
                    "nan_count": 0,
                    "min": "5.966666666666667",
                    "max": "6.375",
                    "histogram": [
                      {
                        "bin_start": 5.966666666666667,
                        "bin_end": 6.0075,
                        "count": 1
                      },
                      {
                        "bin_start": 6.0075,
                        "bin_end": 6.048333333333334,
                        "count": 0
                      },
                      {
                        "bin_start": 6.048333333333334,
                        "bin_end": 6.089166666666666,
                        "count": 0
                      },
                      {
                        "bin_start": 6.089166666666666,
                        "bin_end": 6.13,
                        "count": 0
                      },
                      {
                        "bin_start": 6.13,
                        "bin_end": 6.170833333333333,
                        "count": 0
                      },
                      {
                        "bin_start": 6.170833333333333,
                        "bin_end": 6.211666666666667,
                        "count": 0
                      },
                      {
                        "bin_start": 6.211666666666667,
                        "bin_end": 6.2525,
                        "count": 0
                      },
                      {
                        "bin_start": 6.2525,
                        "bin_end": 6.293333333333333,
                        "count": 0
                      },
                      {
                        "bin_start": 6.293333333333333,
                        "bin_end": 6.3341666666666665,
                        "count": 0
                      },
                      {
                        "bin_start": 6.3341666666666665,
                        "bin_end": 6.375,
                        "count": 1
                      }
                    ]
                  }
                },
                {
                  "name": "_deepnote_index_column",
                  "dtype": "object"
                }
              ],
              "rows": [
                {
                  "Mutual_Funds": 2.433333333333333,
                  "Equity_Market": 3.566666666666667,
                  "Debentures": 6.033333333333333,
                  "Government_Bonds": 4.566666666666666,
                  "Fixed_Deposits": 3.6666666666666665,
                  "PPF": 1.7666666666666666,
                  "Gold": 5.966666666666667,
                  "_deepnote_index_column": "Capital Appreciation"
                },
                {
                  "Mutual_Funds": 2.5,
                  "Equity_Market": 2.875,
                  "Debentures": 4.875,
                  "Government_Bonds": 4.75,
                  "Fixed_Deposits": 3.375,
                  "PPF": 3.25,
                  "Gold": 6.375,
                  "_deepnote_index_column": "Dividend"
                }
              ]
            },
            "text/plain": "                      Mutual_Funds  Equity_Market  Debentures  \\\nReason_Equity                                                   \nCapital Appreciation      2.433333       3.566667    6.033333   \nDividend                  2.500000       2.875000    4.875000   \n\n                      Government_Bonds  Fixed_Deposits       PPF      Gold  \nReason_Equity                                                               \nCapital Appreciation          4.566667        3.666667  1.766667  5.966667  \nDividend                      4.750000        3.375000  3.250000  6.375000  ",
            "text/html": "<div>\n<style scoped>\n    .dataframe tbody tr th:only-of-type {\n        vertical-align: middle;\n    }\n\n    .dataframe tbody tr th {\n        vertical-align: top;\n    }\n\n    .dataframe thead th {\n        text-align: right;\n    }\n</style>\n<table border=\"1\" class=\"dataframe\">\n  <thead>\n    <tr style=\"text-align: right;\">\n      <th></th>\n      <th>Mutual_Funds</th>\n      <th>Equity_Market</th>\n      <th>Debentures</th>\n      <th>Government_Bonds</th>\n      <th>Fixed_Deposits</th>\n      <th>PPF</th>\n      <th>Gold</th>\n    </tr>\n    <tr>\n      <th>Reason_Equity</th>\n      <th></th>\n      <th></th>\n      <th></th>\n      <th></th>\n      <th></th>\n      <th></th>\n      <th></th>\n    </tr>\n  </thead>\n  <tbody>\n    <tr>\n      <th>Capital Appreciation</th>\n      <td>2.433333</td>\n      <td>3.566667</td>\n      <td>6.033333</td>\n      <td>4.566667</td>\n      <td>3.666667</td>\n      <td>1.766667</td>\n      <td>5.966667</td>\n    </tr>\n    <tr>\n      <th>Dividend</th>\n      <td>2.500000</td>\n      <td>2.875000</td>\n      <td>4.875000</td>\n      <td>4.750000</td>\n      <td>3.375000</td>\n      <td>3.250000</td>\n      <td>6.375000</td>\n    </tr>\n  </tbody>\n</table>\n</div>"
          },
          "metadata": {}
        }
      ]
    },
    {
      "cell_type": "markdown",
      "source": [
        "* The reason for choosing equity (whether for capital appreciation or dividends) does affect the choice of other investment avenues. Those who choose equity for capital appreciation tend to score higher on equity markets, debentures, and gold, while those who choose it for dividends score higher on government bonds, fixed deposits, and PPF."
      ],
      "metadata": {
        "id": "8f3dJPI5AaCj"
      }
    },
    {
      "cell_type": "markdown",
      "source": [
        "### Q: Does the savings objective influence the choice of investment duration?\n",
        "* (A: Retirement Plan, B: Health Care)\n"
      ],
      "metadata": {
        "id": "KeXZocxqAFmz"
      }
    },
    {
      "cell_type": "code",
      "metadata": {
        "source_hash": null,
        "execution_start": 1706553976996,
        "execution_millis": 11,
        "deepnote_to_be_reexecuted": false,
        "cell_id": "2125d40c47954e9dad0fc3a95a0ba6a0",
        "deepnote_cell_type": "code",
        "id": "Z2ECgyyDnEvl",
        "outputId": "dc7668bd-f88a-4209-ec2c-069706aef142"
      },
      "source": [
        "# For this, we'll create a cross-table frequency distribution of 'What are your savings objectives?' and 'Duration'.\n",
        "\n",
        "savings_duration = pd.crosstab(df['What are your savings objectives?'],\n",
        "                               df['Duration'])\n",
        "savings_duration"
      ],
      "execution_count": null,
      "outputs": [
        {
          "output_type": "execute_result",
          "execution_count": 13,
          "data": {
            "application/vnd.deepnote.dataframe.v3+json": {
              "column_count": 4,
              "row_count": 3,
              "columns": [
                {
                  "name": "1-3 years",
                  "dtype": "int64",
                  "stats": {
                    "unique_count": 3,
                    "nan_count": 0,
                    "min": "3",
                    "max": "9",
                    "histogram": [
                      {
                        "bin_start": 3,
                        "bin_end": 3.6,
                        "count": 1
                      },
                      {
                        "bin_start": 3.6,
                        "bin_end": 4.2,
                        "count": 0
                      },
                      {
                        "bin_start": 4.2,
                        "bin_end": 4.8,
                        "count": 0
                      },
                      {
                        "bin_start": 4.8,
                        "bin_end": 5.4,
                        "count": 0
                      },
                      {
                        "bin_start": 5.4,
                        "bin_end": 6,
                        "count": 0
                      },
                      {
                        "bin_start": 6,
                        "bin_end": 6.6,
                        "count": 1
                      },
                      {
                        "bin_start": 6.6,
                        "bin_end": 7.2,
                        "count": 0
                      },
                      {
                        "bin_start": 7.2,
                        "bin_end": 7.8,
                        "count": 0
                      },
                      {
                        "bin_start": 7.8,
                        "bin_end": 8.399999999999999,
                        "count": 0
                      },
                      {
                        "bin_start": 8.399999999999999,
                        "bin_end": 9,
                        "count": 1
                      }
                    ]
                  }
                },
                {
                  "name": "3-5 years",
                  "dtype": "int64",
                  "stats": {
                    "unique_count": 3,
                    "nan_count": 0,
                    "min": "0",
                    "max": "13",
                    "histogram": [
                      {
                        "bin_start": 0,
                        "bin_end": 1.3,
                        "count": 1
                      },
                      {
                        "bin_start": 1.3,
                        "bin_end": 2.6,
                        "count": 0
                      },
                      {
                        "bin_start": 2.6,
                        "bin_end": 3.9000000000000004,
                        "count": 0
                      },
                      {
                        "bin_start": 3.9000000000000004,
                        "bin_end": 5.2,
                        "count": 0
                      },
                      {
                        "bin_start": 5.2,
                        "bin_end": 6.5,
                        "count": 1
                      },
                      {
                        "bin_start": 6.5,
                        "bin_end": 7.800000000000001,
                        "count": 0
                      },
                      {
                        "bin_start": 7.800000000000001,
                        "bin_end": 9.1,
                        "count": 0
                      },
                      {
                        "bin_start": 9.1,
                        "bin_end": 10.4,
                        "count": 0
                      },
                      {
                        "bin_start": 10.4,
                        "bin_end": 11.700000000000001,
                        "count": 0
                      },
                      {
                        "bin_start": 11.700000000000001,
                        "bin_end": 13,
                        "count": 1
                      }
                    ]
                  }
                },
                {
                  "name": "Less than 1 year",
                  "dtype": "int64",
                  "stats": {
                    "unique_count": 2,
                    "nan_count": 0,
                    "min": "0",
                    "max": "2",
                    "histogram": [
                      {
                        "bin_start": 0,
                        "bin_end": 0.2,
                        "count": 2
                      },
                      {
                        "bin_start": 0.2,
                        "bin_end": 0.4,
                        "count": 0
                      },
                      {
                        "bin_start": 0.4,
                        "bin_end": 0.6000000000000001,
                        "count": 0
                      },
                      {
                        "bin_start": 0.6000000000000001,
                        "bin_end": 0.8,
                        "count": 0
                      },
                      {
                        "bin_start": 0.8,
                        "bin_end": 1,
                        "count": 0
                      },
                      {
                        "bin_start": 1,
                        "bin_end": 1.2000000000000002,
                        "count": 0
                      },
                      {
                        "bin_start": 1.2000000000000002,
                        "bin_end": 1.4000000000000001,
                        "count": 0
                      },
                      {
                        "bin_start": 1.4000000000000001,
                        "bin_end": 1.6,
                        "count": 0
                      },
                      {
                        "bin_start": 1.6,
                        "bin_end": 1.8,
                        "count": 0
                      },
                      {
                        "bin_start": 1.8,
                        "bin_end": 2,
                        "count": 1
                      }
                    ]
                  }
                },
                {
                  "name": "More than 5 years",
                  "dtype": "int64",
                  "stats": {
                    "unique_count": 2,
                    "nan_count": 0,
                    "min": "0",
                    "max": "1",
                    "histogram": [
                      {
                        "bin_start": 0,
                        "bin_end": 0.1,
                        "count": 2
                      },
                      {
                        "bin_start": 0.1,
                        "bin_end": 0.2,
                        "count": 0
                      },
                      {
                        "bin_start": 0.2,
                        "bin_end": 0.30000000000000004,
                        "count": 0
                      },
                      {
                        "bin_start": 0.30000000000000004,
                        "bin_end": 0.4,
                        "count": 0
                      },
                      {
                        "bin_start": 0.4,
                        "bin_end": 0.5,
                        "count": 0
                      },
                      {
                        "bin_start": 0.5,
                        "bin_end": 0.6000000000000001,
                        "count": 0
                      },
                      {
                        "bin_start": 0.6000000000000001,
                        "bin_end": 0.7000000000000001,
                        "count": 0
                      },
                      {
                        "bin_start": 0.7000000000000001,
                        "bin_end": 0.8,
                        "count": 0
                      },
                      {
                        "bin_start": 0.8,
                        "bin_end": 0.9,
                        "count": 0
                      },
                      {
                        "bin_start": 0.9,
                        "bin_end": 1,
                        "count": 1
                      }
                    ]
                  }
                },
                {
                  "name": "_deepnote_index_column",
                  "dtype": "object"
                }
              ],
              "rows": [
                {
                  "1-3 years": 3,
                  "3-5 years": 0,
                  "Less than 1 year": 0,
                  "More than 5 years": 0,
                  "_deepnote_index_column": "Education"
                },
                {
                  "1-3 years": 6,
                  "3-5 years": 6,
                  "Less than 1 year": 0,
                  "More than 5 years": 1,
                  "_deepnote_index_column": "Health Care"
                },
                {
                  "1-3 years": 9,
                  "3-5 years": 13,
                  "Less than 1 year": 2,
                  "More than 5 years": 0,
                  "_deepnote_index_column": "Retirement Plan"
                }
              ]
            },
            "text/plain": "Duration                           1-3 years  3-5 years  Less than 1 year  \\\nWhat are your savings objectives?                                           \nEducation                                  3          0                 0   \nHealth Care                                6          6                 0   \nRetirement Plan                            9         13                 2   \n\nDuration                           More than 5 years  \nWhat are your savings objectives?                     \nEducation                                          0  \nHealth Care                                        1  \nRetirement Plan                                    0  ",
            "text/html": "<div>\n<style scoped>\n    .dataframe tbody tr th:only-of-type {\n        vertical-align: middle;\n    }\n\n    .dataframe tbody tr th {\n        vertical-align: top;\n    }\n\n    .dataframe thead th {\n        text-align: right;\n    }\n</style>\n<table border=\"1\" class=\"dataframe\">\n  <thead>\n    <tr style=\"text-align: right;\">\n      <th>Duration</th>\n      <th>1-3 years</th>\n      <th>3-5 years</th>\n      <th>Less than 1 year</th>\n      <th>More than 5 years</th>\n    </tr>\n    <tr>\n      <th>What are your savings objectives?</th>\n      <th></th>\n      <th></th>\n      <th></th>\n      <th></th>\n    </tr>\n  </thead>\n  <tbody>\n    <tr>\n      <th>Education</th>\n      <td>3</td>\n      <td>0</td>\n      <td>0</td>\n      <td>0</td>\n    </tr>\n    <tr>\n      <th>Health Care</th>\n      <td>6</td>\n      <td>6</td>\n      <td>0</td>\n      <td>1</td>\n    </tr>\n    <tr>\n      <th>Retirement Plan</th>\n      <td>9</td>\n      <td>13</td>\n      <td>2</td>\n      <td>0</td>\n    </tr>\n  </tbody>\n</table>\n</div>"
          },
          "metadata": {}
        }
      ]
    },
    {
      "cell_type": "markdown",
      "source": [
        "* The savings objective influences the choice of investment duration. Those with the objective of a retirement plan or healthcare most frequently opted for an investment duration of 1-3 years, followed by 3-5 years. Those with an education objective only opted for a duration of 1-3 years."
      ],
      "metadata": {
        "id": "KzTOhZ11AUne"
      }
    },
    {
      "cell_type": "markdown",
      "source": [
        "### Q: Does the factor considered when choosing an investment affect the expected returns?\n",
        "* (A: Returns, B: Locking Period)\n"
      ],
      "metadata": {
        "id": "8W0JoaTuAKYS"
      }
    },
    {
      "cell_type": "code",
      "metadata": {
        "source_hash": null,
        "execution_start": 1706553989079,
        "execution_millis": 13,
        "deepnote_to_be_reexecuted": false,
        "cell_id": "54693b92b4b94e0f9ec47edeb239b295",
        "deepnote_cell_type": "code",
        "id": "jHGMi2qmnEvl",
        "outputId": "99179584-7832-4e29-cd2c-6ef880d27ead"
      },
      "source": [
        "# For this, we'll measure the distribution of expected returns for each group.\n",
        "\n",
        "factor_returns = df[df['Factor'].isin(['Returns', 'Locking Period'])]['Expect'].value_counts(normalize=True)\n",
        "factor_returns"
      ],
      "execution_count": null,
      "outputs": [
        {
          "output_type": "execute_result",
          "execution_count": 14,
          "data": {
            "text/plain": "20%-30%    0.769231\n30%-40%    0.115385\n10%-20%    0.115385\nName: Expect, dtype: float64"
          },
          "metadata": {}
        }
      ]
    },
    {
      "cell_type": "markdown",
      "metadata": {
        "cell_id": "b7c46f547ac94912875fcaf2bb787917",
        "deepnote_cell_type": "text-cell-p",
        "id": "Okt8VPffnEvl"
      },
      "source": [
        "* The factor considered when choosing an investment (whether returns or locking period) does affect the expected returns. Most respondents who consider returns or locking periods as their deciding factor expect returns in the range of 20%-30%. Fewer respondents in these groups expect returns in the 10%-20% and 30%-40% ranges.\n",
        "\n",
        "These insights into investor behavior can help financial advisors and institutions tailor their communications and offerings more effectively. They indicate potential trends and preferences that can be taken into account when designing investment products and services, as well as marketing and engagement strategies."
      ]
    },
    {
      "cell_type": "markdown",
      "source": [
        "# **Inferential & Hypothesis Testing Analysis**\n",
        "Let's start answering these inferential questions using hypothesis testing"
      ],
      "metadata": {
        "id": "lRswwbP94um8"
      }
    },
    {
      "cell_type": "markdown",
      "source": [
        "### Q: Can we infer that people who choose Capital Appreciation as their investment objective are more likely to invest in Equity Market?\n"
      ],
      "metadata": {
        "id": "5RF-NNCaBU9K"
      }
    },
    {
      "cell_type": "code",
      "metadata": {
        "source_hash": null,
        "execution_start": 1706554412656,
        "execution_millis": 397,
        "deepnote_to_be_reexecuted": false,
        "cell_id": "7d6c07ac5059455b980699f760667c58",
        "deepnote_cell_type": "code",
        "id": "7qn4fzwenEvq",
        "outputId": "16e4f100-304f-4fb4-c2ed-a43d88b77a55"
      },
      "source": [
        "from scipy.stats import ttest_ind\n",
        "# We'll use the t-test.\n",
        "group1 = df[df['Objective'] == 'Capital Appreciation']['Equity_Market']\n",
        "group2 = df[df['Objective'] != 'Capital Appreciation']['Equity_Market']\n",
        "\n",
        "t_stat, p_val = ttest_ind(group1, group2, nan_policy='omit')\n",
        "t_stat, p_val"
      ],
      "execution_count": null,
      "outputs": [
        {
          "output_type": "execute_result",
          "execution_count": 20,
          "data": {
            "text/plain": "(0.18797923971455616, 0.8518931592985288)"
          },
          "metadata": {}
        }
      ]
    },
    {
      "cell_type": "markdown",
      "source": [
        "* Considering an α level of 0.05, the p-value is 0.85, which is greater than α. Hence, we fail to reject the null hypothesis.The data suggest that there is no significant difference in the inclination to invest in the Equity Market between people who choose Capital Appreciation as their investment objective and those who do not (p = 0.8519)."
      ],
      "metadata": {
        "id": "cBKVzjIaBrqN"
      }
    },
    {
      "cell_type": "markdown",
      "source": [
        "### Q: Can we infer that people who consider Returns as an important factor are more likely to choose Mutual Funds as their investment avenue?\n"
      ],
      "metadata": {
        "id": "dT7Hxw68CUG5"
      }
    },
    {
      "cell_type": "code",
      "metadata": {
        "source_hash": null,
        "execution_start": 1706554431973,
        "execution_millis": 8,
        "deepnote_to_be_reexecuted": false,
        "cell_id": "45e14d9831e643a8b5419f484bd4390c",
        "deepnote_cell_type": "code",
        "id": "bAjgryxVnEvr",
        "outputId": "844e67e6-cba2-4ddf-fa86-0a210b5a767e"
      },
      "source": [
        "group1 = df[df['Factor'] == 'Returns']['Mutual_Funds']\n",
        "group2 = df[df['Factor'] != 'Returns']['Mutual_Funds']\n",
        "\n",
        "t_stat, p_val = ttest_ind(group1, group2, nan_policy='omit')\n",
        "t_stat, p_val"
      ],
      "execution_count": null,
      "outputs": [
        {
          "output_type": "execute_result",
          "execution_count": 21,
          "data": {
            "text/plain": "(-1.3075248129921782, 0.1988905223856125)"
          },
          "metadata": {}
        }
      ]
    },
    {
      "cell_type": "markdown",
      "source": [
        "* Considering an α level of 0.05, the p-value is 0.19, which is greater than α. We fail to reject the null hypothesis.This test does not support the claim that people who consider Returns as an important factor are more likely to choose Mutual Funds as their investment avenue."
      ],
      "metadata": {
        "id": "NnzZ0mndCdoO"
      }
    },
    {
      "cell_type": "markdown",
      "source": [
        "### Q: Can we infer that people who choose Safe Investment as their reason for investing in bonds are more likely to be older?\n"
      ],
      "metadata": {
        "id": "AUPNACclC6XI"
      }
    },
    {
      "cell_type": "code",
      "metadata": {
        "source_hash": null,
        "execution_start": 1706554445817,
        "execution_millis": 23,
        "deepnote_to_be_reexecuted": false,
        "cell_id": "094566b7deb64b829e37c56dc94f77ba",
        "deepnote_cell_type": "code",
        "id": "lXvvqzEWnEvr",
        "outputId": "e48a6349-db81-4251-c156-e437e89f4567"
      },
      "source": [
        "group1 = df[df['Reason_Bonds'] == 'Safe Investment']['age']\n",
        "group2 = df[df['Reason_Bonds'] != 'Safe Investment']['age']\n",
        "\n",
        "t_stat, p_val = ttest_ind(group1, group2, nan_policy='omit')\n",
        "t_stat, p_val"
      ],
      "execution_count": null,
      "outputs": [
        {
          "output_type": "execute_result",
          "execution_count": 22,
          "data": {
            "text/plain": "(-0.13105547417813462, 0.896422814749372)"
          },
          "metadata": {}
        }
      ]
    },
    {
      "cell_type": "markdown",
      "source": [
        "* Considering an α level of 0.05, the p-value is 0.896, which is greater than α. This means that the test failed to reject the null hypothesis.So, We do not have enough evidence to claim that people who choose Safe Investment as their reason for investing in bonds are more likely to be older (p = 0.8964)."
      ],
      "metadata": {
        "id": "zyZ-jsCqDBpb"
      }
    },
    {
      "cell_type": "markdown",
      "source": [
        "### Q: Can we infer that people who get their investment information from Financial Consultants are more likely to invest in Mutual Funds?\n"
      ],
      "metadata": {
        "id": "ht-HUE-XDTwv"
      }
    },
    {
      "cell_type": "code",
      "metadata": {
        "source_hash": null,
        "execution_start": 1706554465139,
        "execution_millis": 52,
        "deepnote_to_be_reexecuted": false,
        "cell_id": "69cd44f91844405bb0815c73413262e4",
        "deepnote_cell_type": "code",
        "id": "DNimZsgjnEvs",
        "outputId": "2fadb7fb-3487-4fbb-b4a1-600a8182233d"
      },
      "source": [
        "group1 = df[df['Source'] == 'Financial Consultants']['Mutual_Funds']\n",
        "group2 = df[df['Source'] != 'Financial Consultants']['Mutual_Funds']\n",
        "\n",
        "t_stat, p_val = ttest_ind(group1, group2, nan_policy='omit')\n",
        "t_stat, p_val"
      ],
      "execution_count": null,
      "outputs": [
        {
          "output_type": "execute_result",
          "execution_count": 23,
          "data": {
            "text/plain": "(0.5880852849453992, 0.5599541584706993)"
          },
          "metadata": {}
        }
      ]
    },
    {
      "cell_type": "markdown",
      "source": [
        "* Considering an α level of 0.05, the p-value is 0.56, which is greater than α. Hence, we fail to reject the null hypothesis.The data does not support a significant difference in propensity to invest in Mutual Funds between people who get their investment information from Financial Consultants and those who do not (p = 0.5599)."
      ],
      "metadata": {
        "id": "pwMIy9j4C0-p"
      }
    },
    {
      "cell_type": "markdown",
      "source": [
        "### Q: Can we infer that people who have a savings objective of Wealth Creation are more likely to monitor their investments weekly?\n"
      ],
      "metadata": {
        "id": "PG1E_cweD6SY"
      }
    },
    {
      "cell_type": "code",
      "metadata": {
        "source_hash": "716c6ac3",
        "execution_start": 1706554535083,
        "execution_millis": 583,
        "deepnote_to_be_reexecuted": false,
        "cell_id": "1f5e97acb0514135939ca85f70b5ee06",
        "deepnote_cell_type": "code",
        "id": "V75PZSYRnEvs",
        "outputId": "56692721-11c3-4eb4-a7d5-14baf4f32f83",
        "colab": {
          "base_uri": "https://localhost:8080/"
        }
      },
      "source": [
        "group1 = df[(df['What are your savings objectives?'] == 'Wealth Creation') & (df['Invest_Monitor'] == 'Weekly')]\n",
        "group2 = df[(df['What are your savings objectives?'] != 'Wealth Creation') & (df['Invest_Monitor'] == 'Weekly')]\n",
        "\n",
        "# We can't use t-test for frequencies, we'll use a chi-squared test of independence instead.\n",
        "from scipy.stats import chi2_contingency\n",
        "\n",
        "# Create a contingency table\n",
        "contingency_table = pd.crosstab(df['What are your savings objectives?'], df['Invest_Monitor'] == 'Weekly')\n",
        "chi2, p_val, dof, _ = chi2_contingency(contingency_table)\n",
        "chi2, p_val"
      ],
      "execution_count": null,
      "outputs": [
        {
          "output_type": "execute_result",
          "data": {
            "text/plain": [
              "(3.5031635031635036, 0.17349929351177568)"
            ]
          },
          "metadata": {},
          "execution_count": 7
        }
      ]
    },
    {
      "cell_type": "markdown",
      "source": [
        "* The chi-squared test of independence was used to assess the association between savings objectives and the frequency of investment monitoring. The results did not show a strong association between having a savings objective of Wealth Creation and the likelihood of monitoring investments weekly (p = 0.1735).\n",
        "\n",
        "In summary, the results of the hypothesis testing indicate that there were no significant findings to support the proposed claims in the questions. It's important to note that the lack of significant results does not necessarily disprove the hypotheses, but rather it suggests that, based on the data provided, we do not have sufficient evidence to confirm the claims."
      ],
      "metadata": {
        "id": "8nl9Y17lDyiw"
      }
    },
    {
      "cell_type": "markdown",
      "source": [
        "### Q: Can we infer that younger people are more likely to invest in Equity Market based on their age?\n"
      ],
      "metadata": {
        "id": "vV3ETRMNG0SH"
      }
    },
    {
      "cell_type": "code",
      "source": [
        "# Load necessary libraries\n",
        "from scipy.stats import ttest_ind\n",
        "group1 = df[df['age'] < 30]['Equity_Market']  # Young people\n",
        "group2 = df[df['age'] >= 30]['Equity_Market']  # Not so young people\n",
        "\n",
        "t_stat, p_val = ttest_ind(group1, group2, nan_policy='omit')  # Perform t-test\n",
        "t_stat, p_val"
      ],
      "metadata": {
        "colab": {
          "base_uri": "https://localhost:8080/"
        },
        "id": "q4w-uH5pG7L_",
        "outputId": "13dec780-6c41-4e87-b61f-421418191360"
      },
      "execution_count": null,
      "outputs": [
        {
          "output_type": "execute_result",
          "data": {
            "text/plain": [
              "(-1.32320055394322, 0.1936756383000466)"
            ]
          },
          "metadata": {},
          "execution_count": 9
        }
      ]
    },
    {
      "cell_type": "markdown",
      "source": [
        "* Considering a 5% significance level, the p-value (0.19) is greater than 0.05. Hence, we fail to reject the null hypothesis.\n",
        "So the data does not provide enough evidence to support the claim that younger people are more likely to invest in Equity Market based on their age.Thus there is no statistically significant evidence to infer that younger people are more likely to invest in Equity Market based on their age. The p-value from the t-test was 0.1937, which is greater than the significance level alpha (0.05), leading us to not reject the null hypothesis."
      ],
      "metadata": {
        "id": "5ixc_1s9HXMJ"
      }
    },
    {
      "cell_type": "markdown",
      "source": [
        "### Q: Can we infer that people who choose Mutual Funds as their investment avenue are more likely to have a savings objective of Retirement Plan?"
      ],
      "metadata": {
        "id": "eyhGsRilHjZA"
      }
    },
    {
      "cell_type": "code",
      "source": [
        "# Mutual_Funds column contains scores, not categorical data. So the right approach would be considering score values as a measure of preference.\n",
        "# Define groups accordingly: those whose savings objective is 'Retirement Plan' and the rest.\n",
        "\n",
        "group1 = df[df['What are your savings objectives?'] == 'Retirement Plan']['Mutual_Funds']\n",
        "group2 = df[df['What are your savings objectives?'] != 'Retirement Plan']['Mutual_Funds']\n",
        "\n",
        "# Perform t-test\n",
        "t_stat, p_val = ttest_ind(group1, group2, nan_policy='omit')\n",
        "t_stat, p_val"
      ],
      "metadata": {
        "colab": {
          "base_uri": "https://localhost:8080/"
        },
        "id": "MFMZ95sGHw8p",
        "outputId": "369784be-0435-4000-c6e7-79889584e134"
      },
      "execution_count": null,
      "outputs": [
        {
          "output_type": "execute_result",
          "data": {
            "text/plain": [
              "(0.48043849487377727, 0.6336700322293207)"
            ]
          },
          "metadata": {},
          "execution_count": 11
        }
      ]
    },
    {
      "cell_type": "markdown",
      "source": [
        "* The p-value is greater than 0.05, we fail to reject the null hypothesis.We could not perform a chi-squared test for the second question (Mutual Funds and savings objective of Retirement Plan) as the cross-tabulation led to an error due to incorrect preprocessing of the data. However, by adjusting the approach to compare Mutual Funds scores between different savings objectives, the resulting p-value was 0.6337, indicating no significant evidence to support the claim."
      ],
      "metadata": {
        "id": "-ue2JVGAIIHi"
      }
    },
    {
      "cell_type": "markdown",
      "source": [
        "### Q: Can we infer that people who monitor their investments daily are more likely to expect higher returns?\n"
      ],
      "metadata": {
        "id": "Z7FuPydWIPFf"
      }
    },
    {
      "cell_type": "code",
      "metadata": {
        "source_hash": "185ca583",
        "execution_start": 1706554690126,
        "execution_millis": 22,
        "deepnote_to_be_reexecuted": false,
        "cell_id": "aba8236df146486cb37eed83df96d2ad",
        "deepnote_cell_type": "code",
        "id": "6xGzIs4jnEvu",
        "outputId": "5796d5b3-8091-423b-8cb4-108ca88ca3bb",
        "colab": {
          "base_uri": "https://localhost:8080/"
        }
      },
      "source": [
        "# Please note that 'Expect' is a categorical variable so we can't use the t-test. Instead, we will use the Chi-square test of independence.\n",
        "\n",
        "from scipy.stats import chi2_contingency\n",
        "\n",
        "# Create a cross-tabulation\n",
        "contingency_table = pd.crosstab(df['Invest_Monitor'], df['Expect'])\n",
        "\n",
        "# Conduct the chi-square test of independence\n",
        "chi2, p_val, dof, _ = chi2_contingency(contingency_table)\n",
        "\n",
        "chi2, p_val"
      ],
      "execution_count": null,
      "outputs": [
        {
          "output_type": "execute_result",
          "data": {
            "text/plain": [
              "(4.387931034482759, 0.35604353595041954)"
            ]
          },
          "metadata": {},
          "execution_count": 12
        }
      ]
    },
    {
      "cell_type": "markdown",
      "source": [
        "* The p-value is greater than 0.05, so we fail to reject the null hypothesis.This means we do not have enough statistical evidence to infer that people who monitor their investments daily are more likely to expect higher returns.We faced an issue with the fourth question (Fixed Deposits and consideration of Locking Period as a factor) because there was only one observation for the group considering Locking Period. With such a small sample size in one of the groups, we couldn't perform a t-test. Descriptive statistics highlighted that one respondent who considered Locking Period important scored 5 for Fixed Deposits, while the mean score for those not considering Locking Period was approximately 3.54.\n"
      ],
      "metadata": {
        "id": "7OhnpPphIZDo"
      }
    },
    {
      "cell_type": "markdown",
      "source": [
        "### Q: Can we infer that people who have a savings objective of Health Care are less likely to invest in Government Bonds?"
      ],
      "metadata": {
        "id": "WPrxy_f0IxB3"
      }
    },
    {
      "cell_type": "code",
      "metadata": {
        "source_hash": "dbcd5249",
        "execution_start": 1706554780034,
        "execution_millis": 8,
        "deepnote_to_be_reexecuted": false,
        "cell_id": "2cd28935f49e4774b2dc3de08c30816a",
        "deepnote_cell_type": "code",
        "id": "ppNR7OGJnEvx",
        "outputId": "3f63256a-8a5c-4393-89bc-7f52c3925e54"
      },
      "source": [
        "# We'll divide the data into two groups based on the savings objective of Health Care and compare their scores for Government Bonds\n",
        "\n",
        "health_care_group = df[df['What are your savings objectives?'] == 'Health Care']['Government_Bonds']\n",
        "other_group = df[df['What are your savings objectives?'] != 'Health Care']['Government_Bonds']\n",
        "\n",
        "# Perform t-test\n",
        "t_stat, p_val = ttest_ind(health_care_group, other_group, nan_policy='omit')\n",
        "t_stat, p_val"
      ],
      "execution_count": null,
      "outputs": [
        {
          "output_type": "execute_result",
          "execution_count": 11,
          "data": {
            "text/plain": "(0.8726631125507032, 0.3883277624243092)"
          },
          "metadata": {}
        }
      ]
    },
    {
      "cell_type": "markdown",
      "source": [
        "* Lastly, the t-test for the fifth question (savings objective of Health Care and investment in Government Bonds) resulted in a p-value of 0.3883. This indicates that there is no significant evidence to support the claim that people with a Health Care savings objective are less likely to invest in Government Bonds.\n",
        "\n",
        "Hence, none of the inferential questions could be confirmed with statistical significance given the data available and the tests performed."
      ],
      "metadata": {
        "id": "4E6jTHQVI3fe"
      }
    },
    {
      "cell_type": "markdown",
      "metadata": {
        "color": "purple",
        "cell_id": "e60158cca0154dd0999b098b945f0113",
        "deepnote_cell_type": "text-cell-callout",
        "id": "p6cRx061nEvy"
      },
      "source": [
        "# **Findings & Recommendations**"
      ]
    },
    {
      "cell_type": "markdown",
      "metadata": {
        "cell_id": "5be75a6ba5c9439192f282b852731894",
        "deepnote_cell_type": "text-cell-p",
        "id": "WrBW3THTnEvy"
      },
      "source": [
        "Based on the extensive data analysis conducted, here are the key insights we have derived:\n",
        "\n",
        "1. **Younger vs. Equity Market**: Despite observing a trend towards younger people preferring to invest in the equity market, the statistical analysis did not provide significant evidence to confirm this. The data suggests no significant difference in investment preference related to age.\n",
        "\n",
        "2. **Mutual Funds and Retirement Plan**: The analysis suggested no significant difference in the preference for Mutual Funds between those who have 'Retirement Plan' as their savings objective and those who don't.\n",
        "\n",
        "3. **Investment Monitoring and Expected Returns**: People who monitor their investments daily are not significantly more likely to expect higher returns based on the chi-squared test of independence.\n",
        "\n",
        "4. **Fixed Deposits and Locking Period**: While only one respondent indicated 'Locking Period' as an important factor, this individual showed a high preference for Fixed Deposits with a score of 5. However, without a larger sample size considering the Locking Period, we cannot make general inferences.\n",
        "\n",
        "5. **Healthcare Objective and Government Bonds**: Those considering Health Care as their savings objective did not show a lesser inclination to invest in Government Bonds. However, this finding should be considered preliminary, and more comprehensive statistical tests would be required to confirm.\n",
        "\n",
        "Based on these insights, the following recommendations can be made for data-driven decision making:\n",
        "\n",
        "- The investment preferences cannot be biased solely based on age, and it is recommended to consider other demographic factors or personal preferences, including risk appetite, investment horizon, etc., that may influence investment choices.\n",
        "\n",
        "- Customer investment monitoring frequency didn't provide evidence of a relationship with the expectation of returns. Thus, investment firms can potentially educate clients about the importance of monitoring frequency and communicating realistic return expectations.\n",
        "\n",
        "- The relationship between investment in Fixed Deposits and the importance of the Locking Period could not be explored comprehensively due to the small sample size considering the Locking Period. Hence, organizations could focus on gathering more data on this aspect to further analyze and gain insights.\n",
        "\n",
        "- Contrary to the common perception, people with a Health Care saving objective did not shy away from investing in Government Bonds. This implies the importance of considering individual savings objectives while suggesting investment avenues to customers rather than relying on general assumptions.\n",
        "\n",
        "In conclusion, the above insights and recommendations should be considered while making data-driven decisions in a financial context. However, it's vital to continuously collect data and update analyses to ensure the most accurate and comprehensive perspective."
      ]
    },
    {
      "cell_type": "markdown",
      "source": [
        "# **Analysis Done!**"
      ],
      "metadata": {
        "id": "xvmyV7Quvn_x"
      }
    }
  ],
  "nbformat": 4,
  "nbformat_minor": 0,
  "metadata": {
    "deepnote_persisted_session": {
      "createdAt": "2024-01-29T18:54:27.034Z"
    },
    "deepnote_notebook_id": "f18ea9414fac429abdd3560b8eb90fdd",
    "deepnote_execution_queue": [],
    "colab": {
      "provenance": []
    },
    "language_info": {
      "name": "python"
    },
    "kernelspec": {
      "name": "python3",
      "display_name": "Python 3"
    }
  }
}